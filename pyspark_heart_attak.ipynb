{
  "nbformat": 4,
  "nbformat_minor": 0,
  "metadata": {
    "colab": {
      "provenance": []
    },
    "kernelspec": {
      "name": "python3",
      "display_name": "Python 3"
    },
    "language_info": {
      "name": "python"
    }
  },
  "cells": [
    {
      "cell_type": "code",
      "execution_count": 110,
      "metadata": {
        "colab": {
          "base_uri": "https://localhost:8080/"
        },
        "id": "L3Z90P3dSMhc",
        "outputId": "831c70c4-e6f5-4976-c6dd-db00f334392d"
      },
      "outputs": [
        {
          "output_type": "stream",
          "name": "stdout",
          "text": [
            "Requirement already satisfied: pyspark in /usr/local/lib/python3.10/dist-packages (3.5.1)\n",
            "Requirement already satisfied: py4j==0.10.9.7 in /usr/local/lib/python3.10/dist-packages (from pyspark) (0.10.9.7)\n"
          ]
        }
      ],
      "source": [
        "!pip install pyspark\n"
      ]
    },
    {
      "cell_type": "code",
      "source": [
        "from pyspark.sql import SparkSession\n",
        "spark=SparkSession.builder.appName('youtube_test').getOrCreate()\n",
        "spark"
      ],
      "metadata": {
        "colab": {
          "base_uri": "https://localhost:8080/",
          "height": 222
        },
        "id": "lbdOolt8SQx4",
        "outputId": "cef414e2-9ccf-46f4-e199-3bc76f3a1b85"
      },
      "execution_count": 111,
      "outputs": [
        {
          "output_type": "execute_result",
          "data": {
            "text/plain": [
              "<pyspark.sql.session.SparkSession at 0x7cfca8f41960>"
            ],
            "text/html": [
              "\n",
              "            <div>\n",
              "                <p><b>SparkSession - in-memory</b></p>\n",
              "                \n",
              "        <div>\n",
              "            <p><b>SparkContext</b></p>\n",
              "\n",
              "            <p><a href=\"http://4ea8b55102da:4040\">Spark UI</a></p>\n",
              "\n",
              "            <dl>\n",
              "              <dt>Version</dt>\n",
              "                <dd><code>v3.5.1</code></dd>\n",
              "              <dt>Master</dt>\n",
              "                <dd><code>local[*]</code></dd>\n",
              "              <dt>AppName</dt>\n",
              "                <dd><code>youtube_test</code></dd>\n",
              "            </dl>\n",
              "        </div>\n",
              "        \n",
              "            </div>\n",
              "        "
            ]
          },
          "metadata": {},
          "execution_count": 111
        }
      ]
    },
    {
      "cell_type": "code",
      "source": [
        "df = spark.read.csv('heart.csv', header=True, nullValue='Nan', inferSchema=True)"
      ],
      "metadata": {
        "id": "1edvbh5jSQ8P"
      },
      "execution_count": 112,
      "outputs": []
    },
    {
      "cell_type": "code",
      "source": [
        "df.show()"
      ],
      "metadata": {
        "colab": {
          "base_uri": "https://localhost:8080/"
        },
        "id": "kWR6Q2gIUkig",
        "outputId": "86255171-9a25-4f31-9741-9d6f836a7a5c"
      },
      "execution_count": null,
      "outputs": [
        {
          "output_type": "stream",
          "name": "stdout",
          "text": [
            "+---+---+-------------+---------+-----------+---------+----------+-----+--------------+-------+--------+------------+\n",
            "|Age|Sex|ChestPainType|RestingBP|Cholesterol|FastingBS|RestingECG|MaxHR|ExerciseAngina|Oldpeak|ST_Slope|HeartDisease|\n",
            "+---+---+-------------+---------+-----------+---------+----------+-----+--------------+-------+--------+------------+\n",
            "| 40|  M|          ATA|      140|        289|        0|    Normal|  172|             N|    0.0|      Up|           0|\n",
            "| 49|  F|          NAP|      160|        180|        0|    Normal|  156|             N|    1.0|    Flat|           1|\n",
            "| 37|  M|          ATA|      130|        283|        0|        ST|   98|             N|    0.0|      Up|           0|\n",
            "| 48|  F|          ASY|      138|        214|        0|    Normal|  108|             Y|    1.5|    Flat|           1|\n",
            "| 54|  M|          NAP|      150|        195|        0|    Normal|  122|             N|    0.0|      Up|           0|\n",
            "| 39|  M|          NAP|      120|        339|        0|    Normal|  170|             N|    0.0|      Up|           0|\n",
            "| 45|  F|          ATA|      130|        237|        0|    Normal|  170|             N|    0.0|      Up|           0|\n",
            "| 54|  M|          ATA|      110|        208|        0|    Normal|  142|             N|    0.0|      Up|           0|\n",
            "| 37|  M|          ASY|      140|        207|        0|    Normal|  130|             Y|    1.5|    Flat|           1|\n",
            "| 48|  F|          ATA|      120|        284|        0|    Normal|  120|             N|    0.0|      Up|           0|\n",
            "| 37|  F|          NAP|      130|        211|        0|    Normal|  142|             N|    0.0|      Up|           0|\n",
            "| 58|  M|          ATA|      136|        164|        0|        ST|   99|             Y|    2.0|    Flat|           1|\n",
            "| 39|  M|          ATA|      120|        204|        0|    Normal|  145|             N|    0.0|      Up|           0|\n",
            "| 49|  M|          ASY|      140|        234|        0|    Normal|  140|             Y|    1.0|    Flat|           1|\n",
            "| 42|  F|          NAP|      115|        211|        0|        ST|  137|             N|    0.0|      Up|           0|\n",
            "| 54|  F|          ATA|      120|        273|        0|    Normal|  150|             N|    1.5|    Flat|           0|\n",
            "| 38|  M|          ASY|      110|        196|        0|    Normal|  166|             N|    0.0|    Flat|           1|\n",
            "| 43|  F|          ATA|      120|        201|        0|    Normal|  165|             N|    0.0|      Up|           0|\n",
            "| 60|  M|          ASY|      100|        248|        0|    Normal|  125|             N|    1.0|    Flat|           1|\n",
            "| 36|  M|          ATA|      120|        267|        0|    Normal|  160|             N|    3.0|    Flat|           1|\n",
            "+---+---+-------------+---------+-----------+---------+----------+-----+--------------+-------+--------+------------+\n",
            "only showing top 20 rows\n",
            "\n"
          ]
        }
      ]
    },
    {
      "cell_type": "code",
      "source": [
        "len(df.columns)"
      ],
      "metadata": {
        "colab": {
          "base_uri": "https://localhost:8080/"
        },
        "id": "9IO57PAOU9OP",
        "outputId": "0cd6f5f1-12e9-4be3-dd67-24e3e07ad874"
      },
      "execution_count": 113,
      "outputs": [
        {
          "output_type": "execute_result",
          "data": {
            "text/plain": [
              "12"
            ]
          },
          "metadata": {},
          "execution_count": 113
        }
      ]
    },
    {
      "cell_type": "code",
      "source": [
        "df.columns"
      ],
      "metadata": {
        "colab": {
          "base_uri": "https://localhost:8080/"
        },
        "id": "_FRgCBRXUktF",
        "outputId": "4c994ebd-8aa0-4943-c375-992f9175205f"
      },
      "execution_count": 114,
      "outputs": [
        {
          "output_type": "execute_result",
          "data": {
            "text/plain": [
              "['Age',\n",
              " 'Sex',\n",
              " 'ChestPainType',\n",
              " 'RestingBP',\n",
              " 'Cholesterol',\n",
              " 'FastingBS',\n",
              " 'RestingECG',\n",
              " 'MaxHR',\n",
              " 'ExerciseAngina',\n",
              " 'Oldpeak',\n",
              " 'ST_Slope',\n",
              " 'HeartDisease']"
            ]
          },
          "metadata": {},
          "execution_count": 114
        }
      ]
    },
    {
      "cell_type": "code",
      "source": [
        "df.dtypes"
      ],
      "metadata": {
        "colab": {
          "base_uri": "https://localhost:8080/"
        },
        "id": "fgdcU8TZVOW8",
        "outputId": "03202735-6180-411a-aa46-3dc7bf8427ab"
      },
      "execution_count": 115,
      "outputs": [
        {
          "output_type": "execute_result",
          "data": {
            "text/plain": [
              "[('Age', 'int'),\n",
              " ('Sex', 'string'),\n",
              " ('ChestPainType', 'string'),\n",
              " ('RestingBP', 'int'),\n",
              " ('Cholesterol', 'int'),\n",
              " ('FastingBS', 'int'),\n",
              " ('RestingECG', 'string'),\n",
              " ('MaxHR', 'int'),\n",
              " ('ExerciseAngina', 'string'),\n",
              " ('Oldpeak', 'double'),\n",
              " ('ST_Slope', 'string'),\n",
              " ('HeartDisease', 'int')]"
            ]
          },
          "metadata": {},
          "execution_count": 115
        }
      ]
    },
    {
      "cell_type": "code",
      "source": [
        "df.select('Age').show(100)"
      ],
      "metadata": {
        "colab": {
          "base_uri": "https://localhost:8080/"
        },
        "id": "afqEx-V2VZ3u",
        "outputId": "4e10a8c8-7dbd-4245-9d99-649418ef870b"
      },
      "execution_count": 116,
      "outputs": [
        {
          "output_type": "stream",
          "name": "stdout",
          "text": [
            "+---+\n",
            "|Age|\n",
            "+---+\n",
            "| 40|\n",
            "| 49|\n",
            "| 37|\n",
            "| 48|\n",
            "| 54|\n",
            "| 39|\n",
            "| 45|\n",
            "| 54|\n",
            "| 37|\n",
            "| 48|\n",
            "| 37|\n",
            "| 58|\n",
            "| 39|\n",
            "| 49|\n",
            "| 42|\n",
            "| 54|\n",
            "| 38|\n",
            "| 43|\n",
            "| 60|\n",
            "| 36|\n",
            "| 43|\n",
            "| 44|\n",
            "| 49|\n",
            "| 44|\n",
            "| 40|\n",
            "| 36|\n",
            "| 53|\n",
            "| 52|\n",
            "| 53|\n",
            "| 51|\n",
            "| 53|\n",
            "| 56|\n",
            "| 54|\n",
            "| 41|\n",
            "| 43|\n",
            "| 32|\n",
            "| 65|\n",
            "| 41|\n",
            "| 48|\n",
            "| 48|\n",
            "| 54|\n",
            "| 54|\n",
            "| 35|\n",
            "| 52|\n",
            "| 43|\n",
            "| 59|\n",
            "| 37|\n",
            "| 50|\n",
            "| 36|\n",
            "| 41|\n",
            "| 50|\n",
            "| 47|\n",
            "| 45|\n",
            "| 41|\n",
            "| 52|\n",
            "| 51|\n",
            "| 31|\n",
            "| 58|\n",
            "| 54|\n",
            "| 52|\n",
            "| 49|\n",
            "| 43|\n",
            "| 45|\n",
            "| 46|\n",
            "| 50|\n",
            "| 37|\n",
            "| 45|\n",
            "| 32|\n",
            "| 52|\n",
            "| 44|\n",
            "| 57|\n",
            "| 44|\n",
            "| 52|\n",
            "| 44|\n",
            "| 55|\n",
            "| 46|\n",
            "| 32|\n",
            "| 35|\n",
            "| 52|\n",
            "| 49|\n",
            "| 55|\n",
            "| 54|\n",
            "| 63|\n",
            "| 52|\n",
            "| 56|\n",
            "| 66|\n",
            "| 65|\n",
            "| 53|\n",
            "| 43|\n",
            "| 55|\n",
            "| 49|\n",
            "| 39|\n",
            "| 52|\n",
            "| 48|\n",
            "| 39|\n",
            "| 58|\n",
            "| 43|\n",
            "| 39|\n",
            "| 56|\n",
            "| 41|\n",
            "+---+\n",
            "only showing top 100 rows\n",
            "\n"
          ]
        }
      ]
    },
    {
      "cell_type": "code",
      "source": [
        "df.select(['ChestPainType','Sex']).show(30)"
      ],
      "metadata": {
        "colab": {
          "base_uri": "https://localhost:8080/"
        },
        "id": "9cq0A-SWV3Lc",
        "outputId": "0734b0d3-b92e-4282-f44f-466af0e0409c"
      },
      "execution_count": 117,
      "outputs": [
        {
          "output_type": "stream",
          "name": "stdout",
          "text": [
            "+-------------+---+\n",
            "|ChestPainType|Sex|\n",
            "+-------------+---+\n",
            "|          ATA|  M|\n",
            "|          NAP|  F|\n",
            "|          ATA|  M|\n",
            "|          ASY|  F|\n",
            "|          NAP|  M|\n",
            "|          NAP|  M|\n",
            "|          ATA|  F|\n",
            "|          ATA|  M|\n",
            "|          ASY|  M|\n",
            "|          ATA|  F|\n",
            "|          NAP|  F|\n",
            "|          ATA|  M|\n",
            "|          ATA|  M|\n",
            "|          ASY|  M|\n",
            "|          NAP|  F|\n",
            "|          ATA|  F|\n",
            "|          ASY|  M|\n",
            "|          ATA|  F|\n",
            "|          ASY|  M|\n",
            "|          ATA|  M|\n",
            "|           TA|  F|\n",
            "|          ATA|  M|\n",
            "|          ATA|  F|\n",
            "|          ATA|  M|\n",
            "|          NAP|  M|\n",
            "|          NAP|  M|\n",
            "|          ASY|  M|\n",
            "|          ATA|  M|\n",
            "|          ATA|  F|\n",
            "|          ATA|  M|\n",
            "+-------------+---+\n",
            "only showing top 30 rows\n",
            "\n"
          ]
        }
      ]
    },
    {
      "cell_type": "code",
      "source": [
        "df.withColumnRenamed('Sex','gensiyat').show(3)\n"
      ],
      "metadata": {
        "colab": {
          "base_uri": "https://localhost:8080/"
        },
        "id": "b7kzVObnV3TW",
        "outputId": "09753f1a-0a17-4125-ea75-9bf8de167075"
      },
      "execution_count": 118,
      "outputs": [
        {
          "output_type": "stream",
          "name": "stdout",
          "text": [
            "+---+--------+-------------+---------+-----------+---------+----------+-----+--------------+-------+--------+------------+\n",
            "|Age|gensiyat|ChestPainType|RestingBP|Cholesterol|FastingBS|RestingECG|MaxHR|ExerciseAngina|Oldpeak|ST_Slope|HeartDisease|\n",
            "+---+--------+-------------+---------+-----------+---------+----------+-----+--------------+-------+--------+------------+\n",
            "| 40|       M|          ATA|      140|        289|        0|    Normal|  172|             N|    0.0|      Up|           0|\n",
            "| 49|       F|          NAP|      160|        180|        0|    Normal|  156|             N|    1.0|    Flat|           1|\n",
            "| 37|       M|          ATA|      130|        283|        0|        ST|   98|             N|    0.0|      Up|           0|\n",
            "+---+--------+-------------+---------+-----------+---------+----------+-----+--------------+-------+--------+------------+\n",
            "only showing top 3 rows\n",
            "\n"
          ]
        }
      ]
    },
    {
      "cell_type": "code",
      "source": [
        "df.collect()"
      ],
      "metadata": {
        "colab": {
          "base_uri": "https://localhost:8080/"
        },
        "id": "Bwg9l8Z5YWX2",
        "outputId": "7b97433a-4918-4e38-a024-e4c09d16caf0"
      },
      "execution_count": 119,
      "outputs": [
        {
          "output_type": "execute_result",
          "data": {
            "text/plain": [
              "[Row(Age=40, Sex='M', ChestPainType='ATA', RestingBP=140, Cholesterol=289, FastingBS=0, RestingECG='Normal', MaxHR=172, ExerciseAngina='N', Oldpeak=0.0, ST_Slope='Up', HeartDisease=0),\n",
              " Row(Age=49, Sex='F', ChestPainType='NAP', RestingBP=160, Cholesterol=180, FastingBS=0, RestingECG='Normal', MaxHR=156, ExerciseAngina='N', Oldpeak=1.0, ST_Slope='Flat', HeartDisease=1),\n",
              " Row(Age=37, Sex='M', ChestPainType='ATA', RestingBP=130, Cholesterol=283, FastingBS=0, RestingECG='ST', MaxHR=98, ExerciseAngina='N', Oldpeak=0.0, ST_Slope='Up', HeartDisease=0),\n",
              " Row(Age=48, Sex='F', ChestPainType='ASY', RestingBP=138, Cholesterol=214, FastingBS=0, RestingECG='Normal', MaxHR=108, ExerciseAngina='Y', Oldpeak=1.5, ST_Slope='Flat', HeartDisease=1),\n",
              " Row(Age=54, Sex='M', ChestPainType='NAP', RestingBP=150, Cholesterol=195, FastingBS=0, RestingECG='Normal', MaxHR=122, ExerciseAngina='N', Oldpeak=0.0, ST_Slope='Up', HeartDisease=0),\n",
              " Row(Age=39, Sex='M', ChestPainType='NAP', RestingBP=120, Cholesterol=339, FastingBS=0, RestingECG='Normal', MaxHR=170, ExerciseAngina='N', Oldpeak=0.0, ST_Slope='Up', HeartDisease=0),\n",
              " Row(Age=45, Sex='F', ChestPainType='ATA', RestingBP=130, Cholesterol=237, FastingBS=0, RestingECG='Normal', MaxHR=170, ExerciseAngina='N', Oldpeak=0.0, ST_Slope='Up', HeartDisease=0),\n",
              " Row(Age=54, Sex='M', ChestPainType='ATA', RestingBP=110, Cholesterol=208, FastingBS=0, RestingECG='Normal', MaxHR=142, ExerciseAngina='N', Oldpeak=0.0, ST_Slope='Up', HeartDisease=0),\n",
              " Row(Age=37, Sex='M', ChestPainType='ASY', RestingBP=140, Cholesterol=207, FastingBS=0, RestingECG='Normal', MaxHR=130, ExerciseAngina='Y', Oldpeak=1.5, ST_Slope='Flat', HeartDisease=1),\n",
              " Row(Age=48, Sex='F', ChestPainType='ATA', RestingBP=120, Cholesterol=284, FastingBS=0, RestingECG='Normal', MaxHR=120, ExerciseAngina='N', Oldpeak=0.0, ST_Slope='Up', HeartDisease=0),\n",
              " Row(Age=37, Sex='F', ChestPainType='NAP', RestingBP=130, Cholesterol=211, FastingBS=0, RestingECG='Normal', MaxHR=142, ExerciseAngina='N', Oldpeak=0.0, ST_Slope='Up', HeartDisease=0),\n",
              " Row(Age=58, Sex='M', ChestPainType='ATA', RestingBP=136, Cholesterol=164, FastingBS=0, RestingECG='ST', MaxHR=99, ExerciseAngina='Y', Oldpeak=2.0, ST_Slope='Flat', HeartDisease=1),\n",
              " Row(Age=39, Sex='M', ChestPainType='ATA', RestingBP=120, Cholesterol=204, FastingBS=0, RestingECG='Normal', MaxHR=145, ExerciseAngina='N', Oldpeak=0.0, ST_Slope='Up', HeartDisease=0),\n",
              " Row(Age=49, Sex='M', ChestPainType='ASY', RestingBP=140, Cholesterol=234, FastingBS=0, RestingECG='Normal', MaxHR=140, ExerciseAngina='Y', Oldpeak=1.0, ST_Slope='Flat', HeartDisease=1),\n",
              " Row(Age=42, Sex='F', ChestPainType='NAP', RestingBP=115, Cholesterol=211, FastingBS=0, RestingECG='ST', MaxHR=137, ExerciseAngina='N', Oldpeak=0.0, ST_Slope='Up', HeartDisease=0),\n",
              " Row(Age=54, Sex='F', ChestPainType='ATA', RestingBP=120, Cholesterol=273, FastingBS=0, RestingECG='Normal', MaxHR=150, ExerciseAngina='N', Oldpeak=1.5, ST_Slope='Flat', HeartDisease=0),\n",
              " Row(Age=38, Sex='M', ChestPainType='ASY', RestingBP=110, Cholesterol=196, FastingBS=0, RestingECG='Normal', MaxHR=166, ExerciseAngina='N', Oldpeak=0.0, ST_Slope='Flat', HeartDisease=1),\n",
              " Row(Age=43, Sex='F', ChestPainType='ATA', RestingBP=120, Cholesterol=201, FastingBS=0, RestingECG='Normal', MaxHR=165, ExerciseAngina='N', Oldpeak=0.0, ST_Slope='Up', HeartDisease=0),\n",
              " Row(Age=60, Sex='M', ChestPainType='ASY', RestingBP=100, Cholesterol=248, FastingBS=0, RestingECG='Normal', MaxHR=125, ExerciseAngina='N', Oldpeak=1.0, ST_Slope='Flat', HeartDisease=1),\n",
              " Row(Age=36, Sex='M', ChestPainType='ATA', RestingBP=120, Cholesterol=267, FastingBS=0, RestingECG='Normal', MaxHR=160, ExerciseAngina='N', Oldpeak=3.0, ST_Slope='Flat', HeartDisease=1),\n",
              " Row(Age=43, Sex='F', ChestPainType='TA', RestingBP=100, Cholesterol=223, FastingBS=0, RestingECG='Normal', MaxHR=142, ExerciseAngina='N', Oldpeak=0.0, ST_Slope='Up', HeartDisease=0),\n",
              " Row(Age=44, Sex='M', ChestPainType='ATA', RestingBP=120, Cholesterol=184, FastingBS=0, RestingECG='Normal', MaxHR=142, ExerciseAngina='N', Oldpeak=1.0, ST_Slope='Flat', HeartDisease=0),\n",
              " Row(Age=49, Sex='F', ChestPainType='ATA', RestingBP=124, Cholesterol=201, FastingBS=0, RestingECG='Normal', MaxHR=164, ExerciseAngina='N', Oldpeak=0.0, ST_Slope='Up', HeartDisease=0),\n",
              " Row(Age=44, Sex='M', ChestPainType='ATA', RestingBP=150, Cholesterol=288, FastingBS=0, RestingECG='Normal', MaxHR=150, ExerciseAngina='Y', Oldpeak=3.0, ST_Slope='Flat', HeartDisease=1),\n",
              " Row(Age=40, Sex='M', ChestPainType='NAP', RestingBP=130, Cholesterol=215, FastingBS=0, RestingECG='Normal', MaxHR=138, ExerciseAngina='N', Oldpeak=0.0, ST_Slope='Up', HeartDisease=0),\n",
              " Row(Age=36, Sex='M', ChestPainType='NAP', RestingBP=130, Cholesterol=209, FastingBS=0, RestingECG='Normal', MaxHR=178, ExerciseAngina='N', Oldpeak=0.0, ST_Slope='Up', HeartDisease=0),\n",
              " Row(Age=53, Sex='M', ChestPainType='ASY', RestingBP=124, Cholesterol=260, FastingBS=0, RestingECG='ST', MaxHR=112, ExerciseAngina='Y', Oldpeak=3.0, ST_Slope='Flat', HeartDisease=0),\n",
              " Row(Age=52, Sex='M', ChestPainType='ATA', RestingBP=120, Cholesterol=284, FastingBS=0, RestingECG='Normal', MaxHR=118, ExerciseAngina='N', Oldpeak=0.0, ST_Slope='Up', HeartDisease=0),\n",
              " Row(Age=53, Sex='F', ChestPainType='ATA', RestingBP=113, Cholesterol=468, FastingBS=0, RestingECG='Normal', MaxHR=127, ExerciseAngina='N', Oldpeak=0.0, ST_Slope='Up', HeartDisease=0),\n",
              " Row(Age=51, Sex='M', ChestPainType='ATA', RestingBP=125, Cholesterol=188, FastingBS=0, RestingECG='Normal', MaxHR=145, ExerciseAngina='N', Oldpeak=0.0, ST_Slope='Up', HeartDisease=0),\n",
              " Row(Age=53, Sex='M', ChestPainType='NAP', RestingBP=145, Cholesterol=518, FastingBS=0, RestingECG='Normal', MaxHR=130, ExerciseAngina='N', Oldpeak=0.0, ST_Slope='Flat', HeartDisease=1),\n",
              " Row(Age=56, Sex='M', ChestPainType='NAP', RestingBP=130, Cholesterol=167, FastingBS=0, RestingECG='Normal', MaxHR=114, ExerciseAngina='N', Oldpeak=0.0, ST_Slope='Up', HeartDisease=0),\n",
              " Row(Age=54, Sex='M', ChestPainType='ASY', RestingBP=125, Cholesterol=224, FastingBS=0, RestingECG='Normal', MaxHR=122, ExerciseAngina='N', Oldpeak=2.0, ST_Slope='Flat', HeartDisease=1),\n",
              " Row(Age=41, Sex='M', ChestPainType='ASY', RestingBP=130, Cholesterol=172, FastingBS=0, RestingECG='ST', MaxHR=130, ExerciseAngina='N', Oldpeak=2.0, ST_Slope='Flat', HeartDisease=1),\n",
              " Row(Age=43, Sex='F', ChestPainType='ATA', RestingBP=150, Cholesterol=186, FastingBS=0, RestingECG='Normal', MaxHR=154, ExerciseAngina='N', Oldpeak=0.0, ST_Slope='Up', HeartDisease=0),\n",
              " Row(Age=32, Sex='M', ChestPainType='ATA', RestingBP=125, Cholesterol=254, FastingBS=0, RestingECG='Normal', MaxHR=155, ExerciseAngina='N', Oldpeak=0.0, ST_Slope='Up', HeartDisease=0),\n",
              " Row(Age=65, Sex='M', ChestPainType='ASY', RestingBP=140, Cholesterol=306, FastingBS=1, RestingECG='Normal', MaxHR=87, ExerciseAngina='Y', Oldpeak=1.5, ST_Slope='Flat', HeartDisease=1),\n",
              " Row(Age=41, Sex='F', ChestPainType='ATA', RestingBP=110, Cholesterol=250, FastingBS=0, RestingECG='ST', MaxHR=142, ExerciseAngina='N', Oldpeak=0.0, ST_Slope='Up', HeartDisease=0),\n",
              " Row(Age=48, Sex='F', ChestPainType='ATA', RestingBP=120, Cholesterol=177, FastingBS=1, RestingECG='ST', MaxHR=148, ExerciseAngina='N', Oldpeak=0.0, ST_Slope='Up', HeartDisease=0),\n",
              " Row(Age=48, Sex='F', ChestPainType='ASY', RestingBP=150, Cholesterol=227, FastingBS=0, RestingECG='Normal', MaxHR=130, ExerciseAngina='Y', Oldpeak=1.0, ST_Slope='Flat', HeartDisease=0),\n",
              " Row(Age=54, Sex='F', ChestPainType='ATA', RestingBP=150, Cholesterol=230, FastingBS=0, RestingECG='Normal', MaxHR=130, ExerciseAngina='N', Oldpeak=0.0, ST_Slope='Up', HeartDisease=0),\n",
              " Row(Age=54, Sex='F', ChestPainType='NAP', RestingBP=130, Cholesterol=294, FastingBS=0, RestingECG='ST', MaxHR=100, ExerciseAngina='Y', Oldpeak=0.0, ST_Slope='Flat', HeartDisease=1),\n",
              " Row(Age=35, Sex='M', ChestPainType='ATA', RestingBP=150, Cholesterol=264, FastingBS=0, RestingECG='Normal', MaxHR=168, ExerciseAngina='N', Oldpeak=0.0, ST_Slope='Up', HeartDisease=0),\n",
              " Row(Age=52, Sex='M', ChestPainType='NAP', RestingBP=140, Cholesterol=259, FastingBS=0, RestingECG='ST', MaxHR=170, ExerciseAngina='N', Oldpeak=0.0, ST_Slope='Up', HeartDisease=0),\n",
              " Row(Age=43, Sex='M', ChestPainType='ASY', RestingBP=120, Cholesterol=175, FastingBS=0, RestingECG='Normal', MaxHR=120, ExerciseAngina='Y', Oldpeak=1.0, ST_Slope='Flat', HeartDisease=1),\n",
              " Row(Age=59, Sex='M', ChestPainType='NAP', RestingBP=130, Cholesterol=318, FastingBS=0, RestingECG='Normal', MaxHR=120, ExerciseAngina='Y', Oldpeak=1.0, ST_Slope='Flat', HeartDisease=0),\n",
              " Row(Age=37, Sex='M', ChestPainType='ASY', RestingBP=120, Cholesterol=223, FastingBS=0, RestingECG='Normal', MaxHR=168, ExerciseAngina='N', Oldpeak=0.0, ST_Slope='Up', HeartDisease=0),\n",
              " Row(Age=50, Sex='M', ChestPainType='ATA', RestingBP=140, Cholesterol=216, FastingBS=0, RestingECG='Normal', MaxHR=170, ExerciseAngina='N', Oldpeak=0.0, ST_Slope='Up', HeartDisease=0),\n",
              " Row(Age=36, Sex='M', ChestPainType='NAP', RestingBP=112, Cholesterol=340, FastingBS=0, RestingECG='Normal', MaxHR=184, ExerciseAngina='N', Oldpeak=1.0, ST_Slope='Flat', HeartDisease=0),\n",
              " Row(Age=41, Sex='M', ChestPainType='ASY', RestingBP=110, Cholesterol=289, FastingBS=0, RestingECG='Normal', MaxHR=170, ExerciseAngina='N', Oldpeak=0.0, ST_Slope='Flat', HeartDisease=1),\n",
              " Row(Age=50, Sex='M', ChestPainType='ASY', RestingBP=130, Cholesterol=233, FastingBS=0, RestingECG='Normal', MaxHR=121, ExerciseAngina='Y', Oldpeak=2.0, ST_Slope='Flat', HeartDisease=1),\n",
              " Row(Age=47, Sex='F', ChestPainType='ASY', RestingBP=120, Cholesterol=205, FastingBS=0, RestingECG='Normal', MaxHR=98, ExerciseAngina='Y', Oldpeak=2.0, ST_Slope='Flat', HeartDisease=1),\n",
              " Row(Age=45, Sex='M', ChestPainType='ATA', RestingBP=140, Cholesterol=224, FastingBS=1, RestingECG='Normal', MaxHR=122, ExerciseAngina='N', Oldpeak=0.0, ST_Slope='Up', HeartDisease=0),\n",
              " Row(Age=41, Sex='F', ChestPainType='ATA', RestingBP=130, Cholesterol=245, FastingBS=0, RestingECG='Normal', MaxHR=150, ExerciseAngina='N', Oldpeak=0.0, ST_Slope='Up', HeartDisease=0),\n",
              " Row(Age=52, Sex='F', ChestPainType='ASY', RestingBP=130, Cholesterol=180, FastingBS=0, RestingECG='Normal', MaxHR=140, ExerciseAngina='Y', Oldpeak=1.5, ST_Slope='Flat', HeartDisease=0),\n",
              " Row(Age=51, Sex='F', ChestPainType='ATA', RestingBP=160, Cholesterol=194, FastingBS=0, RestingECG='Normal', MaxHR=170, ExerciseAngina='N', Oldpeak=0.0, ST_Slope='Up', HeartDisease=0),\n",
              " Row(Age=31, Sex='M', ChestPainType='ASY', RestingBP=120, Cholesterol=270, FastingBS=0, RestingECG='Normal', MaxHR=153, ExerciseAngina='Y', Oldpeak=1.5, ST_Slope='Flat', HeartDisease=1),\n",
              " Row(Age=58, Sex='M', ChestPainType='NAP', RestingBP=130, Cholesterol=213, FastingBS=0, RestingECG='ST', MaxHR=140, ExerciseAngina='N', Oldpeak=0.0, ST_Slope='Flat', HeartDisease=1),\n",
              " Row(Age=54, Sex='M', ChestPainType='ASY', RestingBP=150, Cholesterol=365, FastingBS=0, RestingECG='ST', MaxHR=134, ExerciseAngina='N', Oldpeak=1.0, ST_Slope='Up', HeartDisease=0),\n",
              " Row(Age=52, Sex='M', ChestPainType='ASY', RestingBP=112, Cholesterol=342, FastingBS=0, RestingECG='ST', MaxHR=96, ExerciseAngina='Y', Oldpeak=1.0, ST_Slope='Flat', HeartDisease=1),\n",
              " Row(Age=49, Sex='M', ChestPainType='ATA', RestingBP=100, Cholesterol=253, FastingBS=0, RestingECG='Normal', MaxHR=174, ExerciseAngina='N', Oldpeak=0.0, ST_Slope='Up', HeartDisease=0),\n",
              " Row(Age=43, Sex='F', ChestPainType='NAP', RestingBP=150, Cholesterol=254, FastingBS=0, RestingECG='Normal', MaxHR=175, ExerciseAngina='N', Oldpeak=0.0, ST_Slope='Up', HeartDisease=0),\n",
              " Row(Age=45, Sex='M', ChestPainType='ASY', RestingBP=140, Cholesterol=224, FastingBS=0, RestingECG='Normal', MaxHR=144, ExerciseAngina='N', Oldpeak=0.0, ST_Slope='Up', HeartDisease=0),\n",
              " Row(Age=46, Sex='M', ChestPainType='ASY', RestingBP=120, Cholesterol=277, FastingBS=0, RestingECG='Normal', MaxHR=125, ExerciseAngina='Y', Oldpeak=1.0, ST_Slope='Flat', HeartDisease=1),\n",
              " Row(Age=50, Sex='F', ChestPainType='ATA', RestingBP=110, Cholesterol=202, FastingBS=0, RestingECG='Normal', MaxHR=145, ExerciseAngina='N', Oldpeak=0.0, ST_Slope='Up', HeartDisease=0),\n",
              " Row(Age=37, Sex='F', ChestPainType='ATA', RestingBP=120, Cholesterol=260, FastingBS=0, RestingECG='Normal', MaxHR=130, ExerciseAngina='N', Oldpeak=0.0, ST_Slope='Up', HeartDisease=0),\n",
              " Row(Age=45, Sex='F', ChestPainType='ASY', RestingBP=132, Cholesterol=297, FastingBS=0, RestingECG='Normal', MaxHR=144, ExerciseAngina='N', Oldpeak=0.0, ST_Slope='Up', HeartDisease=0),\n",
              " Row(Age=32, Sex='M', ChestPainType='ATA', RestingBP=110, Cholesterol=225, FastingBS=0, RestingECG='Normal', MaxHR=184, ExerciseAngina='N', Oldpeak=0.0, ST_Slope='Up', HeartDisease=0),\n",
              " Row(Age=52, Sex='M', ChestPainType='ASY', RestingBP=160, Cholesterol=246, FastingBS=0, RestingECG='ST', MaxHR=82, ExerciseAngina='Y', Oldpeak=4.0, ST_Slope='Flat', HeartDisease=1),\n",
              " Row(Age=44, Sex='M', ChestPainType='ASY', RestingBP=150, Cholesterol=412, FastingBS=0, RestingECG='Normal', MaxHR=170, ExerciseAngina='N', Oldpeak=0.0, ST_Slope='Up', HeartDisease=0),\n",
              " Row(Age=57, Sex='M', ChestPainType='ATA', RestingBP=140, Cholesterol=265, FastingBS=0, RestingECG='ST', MaxHR=145, ExerciseAngina='Y', Oldpeak=1.0, ST_Slope='Flat', HeartDisease=1),\n",
              " Row(Age=44, Sex='M', ChestPainType='ATA', RestingBP=130, Cholesterol=215, FastingBS=0, RestingECG='Normal', MaxHR=135, ExerciseAngina='N', Oldpeak=0.0, ST_Slope='Up', HeartDisease=0),\n",
              " Row(Age=52, Sex='M', ChestPainType='ASY', RestingBP=120, Cholesterol=182, FastingBS=0, RestingECG='Normal', MaxHR=150, ExerciseAngina='N', Oldpeak=0.0, ST_Slope='Flat', HeartDisease=1),\n",
              " Row(Age=44, Sex='F', ChestPainType='ASY', RestingBP=120, Cholesterol=218, FastingBS=0, RestingECG='ST', MaxHR=115, ExerciseAngina='N', Oldpeak=0.0, ST_Slope='Up', HeartDisease=0),\n",
              " Row(Age=55, Sex='M', ChestPainType='ASY', RestingBP=140, Cholesterol=268, FastingBS=0, RestingECG='Normal', MaxHR=128, ExerciseAngina='Y', Oldpeak=1.5, ST_Slope='Flat', HeartDisease=1),\n",
              " Row(Age=46, Sex='M', ChestPainType='NAP', RestingBP=150, Cholesterol=163, FastingBS=0, RestingECG='Normal', MaxHR=116, ExerciseAngina='N', Oldpeak=0.0, ST_Slope='Up', HeartDisease=0),\n",
              " Row(Age=32, Sex='M', ChestPainType='ASY', RestingBP=118, Cholesterol=529, FastingBS=0, RestingECG='Normal', MaxHR=130, ExerciseAngina='N', Oldpeak=0.0, ST_Slope='Flat', HeartDisease=1),\n",
              " Row(Age=35, Sex='F', ChestPainType='ASY', RestingBP=140, Cholesterol=167, FastingBS=0, RestingECG='Normal', MaxHR=150, ExerciseAngina='N', Oldpeak=0.0, ST_Slope='Up', HeartDisease=0),\n",
              " Row(Age=52, Sex='M', ChestPainType='ATA', RestingBP=140, Cholesterol=100, FastingBS=0, RestingECG='Normal', MaxHR=138, ExerciseAngina='Y', Oldpeak=0.0, ST_Slope='Up', HeartDisease=0),\n",
              " Row(Age=49, Sex='M', ChestPainType='ASY', RestingBP=130, Cholesterol=206, FastingBS=0, RestingECG='Normal', MaxHR=170, ExerciseAngina='N', Oldpeak=0.0, ST_Slope='Flat', HeartDisease=1),\n",
              " Row(Age=55, Sex='M', ChestPainType='NAP', RestingBP=110, Cholesterol=277, FastingBS=0, RestingECG='Normal', MaxHR=160, ExerciseAngina='N', Oldpeak=0.0, ST_Slope='Up', HeartDisease=0),\n",
              " Row(Age=54, Sex='M', ChestPainType='ATA', RestingBP=120, Cholesterol=238, FastingBS=0, RestingECG='Normal', MaxHR=154, ExerciseAngina='N', Oldpeak=0.0, ST_Slope='Up', HeartDisease=0),\n",
              " Row(Age=63, Sex='M', ChestPainType='ASY', RestingBP=150, Cholesterol=223, FastingBS=0, RestingECG='Normal', MaxHR=115, ExerciseAngina='N', Oldpeak=0.0, ST_Slope='Flat', HeartDisease=1),\n",
              " Row(Age=52, Sex='M', ChestPainType='ATA', RestingBP=160, Cholesterol=196, FastingBS=0, RestingECG='Normal', MaxHR=165, ExerciseAngina='N', Oldpeak=0.0, ST_Slope='Up', HeartDisease=0),\n",
              " Row(Age=56, Sex='M', ChestPainType='ASY', RestingBP=150, Cholesterol=213, FastingBS=1, RestingECG='Normal', MaxHR=125, ExerciseAngina='Y', Oldpeak=1.0, ST_Slope='Flat', HeartDisease=1),\n",
              " Row(Age=66, Sex='M', ChestPainType='ASY', RestingBP=140, Cholesterol=139, FastingBS=0, RestingECG='Normal', MaxHR=94, ExerciseAngina='Y', Oldpeak=1.0, ST_Slope='Flat', HeartDisease=1),\n",
              " Row(Age=65, Sex='M', ChestPainType='ASY', RestingBP=170, Cholesterol=263, FastingBS=1, RestingECG='Normal', MaxHR=112, ExerciseAngina='Y', Oldpeak=2.0, ST_Slope='Flat', HeartDisease=1),\n",
              " Row(Age=53, Sex='F', ChestPainType='ATA', RestingBP=140, Cholesterol=216, FastingBS=0, RestingECG='Normal', MaxHR=142, ExerciseAngina='Y', Oldpeak=2.0, ST_Slope='Flat', HeartDisease=0),\n",
              " Row(Age=43, Sex='M', ChestPainType='TA', RestingBP=120, Cholesterol=291, FastingBS=0, RestingECG='ST', MaxHR=155, ExerciseAngina='N', Oldpeak=0.0, ST_Slope='Flat', HeartDisease=1),\n",
              " Row(Age=55, Sex='M', ChestPainType='ASY', RestingBP=140, Cholesterol=229, FastingBS=0, RestingECG='Normal', MaxHR=110, ExerciseAngina='Y', Oldpeak=0.5, ST_Slope='Flat', HeartDisease=0),\n",
              " Row(Age=49, Sex='F', ChestPainType='ATA', RestingBP=110, Cholesterol=208, FastingBS=0, RestingECG='Normal', MaxHR=160, ExerciseAngina='N', Oldpeak=0.0, ST_Slope='Up', HeartDisease=0),\n",
              " Row(Age=39, Sex='M', ChestPainType='ASY', RestingBP=130, Cholesterol=307, FastingBS=0, RestingECG='Normal', MaxHR=140, ExerciseAngina='N', Oldpeak=0.0, ST_Slope='Up', HeartDisease=0),\n",
              " Row(Age=52, Sex='F', ChestPainType='ATA', RestingBP=120, Cholesterol=210, FastingBS=0, RestingECG='Normal', MaxHR=148, ExerciseAngina='N', Oldpeak=0.0, ST_Slope='Up', HeartDisease=0),\n",
              " Row(Age=48, Sex='M', ChestPainType='ASY', RestingBP=160, Cholesterol=329, FastingBS=0, RestingECG='Normal', MaxHR=92, ExerciseAngina='Y', Oldpeak=1.5, ST_Slope='Flat', HeartDisease=1),\n",
              " Row(Age=39, Sex='F', ChestPainType='NAP', RestingBP=110, Cholesterol=182, FastingBS=0, RestingECG='ST', MaxHR=180, ExerciseAngina='N', Oldpeak=0.0, ST_Slope='Up', HeartDisease=0),\n",
              " Row(Age=58, Sex='M', ChestPainType='ASY', RestingBP=130, Cholesterol=263, FastingBS=0, RestingECG='Normal', MaxHR=140, ExerciseAngina='Y', Oldpeak=2.0, ST_Slope='Flat', HeartDisease=1),\n",
              " Row(Age=43, Sex='M', ChestPainType='ATA', RestingBP=142, Cholesterol=207, FastingBS=0, RestingECG='Normal', MaxHR=138, ExerciseAngina='N', Oldpeak=0.0, ST_Slope='Up', HeartDisease=0),\n",
              " Row(Age=39, Sex='M', ChestPainType='NAP', RestingBP=160, Cholesterol=147, FastingBS=1, RestingECG='Normal', MaxHR=160, ExerciseAngina='N', Oldpeak=0.0, ST_Slope='Up', HeartDisease=0),\n",
              " Row(Age=56, Sex='M', ChestPainType='ASY', RestingBP=120, Cholesterol=85, FastingBS=0, RestingECG='Normal', MaxHR=140, ExerciseAngina='N', Oldpeak=0.0, ST_Slope='Up', HeartDisease=0),\n",
              " Row(Age=41, Sex='M', ChestPainType='ATA', RestingBP=125, Cholesterol=269, FastingBS=0, RestingECG='Normal', MaxHR=144, ExerciseAngina='N', Oldpeak=0.0, ST_Slope='Up', HeartDisease=0),\n",
              " Row(Age=65, Sex='M', ChestPainType='ASY', RestingBP=130, Cholesterol=275, FastingBS=0, RestingECG='ST', MaxHR=115, ExerciseAngina='Y', Oldpeak=1.0, ST_Slope='Flat', HeartDisease=1),\n",
              " Row(Age=51, Sex='M', ChestPainType='ASY', RestingBP=130, Cholesterol=179, FastingBS=0, RestingECG='Normal', MaxHR=100, ExerciseAngina='N', Oldpeak=0.0, ST_Slope='Up', HeartDisease=0),\n",
              " Row(Age=40, Sex='F', ChestPainType='ASY', RestingBP=150, Cholesterol=392, FastingBS=0, RestingECG='Normal', MaxHR=130, ExerciseAngina='N', Oldpeak=2.0, ST_Slope='Flat', HeartDisease=1),\n",
              " Row(Age=40, Sex='M', ChestPainType='ASY', RestingBP=120, Cholesterol=466, FastingBS=1, RestingECG='Normal', MaxHR=152, ExerciseAngina='Y', Oldpeak=1.0, ST_Slope='Flat', HeartDisease=1),\n",
              " Row(Age=46, Sex='M', ChestPainType='ASY', RestingBP=118, Cholesterol=186, FastingBS=0, RestingECG='Normal', MaxHR=124, ExerciseAngina='N', Oldpeak=0.0, ST_Slope='Flat', HeartDisease=1),\n",
              " Row(Age=57, Sex='M', ChestPainType='ATA', RestingBP=140, Cholesterol=260, FastingBS=1, RestingECG='Normal', MaxHR=140, ExerciseAngina='N', Oldpeak=0.0, ST_Slope='Up', HeartDisease=0),\n",
              " Row(Age=48, Sex='F', ChestPainType='ASY', RestingBP=120, Cholesterol=254, FastingBS=0, RestingECG='ST', MaxHR=110, ExerciseAngina='N', Oldpeak=0.0, ST_Slope='Up', HeartDisease=0),\n",
              " Row(Age=34, Sex='M', ChestPainType='ATA', RestingBP=150, Cholesterol=214, FastingBS=0, RestingECG='ST', MaxHR=168, ExerciseAngina='N', Oldpeak=0.0, ST_Slope='Up', HeartDisease=0),\n",
              " Row(Age=50, Sex='M', ChestPainType='ASY', RestingBP=140, Cholesterol=129, FastingBS=0, RestingECG='Normal', MaxHR=135, ExerciseAngina='N', Oldpeak=0.0, ST_Slope='Up', HeartDisease=0),\n",
              " Row(Age=39, Sex='M', ChestPainType='ATA', RestingBP=190, Cholesterol=241, FastingBS=0, RestingECG='Normal', MaxHR=106, ExerciseAngina='N', Oldpeak=0.0, ST_Slope='Up', HeartDisease=0),\n",
              " Row(Age=59, Sex='F', ChestPainType='ATA', RestingBP=130, Cholesterol=188, FastingBS=0, RestingECG='Normal', MaxHR=124, ExerciseAngina='N', Oldpeak=1.0, ST_Slope='Flat', HeartDisease=0),\n",
              " Row(Age=57, Sex='M', ChestPainType='ASY', RestingBP=150, Cholesterol=255, FastingBS=0, RestingECG='Normal', MaxHR=92, ExerciseAngina='Y', Oldpeak=3.0, ST_Slope='Flat', HeartDisease=1),\n",
              " Row(Age=47, Sex='M', ChestPainType='ASY', RestingBP=140, Cholesterol=276, FastingBS=1, RestingECG='Normal', MaxHR=125, ExerciseAngina='Y', Oldpeak=0.0, ST_Slope='Up', HeartDisease=0),\n",
              " Row(Age=38, Sex='M', ChestPainType='ATA', RestingBP=140, Cholesterol=297, FastingBS=0, RestingECG='Normal', MaxHR=150, ExerciseAngina='N', Oldpeak=0.0, ST_Slope='Up', HeartDisease=0),\n",
              " Row(Age=49, Sex='F', ChestPainType='NAP', RestingBP=130, Cholesterol=207, FastingBS=0, RestingECG='ST', MaxHR=135, ExerciseAngina='N', Oldpeak=0.0, ST_Slope='Up', HeartDisease=0),\n",
              " Row(Age=33, Sex='F', ChestPainType='ASY', RestingBP=100, Cholesterol=246, FastingBS=0, RestingECG='Normal', MaxHR=150, ExerciseAngina='Y', Oldpeak=1.0, ST_Slope='Flat', HeartDisease=1),\n",
              " Row(Age=38, Sex='M', ChestPainType='ASY', RestingBP=120, Cholesterol=282, FastingBS=0, RestingECG='Normal', MaxHR=170, ExerciseAngina='N', Oldpeak=0.0, ST_Slope='Flat', HeartDisease=1),\n",
              " Row(Age=59, Sex='F', ChestPainType='ASY', RestingBP=130, Cholesterol=338, FastingBS=1, RestingECG='ST', MaxHR=130, ExerciseAngina='Y', Oldpeak=1.5, ST_Slope='Flat', HeartDisease=1),\n",
              " Row(Age=35, Sex='F', ChestPainType='TA', RestingBP=120, Cholesterol=160, FastingBS=0, RestingECG='ST', MaxHR=185, ExerciseAngina='N', Oldpeak=0.0, ST_Slope='Up', HeartDisease=0),\n",
              " Row(Age=34, Sex='M', ChestPainType='TA', RestingBP=140, Cholesterol=156, FastingBS=0, RestingECG='Normal', MaxHR=180, ExerciseAngina='N', Oldpeak=0.0, ST_Slope='Flat', HeartDisease=1),\n",
              " Row(Age=47, Sex='F', ChestPainType='NAP', RestingBP=135, Cholesterol=248, FastingBS=1, RestingECG='Normal', MaxHR=170, ExerciseAngina='N', Oldpeak=0.0, ST_Slope='Flat', HeartDisease=1),\n",
              " Row(Age=52, Sex='F', ChestPainType='NAP', RestingBP=125, Cholesterol=272, FastingBS=0, RestingECG='Normal', MaxHR=139, ExerciseAngina='N', Oldpeak=0.0, ST_Slope='Up', HeartDisease=0),\n",
              " Row(Age=46, Sex='M', ChestPainType='ASY', RestingBP=110, Cholesterol=240, FastingBS=0, RestingECG='ST', MaxHR=140, ExerciseAngina='N', Oldpeak=0.0, ST_Slope='Up', HeartDisease=0),\n",
              " Row(Age=58, Sex='F', ChestPainType='ATA', RestingBP=180, Cholesterol=393, FastingBS=0, RestingECG='Normal', MaxHR=110, ExerciseAngina='Y', Oldpeak=1.0, ST_Slope='Flat', HeartDisease=1),\n",
              " Row(Age=58, Sex='M', ChestPainType='ATA', RestingBP=130, Cholesterol=230, FastingBS=0, RestingECG='Normal', MaxHR=150, ExerciseAngina='N', Oldpeak=0.0, ST_Slope='Up', HeartDisease=0),\n",
              " Row(Age=54, Sex='M', ChestPainType='ATA', RestingBP=120, Cholesterol=246, FastingBS=0, RestingECG='Normal', MaxHR=110, ExerciseAngina='N', Oldpeak=0.0, ST_Slope='Up', HeartDisease=0),\n",
              " Row(Age=34, Sex='F', ChestPainType='ATA', RestingBP=130, Cholesterol=161, FastingBS=0, RestingECG='Normal', MaxHR=190, ExerciseAngina='N', Oldpeak=0.0, ST_Slope='Up', HeartDisease=0),\n",
              " Row(Age=48, Sex='F', ChestPainType='ASY', RestingBP=108, Cholesterol=163, FastingBS=0, RestingECG='Normal', MaxHR=175, ExerciseAngina='N', Oldpeak=2.0, ST_Slope='Up', HeartDisease=0),\n",
              " Row(Age=54, Sex='F', ChestPainType='ATA', RestingBP=120, Cholesterol=230, FastingBS=1, RestingECG='Normal', MaxHR=140, ExerciseAngina='N', Oldpeak=0.0, ST_Slope='Up', HeartDisease=0),\n",
              " Row(Age=42, Sex='M', ChestPainType='NAP', RestingBP=120, Cholesterol=228, FastingBS=0, RestingECG='Normal', MaxHR=152, ExerciseAngina='Y', Oldpeak=1.5, ST_Slope='Flat', HeartDisease=0),\n",
              " Row(Age=38, Sex='M', ChestPainType='NAP', RestingBP=145, Cholesterol=292, FastingBS=0, RestingECG='Normal', MaxHR=130, ExerciseAngina='N', Oldpeak=0.0, ST_Slope='Up', HeartDisease=0),\n",
              " Row(Age=46, Sex='M', ChestPainType='ASY', RestingBP=110, Cholesterol=202, FastingBS=0, RestingECG='Normal', MaxHR=150, ExerciseAngina='Y', Oldpeak=0.0, ST_Slope='Flat', HeartDisease=1),\n",
              " Row(Age=56, Sex='M', ChestPainType='ASY', RestingBP=170, Cholesterol=388, FastingBS=0, RestingECG='ST', MaxHR=122, ExerciseAngina='Y', Oldpeak=2.0, ST_Slope='Flat', HeartDisease=1),\n",
              " Row(Age=56, Sex='M', ChestPainType='ASY', RestingBP=150, Cholesterol=230, FastingBS=0, RestingECG='ST', MaxHR=124, ExerciseAngina='Y', Oldpeak=1.5, ST_Slope='Flat', HeartDisease=1),\n",
              " Row(Age=61, Sex='F', ChestPainType='ASY', RestingBP=130, Cholesterol=294, FastingBS=0, RestingECG='ST', MaxHR=120, ExerciseAngina='Y', Oldpeak=1.0, ST_Slope='Flat', HeartDisease=0),\n",
              " Row(Age=49, Sex='M', ChestPainType='NAP', RestingBP=115, Cholesterol=265, FastingBS=0, RestingECG='Normal', MaxHR=175, ExerciseAngina='N', Oldpeak=0.0, ST_Slope='Flat', HeartDisease=1),\n",
              " Row(Age=43, Sex='F', ChestPainType='ATA', RestingBP=120, Cholesterol=215, FastingBS=0, RestingECG='ST', MaxHR=175, ExerciseAngina='N', Oldpeak=0.0, ST_Slope='Up', HeartDisease=0),\n",
              " Row(Age=39, Sex='M', ChestPainType='ATA', RestingBP=120, Cholesterol=241, FastingBS=0, RestingECG='ST', MaxHR=146, ExerciseAngina='N', Oldpeak=2.0, ST_Slope='Up', HeartDisease=0),\n",
              " Row(Age=54, Sex='M', ChestPainType='ASY', RestingBP=140, Cholesterol=166, FastingBS=0, RestingECG='Normal', MaxHR=118, ExerciseAngina='Y', Oldpeak=0.0, ST_Slope='Flat', HeartDisease=1),\n",
              " Row(Age=43, Sex='M', ChestPainType='ASY', RestingBP=150, Cholesterol=247, FastingBS=0, RestingECG='Normal', MaxHR=130, ExerciseAngina='Y', Oldpeak=2.0, ST_Slope='Flat', HeartDisease=1),\n",
              " Row(Age=52, Sex='M', ChestPainType='ASY', RestingBP=160, Cholesterol=331, FastingBS=0, RestingECG='Normal', MaxHR=94, ExerciseAngina='Y', Oldpeak=2.5, ST_Slope='Flat', HeartDisease=1),\n",
              " Row(Age=50, Sex='M', ChestPainType='ASY', RestingBP=140, Cholesterol=341, FastingBS=0, RestingECG='ST', MaxHR=125, ExerciseAngina='Y', Oldpeak=2.5, ST_Slope='Flat', HeartDisease=1),\n",
              " Row(Age=47, Sex='M', ChestPainType='ASY', RestingBP=160, Cholesterol=291, FastingBS=0, RestingECG='ST', MaxHR=158, ExerciseAngina='Y', Oldpeak=3.0, ST_Slope='Flat', HeartDisease=1),\n",
              " Row(Age=53, Sex='M', ChestPainType='ASY', RestingBP=140, Cholesterol=243, FastingBS=0, RestingECG='Normal', MaxHR=155, ExerciseAngina='N', Oldpeak=0.0, ST_Slope='Up', HeartDisease=0),\n",
              " Row(Age=56, Sex='F', ChestPainType='ATA', RestingBP=120, Cholesterol=279, FastingBS=0, RestingECG='Normal', MaxHR=150, ExerciseAngina='N', Oldpeak=1.0, ST_Slope='Flat', HeartDisease=1),\n",
              " Row(Age=39, Sex='M', ChestPainType='ASY', RestingBP=110, Cholesterol=273, FastingBS=0, RestingECG='Normal', MaxHR=132, ExerciseAngina='N', Oldpeak=0.0, ST_Slope='Up', HeartDisease=0),\n",
              " Row(Age=42, Sex='M', ChestPainType='ATA', RestingBP=120, Cholesterol=198, FastingBS=0, RestingECG='Normal', MaxHR=155, ExerciseAngina='N', Oldpeak=0.0, ST_Slope='Up', HeartDisease=0),\n",
              " Row(Age=43, Sex='F', ChestPainType='ATA', RestingBP=120, Cholesterol=249, FastingBS=0, RestingECG='ST', MaxHR=176, ExerciseAngina='N', Oldpeak=0.0, ST_Slope='Up', HeartDisease=0),\n",
              " Row(Age=50, Sex='M', ChestPainType='ATA', RestingBP=120, Cholesterol=168, FastingBS=0, RestingECG='Normal', MaxHR=160, ExerciseAngina='N', Oldpeak=0.0, ST_Slope='Up', HeartDisease=0),\n",
              " Row(Age=54, Sex='M', ChestPainType='ASY', RestingBP=130, Cholesterol=603, FastingBS=1, RestingECG='Normal', MaxHR=125, ExerciseAngina='Y', Oldpeak=1.0, ST_Slope='Flat', HeartDisease=1),\n",
              " Row(Age=39, Sex='M', ChestPainType='ATA', RestingBP=130, Cholesterol=215, FastingBS=0, RestingECG='Normal', MaxHR=120, ExerciseAngina='N', Oldpeak=0.0, ST_Slope='Up', HeartDisease=0),\n",
              " Row(Age=48, Sex='M', ChestPainType='ATA', RestingBP=100, Cholesterol=159, FastingBS=0, RestingECG='Normal', MaxHR=100, ExerciseAngina='N', Oldpeak=0.0, ST_Slope='Up', HeartDisease=0),\n",
              " Row(Age=40, Sex='M', ChestPainType='ATA', RestingBP=130, Cholesterol=275, FastingBS=0, RestingECG='Normal', MaxHR=150, ExerciseAngina='N', Oldpeak=0.0, ST_Slope='Up', HeartDisease=0),\n",
              " Row(Age=55, Sex='M', ChestPainType='ASY', RestingBP=120, Cholesterol=270, FastingBS=0, RestingECG='Normal', MaxHR=140, ExerciseAngina='N', Oldpeak=0.0, ST_Slope='Up', HeartDisease=0),\n",
              " Row(Age=41, Sex='M', ChestPainType='ATA', RestingBP=120, Cholesterol=291, FastingBS=0, RestingECG='ST', MaxHR=160, ExerciseAngina='N', Oldpeak=0.0, ST_Slope='Up', HeartDisease=0),\n",
              " Row(Age=56, Sex='M', ChestPainType='ASY', RestingBP=155, Cholesterol=342, FastingBS=1, RestingECG='Normal', MaxHR=150, ExerciseAngina='Y', Oldpeak=3.0, ST_Slope='Flat', HeartDisease=1),\n",
              " Row(Age=38, Sex='M', ChestPainType='ASY', RestingBP=110, Cholesterol=190, FastingBS=0, RestingECG='Normal', MaxHR=150, ExerciseAngina='Y', Oldpeak=1.0, ST_Slope='Flat', HeartDisease=1),\n",
              " Row(Age=49, Sex='M', ChestPainType='ASY', RestingBP=140, Cholesterol=185, FastingBS=0, RestingECG='Normal', MaxHR=130, ExerciseAngina='N', Oldpeak=0.0, ST_Slope='Up', HeartDisease=0),\n",
              " Row(Age=44, Sex='M', ChestPainType='ASY', RestingBP=130, Cholesterol=290, FastingBS=0, RestingECG='Normal', MaxHR=100, ExerciseAngina='Y', Oldpeak=2.0, ST_Slope='Flat', HeartDisease=1),\n",
              " Row(Age=54, Sex='M', ChestPainType='ATA', RestingBP=160, Cholesterol=195, FastingBS=0, RestingECG='ST', MaxHR=130, ExerciseAngina='N', Oldpeak=1.0, ST_Slope='Up', HeartDisease=0),\n",
              " Row(Age=59, Sex='M', ChestPainType='ASY', RestingBP=140, Cholesterol=264, FastingBS=1, RestingECG='LVH', MaxHR=119, ExerciseAngina='Y', Oldpeak=0.0, ST_Slope='Flat', HeartDisease=1),\n",
              " Row(Age=49, Sex='M', ChestPainType='ASY', RestingBP=128, Cholesterol=212, FastingBS=0, RestingECG='Normal', MaxHR=96, ExerciseAngina='Y', Oldpeak=0.0, ST_Slope='Flat', HeartDisease=1),\n",
              " Row(Age=47, Sex='M', ChestPainType='ATA', RestingBP=160, Cholesterol=263, FastingBS=0, RestingECG='Normal', MaxHR=174, ExerciseAngina='N', Oldpeak=0.0, ST_Slope='Up', HeartDisease=0),\n",
              " Row(Age=42, Sex='M', ChestPainType='ATA', RestingBP=120, Cholesterol=196, FastingBS=0, RestingECG='Normal', MaxHR=150, ExerciseAngina='N', Oldpeak=0.0, ST_Slope='Up', HeartDisease=0),\n",
              " Row(Age=52, Sex='F', ChestPainType='ATA', RestingBP=140, Cholesterol=225, FastingBS=0, RestingECG='Normal', MaxHR=140, ExerciseAngina='N', Oldpeak=0.0, ST_Slope='Up', HeartDisease=0),\n",
              " Row(Age=46, Sex='M', ChestPainType='TA', RestingBP=140, Cholesterol=272, FastingBS=1, RestingECG='Normal', MaxHR=175, ExerciseAngina='N', Oldpeak=2.0, ST_Slope='Flat', HeartDisease=1),\n",
              " Row(Age=50, Sex='M', ChestPainType='ASY', RestingBP=140, Cholesterol=231, FastingBS=0, RestingECG='ST', MaxHR=140, ExerciseAngina='Y', Oldpeak=5.0, ST_Slope='Flat', HeartDisease=1),\n",
              " Row(Age=48, Sex='M', ChestPainType='ATA', RestingBP=140, Cholesterol=238, FastingBS=0, RestingECG='Normal', MaxHR=118, ExerciseAngina='N', Oldpeak=0.0, ST_Slope='Up', HeartDisease=0),\n",
              " Row(Age=58, Sex='M', ChestPainType='ASY', RestingBP=135, Cholesterol=222, FastingBS=0, RestingECG='Normal', MaxHR=100, ExerciseAngina='N', Oldpeak=0.0, ST_Slope='Up', HeartDisease=0),\n",
              " Row(Age=58, Sex='M', ChestPainType='NAP', RestingBP=140, Cholesterol=179, FastingBS=0, RestingECG='Normal', MaxHR=160, ExerciseAngina='N', Oldpeak=0.0, ST_Slope='Up', HeartDisease=0),\n",
              " Row(Age=29, Sex='M', ChestPainType='ATA', RestingBP=120, Cholesterol=243, FastingBS=0, RestingECG='Normal', MaxHR=160, ExerciseAngina='N', Oldpeak=0.0, ST_Slope='Up', HeartDisease=0),\n",
              " Row(Age=40, Sex='M', ChestPainType='NAP', RestingBP=140, Cholesterol=235, FastingBS=0, RestingECG='Normal', MaxHR=188, ExerciseAngina='N', Oldpeak=0.0, ST_Slope='Up', HeartDisease=0),\n",
              " Row(Age=53, Sex='M', ChestPainType='ATA', RestingBP=140, Cholesterol=320, FastingBS=0, RestingECG='Normal', MaxHR=162, ExerciseAngina='N', Oldpeak=0.0, ST_Slope='Up', HeartDisease=0),\n",
              " Row(Age=49, Sex='M', ChestPainType='NAP', RestingBP=140, Cholesterol=187, FastingBS=0, RestingECG='Normal', MaxHR=172, ExerciseAngina='N', Oldpeak=0.0, ST_Slope='Up', HeartDisease=0),\n",
              " Row(Age=52, Sex='M', ChestPainType='ASY', RestingBP=140, Cholesterol=266, FastingBS=0, RestingECG='Normal', MaxHR=134, ExerciseAngina='Y', Oldpeak=2.0, ST_Slope='Flat', HeartDisease=1),\n",
              " Row(Age=43, Sex='M', ChestPainType='ASY', RestingBP=140, Cholesterol=288, FastingBS=0, RestingECG='Normal', MaxHR=135, ExerciseAngina='Y', Oldpeak=2.0, ST_Slope='Flat', HeartDisease=1),\n",
              " Row(Age=54, Sex='M', ChestPainType='ASY', RestingBP=140, Cholesterol=216, FastingBS=0, RestingECG='Normal', MaxHR=105, ExerciseAngina='N', Oldpeak=1.5, ST_Slope='Flat', HeartDisease=1),\n",
              " Row(Age=59, Sex='M', ChestPainType='ATA', RestingBP=140, Cholesterol=287, FastingBS=0, RestingECG='Normal', MaxHR=150, ExerciseAngina='N', Oldpeak=0.0, ST_Slope='Up', HeartDisease=0),\n",
              " Row(Age=37, Sex='M', ChestPainType='NAP', RestingBP=130, Cholesterol=194, FastingBS=0, RestingECG='Normal', MaxHR=150, ExerciseAngina='N', Oldpeak=0.0, ST_Slope='Up', HeartDisease=0),\n",
              " Row(Age=46, Sex='F', ChestPainType='ASY', RestingBP=130, Cholesterol=238, FastingBS=0, RestingECG='Normal', MaxHR=90, ExerciseAngina='N', Oldpeak=0.0, ST_Slope='Up', HeartDisease=0),\n",
              " Row(Age=52, Sex='M', ChestPainType='ASY', RestingBP=130, Cholesterol=225, FastingBS=0, RestingECG='Normal', MaxHR=120, ExerciseAngina='Y', Oldpeak=2.0, ST_Slope='Flat', HeartDisease=1),\n",
              " Row(Age=51, Sex='M', ChestPainType='ATA', RestingBP=130, Cholesterol=224, FastingBS=0, RestingECG='Normal', MaxHR=150, ExerciseAngina='N', Oldpeak=0.0, ST_Slope='Up', HeartDisease=0),\n",
              " Row(Age=52, Sex='M', ChestPainType='ASY', RestingBP=140, Cholesterol=404, FastingBS=0, RestingECG='Normal', MaxHR=124, ExerciseAngina='Y', Oldpeak=2.0, ST_Slope='Flat', HeartDisease=1),\n",
              " Row(Age=46, Sex='M', ChestPainType='ASY', RestingBP=110, Cholesterol=238, FastingBS=0, RestingECG='ST', MaxHR=140, ExerciseAngina='Y', Oldpeak=1.0, ST_Slope='Flat', HeartDisease=0),\n",
              " Row(Age=54, Sex='F', ChestPainType='ATA', RestingBP=160, Cholesterol=312, FastingBS=0, RestingECG='Normal', MaxHR=130, ExerciseAngina='N', Oldpeak=0.0, ST_Slope='Up', HeartDisease=0),\n",
              " Row(Age=58, Sex='M', ChestPainType='NAP', RestingBP=160, Cholesterol=211, FastingBS=1, RestingECG='ST', MaxHR=92, ExerciseAngina='N', Oldpeak=0.0, ST_Slope='Flat', HeartDisease=1),\n",
              " Row(Age=58, Sex='M', ChestPainType='ATA', RestingBP=130, Cholesterol=251, FastingBS=0, RestingECG='Normal', MaxHR=110, ExerciseAngina='N', Oldpeak=0.0, ST_Slope='Up', HeartDisease=0),\n",
              " Row(Age=41, Sex='M', ChestPainType='ASY', RestingBP=120, Cholesterol=237, FastingBS=1, RestingECG='Normal', MaxHR=138, ExerciseAngina='Y', Oldpeak=1.0, ST_Slope='Flat', HeartDisease=1),\n",
              " Row(Age=50, Sex='F', ChestPainType='ASY', RestingBP=120, Cholesterol=328, FastingBS=0, RestingECG='Normal', MaxHR=110, ExerciseAngina='Y', Oldpeak=1.0, ST_Slope='Flat', HeartDisease=0),\n",
              " Row(Age=53, Sex='M', ChestPainType='ASY', RestingBP=180, Cholesterol=285, FastingBS=0, RestingECG='ST', MaxHR=120, ExerciseAngina='Y', Oldpeak=1.5, ST_Slope='Flat', HeartDisease=1),\n",
              " Row(Age=46, Sex='M', ChestPainType='ASY', RestingBP=180, Cholesterol=280, FastingBS=0, RestingECG='ST', MaxHR=120, ExerciseAngina='N', Oldpeak=0.0, ST_Slope='Up', HeartDisease=0),\n",
              " Row(Age=50, Sex='M', ChestPainType='ATA', RestingBP=170, Cholesterol=209, FastingBS=0, RestingECG='ST', MaxHR=116, ExerciseAngina='N', Oldpeak=0.0, ST_Slope='Up', HeartDisease=0),\n",
              " Row(Age=48, Sex='M', ChestPainType='ATA', RestingBP=130, Cholesterol=245, FastingBS=0, RestingECG='Normal', MaxHR=160, ExerciseAngina='N', Oldpeak=0.0, ST_Slope='Up', HeartDisease=0),\n",
              " Row(Age=45, Sex='M', ChestPainType='NAP', RestingBP=135, Cholesterol=192, FastingBS=0, RestingECG='Normal', MaxHR=110, ExerciseAngina='N', Oldpeak=0.0, ST_Slope='Up', HeartDisease=0),\n",
              " Row(Age=41, Sex='F', ChestPainType='ATA', RestingBP=125, Cholesterol=184, FastingBS=0, RestingECG='Normal', MaxHR=180, ExerciseAngina='N', Oldpeak=0.0, ST_Slope='Up', HeartDisease=0),\n",
              " Row(Age=62, Sex='F', ChestPainType='TA', RestingBP=160, Cholesterol=193, FastingBS=0, RestingECG='Normal', MaxHR=116, ExerciseAngina='N', Oldpeak=0.0, ST_Slope='Up', HeartDisease=0),\n",
              " Row(Age=49, Sex='M', ChestPainType='ASY', RestingBP=120, Cholesterol=297, FastingBS=0, RestingECG='Normal', MaxHR=132, ExerciseAngina='N', Oldpeak=1.0, ST_Slope='Flat', HeartDisease=0),\n",
              " Row(Age=42, Sex='M', ChestPainType='ATA', RestingBP=150, Cholesterol=268, FastingBS=0, RestingECG='Normal', MaxHR=136, ExerciseAngina='N', Oldpeak=0.0, ST_Slope='Up', HeartDisease=0),\n",
              " Row(Age=53, Sex='M', ChestPainType='ASY', RestingBP=120, Cholesterol=246, FastingBS=0, RestingECG='Normal', MaxHR=116, ExerciseAngina='Y', Oldpeak=0.0, ST_Slope='Flat', HeartDisease=1),\n",
              " Row(Age=57, Sex='F', ChestPainType='TA', RestingBP=130, Cholesterol=308, FastingBS=0, RestingECG='Normal', MaxHR=98, ExerciseAngina='N', Oldpeak=1.0, ST_Slope='Flat', HeartDisease=0),\n",
              " Row(Age=47, Sex='M', ChestPainType='TA', RestingBP=110, Cholesterol=249, FastingBS=0, RestingECG='Normal', MaxHR=150, ExerciseAngina='N', Oldpeak=0.0, ST_Slope='Up', HeartDisease=0),\n",
              " Row(Age=46, Sex='M', ChestPainType='NAP', RestingBP=120, Cholesterol=230, FastingBS=0, RestingECG='Normal', MaxHR=150, ExerciseAngina='N', Oldpeak=0.0, ST_Slope='Up', HeartDisease=0),\n",
              " Row(Age=42, Sex='M', ChestPainType='NAP', RestingBP=160, Cholesterol=147, FastingBS=0, RestingECG='Normal', MaxHR=146, ExerciseAngina='N', Oldpeak=0.0, ST_Slope='Up', HeartDisease=0),\n",
              " Row(Age=31, Sex='F', ChestPainType='ATA', RestingBP=100, Cholesterol=219, FastingBS=0, RestingECG='ST', MaxHR=150, ExerciseAngina='N', Oldpeak=0.0, ST_Slope='Up', HeartDisease=0),\n",
              " Row(Age=56, Sex='M', ChestPainType='ATA', RestingBP=130, Cholesterol=184, FastingBS=0, RestingECG='Normal', MaxHR=100, ExerciseAngina='N', Oldpeak=0.0, ST_Slope='Up', HeartDisease=0),\n",
              " Row(Age=50, Sex='M', ChestPainType='ASY', RestingBP=150, Cholesterol=215, FastingBS=0, RestingECG='Normal', MaxHR=140, ExerciseAngina='Y', Oldpeak=0.0, ST_Slope='Up', HeartDisease=0),\n",
              " Row(Age=35, Sex='M', ChestPainType='ATA', RestingBP=120, Cholesterol=308, FastingBS=0, RestingECG='LVH', MaxHR=180, ExerciseAngina='N', Oldpeak=0.0, ST_Slope='Up', HeartDisease=0),\n",
              " Row(Age=35, Sex='M', ChestPainType='ATA', RestingBP=110, Cholesterol=257, FastingBS=0, RestingECG='Normal', MaxHR=140, ExerciseAngina='N', Oldpeak=0.0, ST_Slope='Flat', HeartDisease=1),\n",
              " Row(Age=28, Sex='M', ChestPainType='ATA', RestingBP=130, Cholesterol=132, FastingBS=0, RestingECG='LVH', MaxHR=185, ExerciseAngina='N', Oldpeak=0.0, ST_Slope='Up', HeartDisease=0),\n",
              " Row(Age=54, Sex='M', ChestPainType='ASY', RestingBP=125, Cholesterol=216, FastingBS=0, RestingECG='Normal', MaxHR=140, ExerciseAngina='N', Oldpeak=0.0, ST_Slope='Flat', HeartDisease=1),\n",
              " Row(Age=48, Sex='M', ChestPainType='ASY', RestingBP=106, Cholesterol=263, FastingBS=1, RestingECG='Normal', MaxHR=110, ExerciseAngina='N', Oldpeak=0.0, ST_Slope='Flat', HeartDisease=1),\n",
              " Row(Age=50, Sex='F', ChestPainType='NAP', RestingBP=140, Cholesterol=288, FastingBS=0, RestingECG='Normal', MaxHR=140, ExerciseAngina='Y', Oldpeak=0.0, ST_Slope='Flat', HeartDisease=1),\n",
              " Row(Age=56, Sex='M', ChestPainType='NAP', RestingBP=130, Cholesterol=276, FastingBS=0, RestingECG='Normal', MaxHR=128, ExerciseAngina='Y', Oldpeak=1.0, ST_Slope='Up', HeartDisease=0),\n",
              " Row(Age=56, Sex='F', ChestPainType='NAP', RestingBP=130, Cholesterol=219, FastingBS=0, RestingECG='ST', MaxHR=164, ExerciseAngina='N', Oldpeak=0.0, ST_Slope='Up', HeartDisease=0),\n",
              " Row(Age=47, Sex='M', ChestPainType='ASY', RestingBP=150, Cholesterol=226, FastingBS=0, RestingECG='Normal', MaxHR=98, ExerciseAngina='Y', Oldpeak=1.5, ST_Slope='Flat', HeartDisease=1),\n",
              " Row(Age=30, Sex='F', ChestPainType='TA', RestingBP=170, Cholesterol=237, FastingBS=0, RestingECG='ST', MaxHR=170, ExerciseAngina='N', Oldpeak=0.0, ST_Slope='Up', HeartDisease=0),\n",
              " Row(Age=39, Sex='M', ChestPainType='ASY', RestingBP=110, Cholesterol=280, FastingBS=0, RestingECG='Normal', MaxHR=150, ExerciseAngina='N', Oldpeak=0.0, ST_Slope='Flat', HeartDisease=1),\n",
              " Row(Age=54, Sex='M', ChestPainType='NAP', RestingBP=120, Cholesterol=217, FastingBS=0, RestingECG='Normal', MaxHR=137, ExerciseAngina='N', Oldpeak=0.0, ST_Slope='Up', HeartDisease=0),\n",
              " Row(Age=55, Sex='M', ChestPainType='ATA', RestingBP=140, Cholesterol=196, FastingBS=0, RestingECG='Normal', MaxHR=150, ExerciseAngina='N', Oldpeak=0.0, ST_Slope='Up', HeartDisease=0),\n",
              " Row(Age=29, Sex='M', ChestPainType='ATA', RestingBP=140, Cholesterol=263, FastingBS=0, RestingECG='Normal', MaxHR=170, ExerciseAngina='N', Oldpeak=0.0, ST_Slope='Up', HeartDisease=0),\n",
              " Row(Age=46, Sex='M', ChestPainType='ASY', RestingBP=130, Cholesterol=222, FastingBS=0, RestingECG='Normal', MaxHR=112, ExerciseAngina='N', Oldpeak=0.0, ST_Slope='Flat', HeartDisease=1),\n",
              " Row(Age=51, Sex='F', ChestPainType='ASY', RestingBP=160, Cholesterol=303, FastingBS=0, RestingECG='Normal', MaxHR=150, ExerciseAngina='Y', Oldpeak=1.0, ST_Slope='Flat', HeartDisease=1),\n",
              " Row(Age=48, Sex='F', ChestPainType='NAP', RestingBP=120, Cholesterol=195, FastingBS=0, RestingECG='Normal', MaxHR=125, ExerciseAngina='N', Oldpeak=0.0, ST_Slope='Up', HeartDisease=0),\n",
              " Row(Age=33, Sex='M', ChestPainType='NAP', RestingBP=120, Cholesterol=298, FastingBS=0, RestingECG='Normal', MaxHR=185, ExerciseAngina='N', Oldpeak=0.0, ST_Slope='Up', HeartDisease=0),\n",
              " Row(Age=55, Sex='M', ChestPainType='ATA', RestingBP=120, Cholesterol=256, FastingBS=1, RestingECG='Normal', MaxHR=137, ExerciseAngina='N', Oldpeak=0.0, ST_Slope='Up', HeartDisease=0),\n",
              " Row(Age=50, Sex='M', ChestPainType='ASY', RestingBP=145, Cholesterol=264, FastingBS=0, RestingECG='Normal', MaxHR=150, ExerciseAngina='N', Oldpeak=0.0, ST_Slope='Flat', HeartDisease=1),\n",
              " Row(Age=53, Sex='M', ChestPainType='NAP', RestingBP=120, Cholesterol=195, FastingBS=0, RestingECG='Normal', MaxHR=140, ExerciseAngina='N', Oldpeak=0.0, ST_Slope='Up', HeartDisease=0),\n",
              " Row(Age=38, Sex='M', ChestPainType='ASY', RestingBP=92, Cholesterol=117, FastingBS=0, RestingECG='Normal', MaxHR=134, ExerciseAngina='Y', Oldpeak=2.5, ST_Slope='Flat', HeartDisease=1),\n",
              " Row(Age=41, Sex='M', ChestPainType='ATA', RestingBP=120, Cholesterol=295, FastingBS=0, RestingECG='Normal', MaxHR=170, ExerciseAngina='N', Oldpeak=0.0, ST_Slope='Up', HeartDisease=0),\n",
              " Row(Age=37, Sex='F', ChestPainType='ASY', RestingBP=130, Cholesterol=173, FastingBS=0, RestingECG='ST', MaxHR=184, ExerciseAngina='N', Oldpeak=0.0, ST_Slope='Up', HeartDisease=0),\n",
              " Row(Age=37, Sex='M', ChestPainType='ASY', RestingBP=130, Cholesterol=315, FastingBS=0, RestingECG='Normal', MaxHR=158, ExerciseAngina='N', Oldpeak=0.0, ST_Slope='Up', HeartDisease=0),\n",
              " Row(Age=40, Sex='M', ChestPainType='NAP', RestingBP=130, Cholesterol=281, FastingBS=0, RestingECG='Normal', MaxHR=167, ExerciseAngina='N', Oldpeak=0.0, ST_Slope='Up', HeartDisease=0),\n",
              " Row(Age=38, Sex='F', ChestPainType='ATA', RestingBP=120, Cholesterol=275, FastingBS=0, RestingECG='Normal', MaxHR=129, ExerciseAngina='N', Oldpeak=0.0, ST_Slope='Up', HeartDisease=0),\n",
              " Row(Age=41, Sex='M', ChestPainType='ASY', RestingBP=112, Cholesterol=250, FastingBS=0, RestingECG='Normal', MaxHR=142, ExerciseAngina='N', Oldpeak=0.0, ST_Slope='Up', HeartDisease=0),\n",
              " Row(Age=54, Sex='F', ChestPainType='ATA', RestingBP=140, Cholesterol=309, FastingBS=0, RestingECG='ST', MaxHR=140, ExerciseAngina='N', Oldpeak=0.0, ST_Slope='Up', HeartDisease=0),\n",
              " Row(Age=39, Sex='M', ChestPainType='ATA', RestingBP=120, Cholesterol=200, FastingBS=0, RestingECG='Normal', MaxHR=160, ExerciseAngina='Y', Oldpeak=1.0, ST_Slope='Flat', HeartDisease=0),\n",
              " Row(Age=41, Sex='M', ChestPainType='ASY', RestingBP=120, Cholesterol=336, FastingBS=0, RestingECG='Normal', MaxHR=118, ExerciseAngina='Y', Oldpeak=3.0, ST_Slope='Flat', HeartDisease=1),\n",
              " Row(Age=55, Sex='M', ChestPainType='TA', RestingBP=140, Cholesterol=295, FastingBS=0, RestingECG='Normal', MaxHR=136, ExerciseAngina='N', Oldpeak=0.0, ST_Slope='Flat', HeartDisease=1),\n",
              " Row(Age=48, Sex='M', ChestPainType='ASY', RestingBP=160, Cholesterol=355, FastingBS=0, RestingECG='Normal', MaxHR=99, ExerciseAngina='Y', Oldpeak=2.0, ST_Slope='Flat', HeartDisease=1),\n",
              " Row(Age=48, Sex='M', ChestPainType='ASY', RestingBP=160, Cholesterol=193, FastingBS=0, RestingECG='Normal', MaxHR=102, ExerciseAngina='Y', Oldpeak=3.0, ST_Slope='Flat', HeartDisease=1),\n",
              " Row(Age=55, Sex='M', ChestPainType='ATA', RestingBP=145, Cholesterol=326, FastingBS=0, RestingECG='Normal', MaxHR=155, ExerciseAngina='N', Oldpeak=0.0, ST_Slope='Up', HeartDisease=0),\n",
              " Row(Age=54, Sex='M', ChestPainType='ASY', RestingBP=200, Cholesterol=198, FastingBS=0, RestingECG='Normal', MaxHR=142, ExerciseAngina='Y', Oldpeak=2.0, ST_Slope='Flat', HeartDisease=1),\n",
              " Row(Age=55, Sex='M', ChestPainType='ATA', RestingBP=160, Cholesterol=292, FastingBS=1, RestingECG='Normal', MaxHR=143, ExerciseAngina='Y', Oldpeak=2.0, ST_Slope='Flat', HeartDisease=1),\n",
              " Row(Age=43, Sex='F', ChestPainType='ATA', RestingBP=120, Cholesterol=266, FastingBS=0, RestingECG='Normal', MaxHR=118, ExerciseAngina='N', Oldpeak=0.0, ST_Slope='Up', HeartDisease=0),\n",
              " Row(Age=48, Sex='M', ChestPainType='ASY', RestingBP=160, Cholesterol=268, FastingBS=0, RestingECG='Normal', MaxHR=103, ExerciseAngina='Y', Oldpeak=1.0, ST_Slope='Flat', HeartDisease=1),\n",
              " Row(Age=54, Sex='M', ChestPainType='TA', RestingBP=120, Cholesterol=171, FastingBS=0, RestingECG='Normal', MaxHR=137, ExerciseAngina='N', Oldpeak=2.0, ST_Slope='Up', HeartDisease=0),\n",
              " Row(Age=54, Sex='M', ChestPainType='NAP', RestingBP=120, Cholesterol=237, FastingBS=0, RestingECG='Normal', MaxHR=150, ExerciseAngina='Y', Oldpeak=1.5, ST_Slope='Flat', HeartDisease=1),\n",
              " Row(Age=48, Sex='M', ChestPainType='ASY', RestingBP=122, Cholesterol=275, FastingBS=1, RestingECG='ST', MaxHR=150, ExerciseAngina='Y', Oldpeak=2.0, ST_Slope='Down', HeartDisease=1),\n",
              " Row(Age=45, Sex='M', ChestPainType='ASY', RestingBP=130, Cholesterol=219, FastingBS=0, RestingECG='ST', MaxHR=130, ExerciseAngina='Y', Oldpeak=1.0, ST_Slope='Flat', HeartDisease=1),\n",
              " Row(Age=49, Sex='M', ChestPainType='ASY', RestingBP=130, Cholesterol=341, FastingBS=0, RestingECG='Normal', MaxHR=120, ExerciseAngina='Y', Oldpeak=1.0, ST_Slope='Flat', HeartDisease=1),\n",
              " Row(Age=44, Sex='M', ChestPainType='ASY', RestingBP=135, Cholesterol=491, FastingBS=0, RestingECG='Normal', MaxHR=135, ExerciseAngina='N', Oldpeak=0.0, ST_Slope='Flat', HeartDisease=1),\n",
              " Row(Age=48, Sex='M', ChestPainType='ASY', RestingBP=120, Cholesterol=260, FastingBS=0, RestingECG='Normal', MaxHR=115, ExerciseAngina='N', Oldpeak=2.0, ST_Slope='Flat', HeartDisease=1),\n",
              " Row(Age=61, Sex='M', ChestPainType='ASY', RestingBP=125, Cholesterol=292, FastingBS=0, RestingECG='ST', MaxHR=115, ExerciseAngina='Y', Oldpeak=0.0, ST_Slope='Up', HeartDisease=0),\n",
              " Row(Age=62, Sex='M', ChestPainType='ATA', RestingBP=140, Cholesterol=271, FastingBS=0, RestingECG='Normal', MaxHR=152, ExerciseAngina='N', Oldpeak=1.0, ST_Slope='Up', HeartDisease=0),\n",
              " Row(Age=55, Sex='M', ChestPainType='ASY', RestingBP=145, Cholesterol=248, FastingBS=0, RestingECG='Normal', MaxHR=96, ExerciseAngina='Y', Oldpeak=2.0, ST_Slope='Flat', HeartDisease=1),\n",
              " Row(Age=53, Sex='F', ChestPainType='NAP', RestingBP=120, Cholesterol=274, FastingBS=0, RestingECG='Normal', MaxHR=130, ExerciseAngina='N', Oldpeak=0.0, ST_Slope='Up', HeartDisease=0),\n",
              " Row(Age=55, Sex='F', ChestPainType='ATA', RestingBP=130, Cholesterol=394, FastingBS=0, RestingECG='LVH', MaxHR=150, ExerciseAngina='N', Oldpeak=0.0, ST_Slope='Up', HeartDisease=0),\n",
              " Row(Age=36, Sex='M', ChestPainType='NAP', RestingBP=150, Cholesterol=160, FastingBS=0, RestingECG='Normal', MaxHR=172, ExerciseAngina='N', Oldpeak=0.0, ST_Slope='Up', HeartDisease=0),\n",
              " Row(Age=51, Sex='F', ChestPainType='NAP', RestingBP=150, Cholesterol=200, FastingBS=0, RestingECG='Normal', MaxHR=120, ExerciseAngina='N', Oldpeak=0.5, ST_Slope='Up', HeartDisease=0),\n",
              " Row(Age=55, Sex='F', ChestPainType='ATA', RestingBP=122, Cholesterol=320, FastingBS=0, RestingECG='Normal', MaxHR=155, ExerciseAngina='N', Oldpeak=0.0, ST_Slope='Up', HeartDisease=0),\n",
              " Row(Age=46, Sex='M', ChestPainType='ATA', RestingBP=140, Cholesterol=275, FastingBS=0, RestingECG='Normal', MaxHR=165, ExerciseAngina='Y', Oldpeak=0.0, ST_Slope='Up', HeartDisease=0),\n",
              " Row(Age=54, Sex='F', ChestPainType='ATA', RestingBP=120, Cholesterol=221, FastingBS=0, RestingECG='Normal', MaxHR=138, ExerciseAngina='N', Oldpeak=1.0, ST_Slope='Up', HeartDisease=0),\n",
              " Row(Age=46, Sex='M', ChestPainType='ASY', RestingBP=120, Cholesterol=231, FastingBS=0, RestingECG='Normal', MaxHR=115, ExerciseAngina='Y', Oldpeak=0.0, ST_Slope='Flat', HeartDisease=1),\n",
              " Row(Age=59, Sex='M', ChestPainType='ASY', RestingBP=130, Cholesterol=126, FastingBS=0, RestingECG='Normal', MaxHR=125, ExerciseAngina='N', Oldpeak=0.0, ST_Slope='Flat', HeartDisease=1),\n",
              " Row(Age=47, Sex='M', ChestPainType='NAP', RestingBP=140, Cholesterol=193, FastingBS=0, RestingECG='Normal', MaxHR=145, ExerciseAngina='Y', Oldpeak=1.0, ST_Slope='Flat', HeartDisease=1),\n",
              " Row(Age=54, Sex='M', ChestPainType='ATA', RestingBP=160, Cholesterol=305, FastingBS=0, RestingECG='Normal', MaxHR=175, ExerciseAngina='N', Oldpeak=0.0, ST_Slope='Up', HeartDisease=0),\n",
              " Row(Age=52, Sex='M', ChestPainType='ASY', RestingBP=130, Cholesterol=298, FastingBS=0, RestingECG='Normal', MaxHR=110, ExerciseAngina='Y', Oldpeak=1.0, ST_Slope='Flat', HeartDisease=1),\n",
              " Row(Age=34, Sex='M', ChestPainType='ATA', RestingBP=98, Cholesterol=220, FastingBS=0, RestingECG='Normal', MaxHR=150, ExerciseAngina='N', Oldpeak=0.0, ST_Slope='Up', HeartDisease=0),\n",
              " Row(Age=54, Sex='M', ChestPainType='ASY', RestingBP=130, Cholesterol=242, FastingBS=0, RestingECG='Normal', MaxHR=91, ExerciseAngina='Y', Oldpeak=1.0, ST_Slope='Flat', HeartDisease=1),\n",
              " Row(Age=47, Sex='F', ChestPainType='NAP', RestingBP=130, Cholesterol=235, FastingBS=0, RestingECG='Normal', MaxHR=145, ExerciseAngina='N', Oldpeak=2.0, ST_Slope='Flat', HeartDisease=0),\n",
              " Row(Age=45, Sex='M', ChestPainType='ASY', RestingBP=120, Cholesterol=225, FastingBS=0, RestingECG='Normal', MaxHR=140, ExerciseAngina='N', Oldpeak=0.0, ST_Slope='Up', HeartDisease=0),\n",
              " Row(Age=32, Sex='F', ChestPainType='ATA', RestingBP=105, Cholesterol=198, FastingBS=0, RestingECG='Normal', MaxHR=165, ExerciseAngina='N', Oldpeak=0.0, ST_Slope='Up', HeartDisease=0),\n",
              " Row(Age=55, Sex='M', ChestPainType='ASY', RestingBP=140, Cholesterol=201, FastingBS=0, RestingECG='Normal', MaxHR=130, ExerciseAngina='Y', Oldpeak=3.0, ST_Slope='Flat', HeartDisease=1),\n",
              " Row(Age=55, Sex='M', ChestPainType='NAP', RestingBP=120, Cholesterol=220, FastingBS=0, RestingECG='LVH', MaxHR=134, ExerciseAngina='N', Oldpeak=0.0, ST_Slope='Up', HeartDisease=0),\n",
              " Row(Age=45, Sex='F', ChestPainType='ATA', RestingBP=180, Cholesterol=295, FastingBS=0, RestingECG='Normal', MaxHR=180, ExerciseAngina='N', Oldpeak=0.0, ST_Slope='Up', HeartDisease=0),\n",
              " Row(Age=59, Sex='M', ChestPainType='NAP', RestingBP=180, Cholesterol=213, FastingBS=0, RestingECG='Normal', MaxHR=100, ExerciseAngina='N', Oldpeak=0.0, ST_Slope='Up', HeartDisease=0),\n",
              " Row(Age=51, Sex='M', ChestPainType='NAP', RestingBP=135, Cholesterol=160, FastingBS=0, RestingECG='Normal', MaxHR=150, ExerciseAngina='N', Oldpeak=2.0, ST_Slope='Flat', HeartDisease=1),\n",
              " Row(Age=52, Sex='M', ChestPainType='ASY', RestingBP=170, Cholesterol=223, FastingBS=0, RestingECG='Normal', MaxHR=126, ExerciseAngina='Y', Oldpeak=1.5, ST_Slope='Flat', HeartDisease=1),\n",
              " Row(Age=57, Sex='F', ChestPainType='ASY', RestingBP=180, Cholesterol=347, FastingBS=0, RestingECG='ST', MaxHR=126, ExerciseAngina='Y', Oldpeak=0.8, ST_Slope='Flat', HeartDisease=0),\n",
              " Row(Age=54, Sex='F', ChestPainType='ATA', RestingBP=130, Cholesterol=253, FastingBS=0, RestingECG='ST', MaxHR=155, ExerciseAngina='N', Oldpeak=0.0, ST_Slope='Up', HeartDisease=0),\n",
              " Row(Age=60, Sex='M', ChestPainType='NAP', RestingBP=120, Cholesterol=246, FastingBS=0, RestingECG='LVH', MaxHR=135, ExerciseAngina='N', Oldpeak=0.0, ST_Slope='Up', HeartDisease=0),\n",
              " Row(Age=49, Sex='M', ChestPainType='ASY', RestingBP=150, Cholesterol=222, FastingBS=0, RestingECG='Normal', MaxHR=122, ExerciseAngina='N', Oldpeak=2.0, ST_Slope='Flat', HeartDisease=1),\n",
              " Row(Age=51, Sex='F', ChestPainType='NAP', RestingBP=130, Cholesterol=220, FastingBS=0, RestingECG='Normal', MaxHR=160, ExerciseAngina='Y', Oldpeak=2.0, ST_Slope='Up', HeartDisease=0),\n",
              " Row(Age=55, Sex='F', ChestPainType='ATA', RestingBP=110, Cholesterol=344, FastingBS=0, RestingECG='ST', MaxHR=160, ExerciseAngina='N', Oldpeak=0.0, ST_Slope='Up', HeartDisease=0),\n",
              " Row(Age=42, Sex='M', ChestPainType='ASY', RestingBP=140, Cholesterol=358, FastingBS=0, RestingECG='Normal', MaxHR=170, ExerciseAngina='N', Oldpeak=0.0, ST_Slope='Up', HeartDisease=0),\n",
              " Row(Age=51, Sex='F', ChestPainType='NAP', RestingBP=110, Cholesterol=190, FastingBS=0, RestingECG='Normal', MaxHR=120, ExerciseAngina='N', Oldpeak=0.0, ST_Slope='Up', HeartDisease=0),\n",
              " Row(Age=59, Sex='M', ChestPainType='ASY', RestingBP=140, Cholesterol=169, FastingBS=0, RestingECG='Normal', MaxHR=140, ExerciseAngina='N', Oldpeak=0.0, ST_Slope='Up', HeartDisease=0),\n",
              " Row(Age=53, Sex='M', ChestPainType='ATA', RestingBP=120, Cholesterol=181, FastingBS=0, RestingECG='Normal', MaxHR=132, ExerciseAngina='N', Oldpeak=0.0, ST_Slope='Up', HeartDisease=0),\n",
              " Row(Age=48, Sex='F', ChestPainType='ATA', RestingBP=133, Cholesterol=308, FastingBS=0, RestingECG='ST', MaxHR=156, ExerciseAngina='N', Oldpeak=2.0, ST_Slope='Up', HeartDisease=0),\n",
              " Row(Age=36, Sex='M', ChestPainType='ATA', RestingBP=120, Cholesterol=166, FastingBS=0, RestingECG='Normal', MaxHR=180, ExerciseAngina='N', Oldpeak=0.0, ST_Slope='Up', HeartDisease=0),\n",
              " Row(Age=48, Sex='M', ChestPainType='NAP', RestingBP=110, Cholesterol=211, FastingBS=0, RestingECG='Normal', MaxHR=138, ExerciseAngina='N', Oldpeak=0.0, ST_Slope='Up', HeartDisease=0),\n",
              " Row(Age=47, Sex='F', ChestPainType='ATA', RestingBP=140, Cholesterol=257, FastingBS=0, RestingECG='Normal', MaxHR=135, ExerciseAngina='N', Oldpeak=1.0, ST_Slope='Up', HeartDisease=0),\n",
              " Row(Age=53, Sex='M', ChestPainType='ASY', RestingBP=130, Cholesterol=182, FastingBS=0, RestingECG='Normal', MaxHR=148, ExerciseAngina='N', Oldpeak=0.0, ST_Slope='Up', HeartDisease=0),\n",
              " Row(Age=65, Sex='M', ChestPainType='ASY', RestingBP=115, Cholesterol=0, FastingBS=0, RestingECG='Normal', MaxHR=93, ExerciseAngina='Y', Oldpeak=0.0, ST_Slope='Flat', HeartDisease=1),\n",
              " Row(Age=32, Sex='M', ChestPainType='TA', RestingBP=95, Cholesterol=0, FastingBS=1, RestingECG='Normal', MaxHR=127, ExerciseAngina='N', Oldpeak=0.7, ST_Slope='Up', HeartDisease=1),\n",
              " Row(Age=61, Sex='M', ChestPainType='ASY', RestingBP=105, Cholesterol=0, FastingBS=1, RestingECG='Normal', MaxHR=110, ExerciseAngina='Y', Oldpeak=1.5, ST_Slope='Up', HeartDisease=1),\n",
              " Row(Age=50, Sex='M', ChestPainType='ASY', RestingBP=145, Cholesterol=0, FastingBS=1, RestingECG='Normal', MaxHR=139, ExerciseAngina='Y', Oldpeak=0.7, ST_Slope='Flat', HeartDisease=1),\n",
              " Row(Age=57, Sex='M', ChestPainType='ASY', RestingBP=110, Cholesterol=0, FastingBS=1, RestingECG='ST', MaxHR=131, ExerciseAngina='Y', Oldpeak=1.4, ST_Slope='Up', HeartDisease=1),\n",
              " Row(Age=51, Sex='M', ChestPainType='ASY', RestingBP=110, Cholesterol=0, FastingBS=1, RestingECG='Normal', MaxHR=92, ExerciseAngina='N', Oldpeak=0.0, ST_Slope='Flat', HeartDisease=1),\n",
              " Row(Age=47, Sex='M', ChestPainType='ASY', RestingBP=110, Cholesterol=0, FastingBS=1, RestingECG='ST', MaxHR=149, ExerciseAngina='N', Oldpeak=2.1, ST_Slope='Up', HeartDisease=1),\n",
              " Row(Age=60, Sex='M', ChestPainType='ASY', RestingBP=160, Cholesterol=0, FastingBS=1, RestingECG='Normal', MaxHR=149, ExerciseAngina='N', Oldpeak=0.4, ST_Slope='Flat', HeartDisease=1),\n",
              " Row(Age=55, Sex='M', ChestPainType='ATA', RestingBP=140, Cholesterol=0, FastingBS=0, RestingECG='ST', MaxHR=150, ExerciseAngina='N', Oldpeak=0.2, ST_Slope='Up', HeartDisease=0),\n",
              " Row(Age=53, Sex='M', ChestPainType='ASY', RestingBP=125, Cholesterol=0, FastingBS=1, RestingECG='Normal', MaxHR=120, ExerciseAngina='N', Oldpeak=1.5, ST_Slope='Up', HeartDisease=1),\n",
              " Row(Age=62, Sex='F', ChestPainType='ASY', RestingBP=120, Cholesterol=0, FastingBS=1, RestingECG='ST', MaxHR=123, ExerciseAngina='Y', Oldpeak=1.7, ST_Slope='Down', HeartDisease=1),\n",
              " Row(Age=51, Sex='M', ChestPainType='ASY', RestingBP=95, Cholesterol=0, FastingBS=1, RestingECG='Normal', MaxHR=126, ExerciseAngina='N', Oldpeak=2.2, ST_Slope='Flat', HeartDisease=1),\n",
              " Row(Age=51, Sex='F', ChestPainType='ASY', RestingBP=120, Cholesterol=0, FastingBS=1, RestingECG='Normal', MaxHR=127, ExerciseAngina='Y', Oldpeak=1.5, ST_Slope='Up', HeartDisease=1),\n",
              " Row(Age=55, Sex='M', ChestPainType='ASY', RestingBP=115, Cholesterol=0, FastingBS=1, RestingECG='Normal', MaxHR=155, ExerciseAngina='N', Oldpeak=0.1, ST_Slope='Flat', HeartDisease=1),\n",
              " Row(Age=53, Sex='M', ChestPainType='ATA', RestingBP=130, Cholesterol=0, FastingBS=0, RestingECG='ST', MaxHR=120, ExerciseAngina='N', Oldpeak=0.7, ST_Slope='Down', HeartDisease=0),\n",
              " Row(Age=58, Sex='M', ChestPainType='ASY', RestingBP=115, Cholesterol=0, FastingBS=1, RestingECG='Normal', MaxHR=138, ExerciseAngina='N', Oldpeak=0.5, ST_Slope='Up', HeartDisease=1),\n",
              " Row(Age=57, Sex='M', ChestPainType='ASY', RestingBP=95, Cholesterol=0, FastingBS=1, RestingECG='Normal', MaxHR=182, ExerciseAngina='N', Oldpeak=0.7, ST_Slope='Down', HeartDisease=1),\n",
              " Row(Age=65, Sex='M', ChestPainType='ASY', RestingBP=155, Cholesterol=0, FastingBS=0, RestingECG='Normal', MaxHR=154, ExerciseAngina='N', Oldpeak=1.0, ST_Slope='Up', HeartDisease=0),\n",
              " Row(Age=60, Sex='M', ChestPainType='ASY', RestingBP=125, Cholesterol=0, FastingBS=1, RestingECG='Normal', MaxHR=110, ExerciseAngina='N', Oldpeak=0.1, ST_Slope='Up', HeartDisease=1),\n",
              " Row(Age=41, Sex='M', ChestPainType='ASY', RestingBP=125, Cholesterol=0, FastingBS=1, RestingECG='Normal', MaxHR=176, ExerciseAngina='N', Oldpeak=1.6, ST_Slope='Up', HeartDisease=1),\n",
              " Row(Age=34, Sex='M', ChestPainType='ASY', RestingBP=115, Cholesterol=0, FastingBS=1, RestingECG='Normal', MaxHR=154, ExerciseAngina='N', Oldpeak=0.2, ST_Slope='Up', HeartDisease=1),\n",
              " Row(Age=53, Sex='M', ChestPainType='ASY', RestingBP=80, Cholesterol=0, FastingBS=0, RestingECG='Normal', MaxHR=141, ExerciseAngina='Y', Oldpeak=2.0, ST_Slope='Down', HeartDisease=0),\n",
              " Row(Age=74, Sex='M', ChestPainType='ATA', RestingBP=145, Cholesterol=0, FastingBS=1, RestingECG='ST', MaxHR=123, ExerciseAngina='N', Oldpeak=1.3, ST_Slope='Up', HeartDisease=1),\n",
              " Row(Age=57, Sex='M', ChestPainType='NAP', RestingBP=105, Cholesterol=0, FastingBS=1, RestingECG='Normal', MaxHR=148, ExerciseAngina='N', Oldpeak=0.3, ST_Slope='Flat', HeartDisease=1),\n",
              " Row(Age=56, Sex='M', ChestPainType='ASY', RestingBP=140, Cholesterol=0, FastingBS=1, RestingECG='Normal', MaxHR=121, ExerciseAngina='Y', Oldpeak=1.8, ST_Slope='Up', HeartDisease=1),\n",
              " Row(Age=61, Sex='M', ChestPainType='ASY', RestingBP=130, Cholesterol=0, FastingBS=1, RestingECG='Normal', MaxHR=77, ExerciseAngina='N', Oldpeak=2.5, ST_Slope='Flat', HeartDisease=1),\n",
              " Row(Age=68, Sex='M', ChestPainType='ASY', RestingBP=145, Cholesterol=0, FastingBS=1, RestingECG='Normal', MaxHR=136, ExerciseAngina='N', Oldpeak=1.8, ST_Slope='Up', HeartDisease=1),\n",
              " Row(Age=59, Sex='M', ChestPainType='NAP', RestingBP=125, Cholesterol=0, FastingBS=1, RestingECG='Normal', MaxHR=175, ExerciseAngina='N', Oldpeak=2.6, ST_Slope='Flat', HeartDisease=1),\n",
              " Row(Age=63, Sex='M', ChestPainType='ASY', RestingBP=100, Cholesterol=0, FastingBS=1, RestingECG='Normal', MaxHR=109, ExerciseAngina='N', Oldpeak=-0.9, ST_Slope='Flat', HeartDisease=1),\n",
              " Row(Age=38, Sex='F', ChestPainType='ASY', RestingBP=105, Cholesterol=0, FastingBS=1, RestingECG='Normal', MaxHR=166, ExerciseAngina='N', Oldpeak=2.8, ST_Slope='Up', HeartDisease=1),\n",
              " Row(Age=62, Sex='M', ChestPainType='ASY', RestingBP=115, Cholesterol=0, FastingBS=1, RestingECG='Normal', MaxHR=128, ExerciseAngina='Y', Oldpeak=2.5, ST_Slope='Down', HeartDisease=1),\n",
              " Row(Age=46, Sex='M', ChestPainType='ASY', RestingBP=100, Cholesterol=0, FastingBS=1, RestingECG='ST', MaxHR=133, ExerciseAngina='N', Oldpeak=-2.6, ST_Slope='Flat', HeartDisease=1),\n",
              " Row(Age=42, Sex='M', ChestPainType='ASY', RestingBP=105, Cholesterol=0, FastingBS=1, RestingECG='Normal', MaxHR=128, ExerciseAngina='Y', Oldpeak=-1.5, ST_Slope='Down', HeartDisease=1),\n",
              " Row(Age=45, Sex='M', ChestPainType='NAP', RestingBP=110, Cholesterol=0, FastingBS=0, RestingECG='Normal', MaxHR=138, ExerciseAngina='N', Oldpeak=-0.1, ST_Slope='Up', HeartDisease=0),\n",
              " Row(Age=59, Sex='M', ChestPainType='ASY', RestingBP=125, Cholesterol=0, FastingBS=1, RestingECG='Normal', MaxHR=119, ExerciseAngina='Y', Oldpeak=0.9, ST_Slope='Up', HeartDisease=1),\n",
              " Row(Age=52, Sex='M', ChestPainType='ASY', RestingBP=95, Cholesterol=0, FastingBS=1, RestingECG='Normal', MaxHR=82, ExerciseAngina='Y', Oldpeak=0.8, ST_Slope='Flat', HeartDisease=1),\n",
              " Row(Age=60, Sex='M', ChestPainType='ASY', RestingBP=130, Cholesterol=0, FastingBS=1, RestingECG='ST', MaxHR=130, ExerciseAngina='Y', Oldpeak=1.1, ST_Slope='Down', HeartDisease=1),\n",
              " Row(Age=60, Sex='M', ChestPainType='NAP', RestingBP=115, Cholesterol=0, FastingBS=1, RestingECG='Normal', MaxHR=143, ExerciseAngina='N', Oldpeak=2.4, ST_Slope='Up', HeartDisease=1),\n",
              " Row(Age=56, Sex='M', ChestPainType='ASY', RestingBP=115, Cholesterol=0, FastingBS=1, RestingECG='ST', MaxHR=82, ExerciseAngina='N', Oldpeak=-1.0, ST_Slope='Up', HeartDisease=1),\n",
              " Row(Age=38, Sex='M', ChestPainType='NAP', RestingBP=100, Cholesterol=0, FastingBS=0, RestingECG='Normal', MaxHR=179, ExerciseAngina='N', Oldpeak=-1.1, ST_Slope='Up', HeartDisease=0),\n",
              " Row(Age=40, Sex='M', ChestPainType='ASY', RestingBP=95, Cholesterol=0, FastingBS=1, RestingECG='ST', MaxHR=144, ExerciseAngina='N', Oldpeak=0.0, ST_Slope='Up', HeartDisease=1),\n",
              " Row(Age=51, Sex='M', ChestPainType='ASY', RestingBP=130, Cholesterol=0, FastingBS=1, RestingECG='Normal', MaxHR=170, ExerciseAngina='N', Oldpeak=-0.7, ST_Slope='Up', HeartDisease=1),\n",
              " Row(Age=62, Sex='M', ChestPainType='TA', RestingBP=120, Cholesterol=0, FastingBS=1, RestingECG='LVH', MaxHR=134, ExerciseAngina='N', Oldpeak=-0.8, ST_Slope='Flat', HeartDisease=1),\n",
              " Row(Age=72, Sex='M', ChestPainType='NAP', RestingBP=160, Cholesterol=0, FastingBS=0, RestingECG='LVH', MaxHR=114, ExerciseAngina='N', Oldpeak=1.6, ST_Slope='Flat', HeartDisease=0),\n",
              " Row(Age=63, Sex='M', ChestPainType='ASY', RestingBP=150, Cholesterol=0, FastingBS=1, RestingECG='ST', MaxHR=154, ExerciseAngina='N', Oldpeak=3.7, ST_Slope='Up', HeartDisease=1),\n",
              " Row(Age=63, Sex='M', ChestPainType='ASY', RestingBP=140, Cholesterol=0, FastingBS=1, RestingECG='LVH', MaxHR=149, ExerciseAngina='N', Oldpeak=2.0, ST_Slope='Up', HeartDisease=1),\n",
              " Row(Age=64, Sex='F', ChestPainType='ASY', RestingBP=95, Cholesterol=0, FastingBS=1, RestingECG='Normal', MaxHR=145, ExerciseAngina='N', Oldpeak=1.1, ST_Slope='Down', HeartDisease=1),\n",
              " Row(Age=43, Sex='M', ChestPainType='ASY', RestingBP=100, Cholesterol=0, FastingBS=1, RestingECG='Normal', MaxHR=122, ExerciseAngina='N', Oldpeak=1.5, ST_Slope='Down', HeartDisease=1),\n",
              " Row(Age=64, Sex='M', ChestPainType='ASY', RestingBP=110, Cholesterol=0, FastingBS=1, RestingECG='Normal', MaxHR=114, ExerciseAngina='Y', Oldpeak=1.3, ST_Slope='Down', HeartDisease=1),\n",
              " Row(Age=61, Sex='M', ChestPainType='ASY', RestingBP=110, Cholesterol=0, FastingBS=1, RestingECG='Normal', MaxHR=113, ExerciseAngina='N', Oldpeak=1.4, ST_Slope='Flat', HeartDisease=1),\n",
              " Row(Age=52, Sex='M', ChestPainType='ASY', RestingBP=130, Cholesterol=0, FastingBS=1, RestingECG='Normal', MaxHR=120, ExerciseAngina='N', Oldpeak=0.0, ST_Slope='Flat', HeartDisease=1),\n",
              " Row(Age=51, Sex='M', ChestPainType='ASY', RestingBP=120, Cholesterol=0, FastingBS=1, RestingECG='Normal', MaxHR=104, ExerciseAngina='N', Oldpeak=0.0, ST_Slope='Flat', HeartDisease=1),\n",
              " Row(Age=69, Sex='M', ChestPainType='ASY', RestingBP=135, Cholesterol=0, FastingBS=0, RestingECG='Normal', MaxHR=130, ExerciseAngina='N', Oldpeak=0.0, ST_Slope='Flat', HeartDisease=1),\n",
              " Row(Age=59, Sex='M', ChestPainType='ASY', RestingBP=120, Cholesterol=0, FastingBS=0, RestingECG='Normal', MaxHR=115, ExerciseAngina='N', Oldpeak=0.0, ST_Slope='Flat', HeartDisease=1),\n",
              " Row(Age=48, Sex='M', ChestPainType='ASY', RestingBP=115, Cholesterol=0, FastingBS=1, RestingECG='Normal', MaxHR=128, ExerciseAngina='N', Oldpeak=0.0, ST_Slope='Flat', HeartDisease=1),\n",
              " Row(Age=69, Sex='M', ChestPainType='ASY', RestingBP=137, Cholesterol=0, FastingBS=0, RestingECG='ST', MaxHR=104, ExerciseAngina='Y', Oldpeak=1.6, ST_Slope='Flat', HeartDisease=1),\n",
              " Row(Age=36, Sex='M', ChestPainType='ASY', RestingBP=110, Cholesterol=0, FastingBS=1, RestingECG='Normal', MaxHR=125, ExerciseAngina='Y', Oldpeak=1.0, ST_Slope='Flat', HeartDisease=1),\n",
              " Row(Age=53, Sex='M', ChestPainType='ASY', RestingBP=120, Cholesterol=0, FastingBS=1, RestingECG='Normal', MaxHR=120, ExerciseAngina='N', Oldpeak=0.0, ST_Slope='Flat', HeartDisease=1),\n",
              " Row(Age=43, Sex='M', ChestPainType='ASY', RestingBP=140, Cholesterol=0, FastingBS=0, RestingECG='ST', MaxHR=140, ExerciseAngina='Y', Oldpeak=0.5, ST_Slope='Up', HeartDisease=1),\n",
              " Row(Age=56, Sex='M', ChestPainType='ASY', RestingBP=120, Cholesterol=0, FastingBS=0, RestingECG='ST', MaxHR=100, ExerciseAngina='Y', Oldpeak=-1.0, ST_Slope='Down', HeartDisease=1),\n",
              " Row(Age=58, Sex='M', ChestPainType='ASY', RestingBP=130, Cholesterol=0, FastingBS=0, RestingECG='ST', MaxHR=100, ExerciseAngina='Y', Oldpeak=1.0, ST_Slope='Flat', HeartDisease=1),\n",
              " Row(Age=55, Sex='M', ChestPainType='ASY', RestingBP=120, Cholesterol=0, FastingBS=0, RestingECG='ST', MaxHR=92, ExerciseAngina='N', Oldpeak=0.3, ST_Slope='Up', HeartDisease=1),\n",
              " Row(Age=67, Sex='M', ChestPainType='TA', RestingBP=145, Cholesterol=0, FastingBS=0, RestingECG='LVH', MaxHR=125, ExerciseAngina='N', Oldpeak=0.0, ST_Slope='Flat', HeartDisease=1),\n",
              " Row(Age=46, Sex='M', ChestPainType='ASY', RestingBP=115, Cholesterol=0, FastingBS=0, RestingECG='Normal', MaxHR=113, ExerciseAngina='Y', Oldpeak=1.5, ST_Slope='Flat', HeartDisease=1),\n",
              " Row(Age=53, Sex='M', ChestPainType='ATA', RestingBP=120, Cholesterol=0, FastingBS=0, RestingECG='Normal', MaxHR=95, ExerciseAngina='N', Oldpeak=0.0, ST_Slope='Flat', HeartDisease=1),\n",
              " Row(Age=38, Sex='M', ChestPainType='NAP', RestingBP=115, Cholesterol=0, FastingBS=0, RestingECG='Normal', MaxHR=128, ExerciseAngina='Y', Oldpeak=0.0, ST_Slope='Flat', HeartDisease=1),\n",
              " Row(Age=53, Sex='M', ChestPainType='NAP', RestingBP=105, Cholesterol=0, FastingBS=0, RestingECG='Normal', MaxHR=115, ExerciseAngina='N', Oldpeak=0.0, ST_Slope='Flat', HeartDisease=1),\n",
              " Row(Age=62, Sex='M', ChestPainType='NAP', RestingBP=160, Cholesterol=0, FastingBS=0, RestingECG='Normal', MaxHR=72, ExerciseAngina='Y', Oldpeak=0.0, ST_Slope='Flat', HeartDisease=1),\n",
              " Row(Age=47, Sex='M', ChestPainType='ASY', RestingBP=160, Cholesterol=0, FastingBS=0, RestingECG='Normal', MaxHR=124, ExerciseAngina='Y', Oldpeak=0.0, ST_Slope='Flat', HeartDisease=1),\n",
              " Row(Age=56, Sex='M', ChestPainType='NAP', RestingBP=155, Cholesterol=0, FastingBS=0, RestingECG='ST', MaxHR=99, ExerciseAngina='N', Oldpeak=0.0, ST_Slope='Flat', HeartDisease=1),\n",
              " Row(Age=56, Sex='M', ChestPainType='ASY', RestingBP=120, Cholesterol=0, FastingBS=0, RestingECG='ST', MaxHR=148, ExerciseAngina='N', Oldpeak=0.0, ST_Slope='Flat', HeartDisease=1),\n",
              " Row(Age=56, Sex='M', ChestPainType='NAP', RestingBP=120, Cholesterol=0, FastingBS=0, RestingECG='Normal', MaxHR=97, ExerciseAngina='N', Oldpeak=0.0, ST_Slope='Flat', HeartDisease=0),\n",
              " Row(Age=64, Sex='F', ChestPainType='ASY', RestingBP=200, Cholesterol=0, FastingBS=0, RestingECG='Normal', MaxHR=140, ExerciseAngina='Y', Oldpeak=1.0, ST_Slope='Flat', HeartDisease=1),\n",
              " Row(Age=61, Sex='M', ChestPainType='ASY', RestingBP=150, Cholesterol=0, FastingBS=0, RestingECG='Normal', MaxHR=117, ExerciseAngina='Y', Oldpeak=2.0, ST_Slope='Flat', HeartDisease=1),\n",
              " Row(Age=68, Sex='M', ChestPainType='ASY', RestingBP=135, Cholesterol=0, FastingBS=0, RestingECG='ST', MaxHR=120, ExerciseAngina='Y', Oldpeak=0.0, ST_Slope='Up', HeartDisease=1),\n",
              " Row(Age=57, Sex='M', ChestPainType='ASY', RestingBP=140, Cholesterol=0, FastingBS=0, RestingECG='Normal', MaxHR=120, ExerciseAngina='Y', Oldpeak=2.0, ST_Slope='Flat', HeartDisease=1),\n",
              " Row(Age=63, Sex='M', ChestPainType='ASY', RestingBP=150, Cholesterol=0, FastingBS=0, RestingECG='Normal', MaxHR=86, ExerciseAngina='Y', Oldpeak=2.0, ST_Slope='Flat', HeartDisease=1),\n",
              " Row(Age=60, Sex='M', ChestPainType='ASY', RestingBP=135, Cholesterol=0, FastingBS=0, RestingECG='Normal', MaxHR=63, ExerciseAngina='Y', Oldpeak=0.5, ST_Slope='Up', HeartDisease=1),\n",
              " Row(Age=66, Sex='M', ChestPainType='ASY', RestingBP=150, Cholesterol=0, FastingBS=0, RestingECG='Normal', MaxHR=108, ExerciseAngina='Y', Oldpeak=2.0, ST_Slope='Flat', HeartDisease=1),\n",
              " Row(Age=63, Sex='M', ChestPainType='ASY', RestingBP=185, Cholesterol=0, FastingBS=0, RestingECG='Normal', MaxHR=98, ExerciseAngina='Y', Oldpeak=0.0, ST_Slope='Up', HeartDisease=1),\n",
              " Row(Age=59, Sex='M', ChestPainType='ASY', RestingBP=135, Cholesterol=0, FastingBS=0, RestingECG='Normal', MaxHR=115, ExerciseAngina='Y', Oldpeak=1.0, ST_Slope='Flat', HeartDisease=1),\n",
              " Row(Age=61, Sex='M', ChestPainType='ASY', RestingBP=125, Cholesterol=0, FastingBS=0, RestingECG='Normal', MaxHR=105, ExerciseAngina='Y', Oldpeak=0.0, ST_Slope='Down', HeartDisease=1),\n",
              " Row(Age=73, Sex='F', ChestPainType='NAP', RestingBP=160, Cholesterol=0, FastingBS=0, RestingECG='ST', MaxHR=121, ExerciseAngina='N', Oldpeak=0.0, ST_Slope='Up', HeartDisease=1),\n",
              " Row(Age=47, Sex='M', ChestPainType='NAP', RestingBP=155, Cholesterol=0, FastingBS=0, RestingECG='Normal', MaxHR=118, ExerciseAngina='Y', Oldpeak=1.0, ST_Slope='Flat', HeartDisease=1),\n",
              " Row(Age=65, Sex='M', ChestPainType='ASY', RestingBP=160, Cholesterol=0, FastingBS=1, RestingECG='ST', MaxHR=122, ExerciseAngina='N', Oldpeak=1.2, ST_Slope='Flat', HeartDisease=1),\n",
              " Row(Age=70, Sex='M', ChestPainType='ASY', RestingBP=140, Cholesterol=0, FastingBS=1, RestingECG='Normal', MaxHR=157, ExerciseAngina='Y', Oldpeak=2.0, ST_Slope='Flat', HeartDisease=1),\n",
              " Row(Age=50, Sex='M', ChestPainType='ASY', RestingBP=120, Cholesterol=0, FastingBS=0, RestingECG='ST', MaxHR=156, ExerciseAngina='Y', Oldpeak=0.0, ST_Slope='Up', HeartDisease=1),\n",
              " Row(Age=60, Sex='M', ChestPainType='ASY', RestingBP=160, Cholesterol=0, FastingBS=0, RestingECG='ST', MaxHR=99, ExerciseAngina='Y', Oldpeak=0.5, ST_Slope='Flat', HeartDisease=1),\n",
              " Row(Age=50, Sex='M', ChestPainType='ASY', RestingBP=115, Cholesterol=0, FastingBS=0, RestingECG='Normal', MaxHR=120, ExerciseAngina='Y', Oldpeak=0.5, ST_Slope='Flat', HeartDisease=1),\n",
              " Row(Age=43, Sex='M', ChestPainType='ASY', RestingBP=115, Cholesterol=0, FastingBS=0, RestingECG='Normal', MaxHR=145, ExerciseAngina='Y', Oldpeak=2.0, ST_Slope='Flat', HeartDisease=1),\n",
              " Row(Age=38, Sex='F', ChestPainType='ASY', RestingBP=110, Cholesterol=0, FastingBS=0, RestingECG='Normal', MaxHR=156, ExerciseAngina='N', Oldpeak=0.0, ST_Slope='Flat', HeartDisease=1),\n",
              " Row(Age=54, Sex='M', ChestPainType='ASY', RestingBP=120, Cholesterol=0, FastingBS=0, RestingECG='Normal', MaxHR=155, ExerciseAngina='N', Oldpeak=0.0, ST_Slope='Flat', HeartDisease=1),\n",
              " Row(Age=61, Sex='M', ChestPainType='ASY', RestingBP=150, Cholesterol=0, FastingBS=0, RestingECG='Normal', MaxHR=105, ExerciseAngina='Y', Oldpeak=0.0, ST_Slope='Flat', HeartDisease=1),\n",
              " Row(Age=42, Sex='M', ChestPainType='ASY', RestingBP=145, Cholesterol=0, FastingBS=0, RestingECG='Normal', MaxHR=99, ExerciseAngina='Y', Oldpeak=0.0, ST_Slope='Flat', HeartDisease=1),\n",
              " Row(Age=53, Sex='M', ChestPainType='ASY', RestingBP=130, Cholesterol=0, FastingBS=0, RestingECG='LVH', MaxHR=135, ExerciseAngina='Y', Oldpeak=1.0, ST_Slope='Flat', HeartDisease=1),\n",
              " Row(Age=55, Sex='M', ChestPainType='ASY', RestingBP=140, Cholesterol=0, FastingBS=0, RestingECG='Normal', MaxHR=83, ExerciseAngina='N', Oldpeak=0.0, ST_Slope='Flat', HeartDisease=1),\n",
              " Row(Age=61, Sex='M', ChestPainType='ASY', RestingBP=160, Cholesterol=0, FastingBS=1, RestingECG='ST', MaxHR=145, ExerciseAngina='N', Oldpeak=1.0, ST_Slope='Flat', HeartDisease=1),\n",
              " Row(Age=51, Sex='M', ChestPainType='ASY', RestingBP=140, Cholesterol=0, FastingBS=0, RestingECG='Normal', MaxHR=60, ExerciseAngina='N', Oldpeak=0.0, ST_Slope='Flat', HeartDisease=1),\n",
              " Row(Age=70, Sex='M', ChestPainType='ASY', RestingBP=115, Cholesterol=0, FastingBS=0, RestingECG='ST', MaxHR=92, ExerciseAngina='Y', Oldpeak=0.0, ST_Slope='Flat', HeartDisease=1),\n",
              " Row(Age=61, Sex='M', ChestPainType='ASY', RestingBP=130, Cholesterol=0, FastingBS=0, RestingECG='LVH', MaxHR=115, ExerciseAngina='N', Oldpeak=0.0, ST_Slope='Flat', HeartDisease=1),\n",
              " Row(Age=38, Sex='M', ChestPainType='ASY', RestingBP=150, Cholesterol=0, FastingBS=1, RestingECG='Normal', MaxHR=120, ExerciseAngina='Y', Oldpeak=0.7, ST_Slope='Flat', HeartDisease=1),\n",
              " Row(Age=57, Sex='M', ChestPainType='ASY', RestingBP=160, Cholesterol=0, FastingBS=1, RestingECG='Normal', MaxHR=98, ExerciseAngina='Y', Oldpeak=2.0, ST_Slope='Flat', HeartDisease=1),\n",
              " Row(Age=38, Sex='M', ChestPainType='ASY', RestingBP=135, Cholesterol=0, FastingBS=1, RestingECG='Normal', MaxHR=150, ExerciseAngina='N', Oldpeak=0.0, ST_Slope='Flat', HeartDisease=1),\n",
              " Row(Age=62, Sex='F', ChestPainType='TA', RestingBP=140, Cholesterol=0, FastingBS=1, RestingECG='Normal', MaxHR=143, ExerciseAngina='N', Oldpeak=0.0, ST_Slope='Flat', HeartDisease=1),\n",
              " Row(Age=58, Sex='M', ChestPainType='ASY', RestingBP=170, Cholesterol=0, FastingBS=1, RestingECG='ST', MaxHR=105, ExerciseAngina='Y', Oldpeak=0.0, ST_Slope='Flat', HeartDisease=1),\n",
              " Row(Age=52, Sex='M', ChestPainType='ASY', RestingBP=165, Cholesterol=0, FastingBS=1, RestingECG='Normal', MaxHR=122, ExerciseAngina='Y', Oldpeak=1.0, ST_Slope='Up', HeartDisease=1),\n",
              " Row(Age=61, Sex='M', ChestPainType='NAP', RestingBP=200, Cholesterol=0, FastingBS=1, RestingECG='ST', MaxHR=70, ExerciseAngina='N', Oldpeak=0.0, ST_Slope='Flat', HeartDisease=1),\n",
              " Row(Age=50, Sex='F', ChestPainType='ASY', RestingBP=160, Cholesterol=0, FastingBS=1, RestingECG='Normal', MaxHR=110, ExerciseAngina='N', Oldpeak=0.0, ST_Slope='Flat', HeartDisease=1),\n",
              " Row(Age=51, Sex='M', ChestPainType='ASY', RestingBP=130, Cholesterol=0, FastingBS=1, RestingECG='ST', MaxHR=163, ExerciseAngina='N', Oldpeak=0.0, ST_Slope='Flat', HeartDisease=1),\n",
              " Row(Age=65, Sex='M', ChestPainType='ASY', RestingBP=145, Cholesterol=0, FastingBS=1, RestingECG='ST', MaxHR=67, ExerciseAngina='N', Oldpeak=0.7, ST_Slope='Flat', HeartDisease=1),\n",
              " Row(Age=52, Sex='M', ChestPainType='ASY', RestingBP=135, Cholesterol=0, FastingBS=1, RestingECG='Normal', MaxHR=128, ExerciseAngina='Y', Oldpeak=2.0, ST_Slope='Flat', HeartDisease=1),\n",
              " Row(Age=47, Sex='M', ChestPainType='NAP', RestingBP=110, Cholesterol=0, FastingBS=1, RestingECG='Normal', MaxHR=120, ExerciseAngina='Y', Oldpeak=0.0, ST_Slope='Flat', HeartDisease=1),\n",
              " Row(Age=35, Sex='M', ChestPainType='ASY', RestingBP=120, Cholesterol=0, FastingBS=1, RestingECG='Normal', MaxHR=130, ExerciseAngina='Y', Oldpeak=1.2, ST_Slope='Flat', HeartDisease=1),\n",
              " Row(Age=57, Sex='M', ChestPainType='ASY', RestingBP=140, Cholesterol=0, FastingBS=1, RestingECG='Normal', MaxHR=100, ExerciseAngina='Y', Oldpeak=0.0, ST_Slope='Flat', HeartDisease=1),\n",
              " Row(Age=62, Sex='M', ChestPainType='ASY', RestingBP=115, Cholesterol=0, FastingBS=1, RestingECG='Normal', MaxHR=72, ExerciseAngina='Y', Oldpeak=-0.5, ST_Slope='Flat', HeartDisease=1),\n",
              " Row(Age=59, Sex='M', ChestPainType='ASY', RestingBP=110, Cholesterol=0, FastingBS=1, RestingECG='Normal', MaxHR=94, ExerciseAngina='N', Oldpeak=0.0, ST_Slope='Flat', HeartDisease=1),\n",
              " Row(Age=53, Sex='M', ChestPainType='NAP', RestingBP=160, Cholesterol=0, FastingBS=1, RestingECG='LVH', MaxHR=122, ExerciseAngina='Y', Oldpeak=0.0, ST_Slope='Flat', HeartDisease=1),\n",
              " Row(Age=62, Sex='M', ChestPainType='ASY', RestingBP=150, Cholesterol=0, FastingBS=1, RestingECG='ST', MaxHR=78, ExerciseAngina='N', Oldpeak=2.0, ST_Slope='Flat', HeartDisease=1),\n",
              " Row(Age=54, Sex='M', ChestPainType='ASY', RestingBP=180, Cholesterol=0, FastingBS=1, RestingECG='Normal', MaxHR=150, ExerciseAngina='N', Oldpeak=1.5, ST_Slope='Flat', HeartDisease=1),\n",
              " Row(Age=56, Sex='M', ChestPainType='ASY', RestingBP=125, Cholesterol=0, FastingBS=1, RestingECG='Normal', MaxHR=103, ExerciseAngina='Y', Oldpeak=1.0, ST_Slope='Flat', HeartDisease=1),\n",
              " Row(Age=56, Sex='M', ChestPainType='NAP', RestingBP=125, Cholesterol=0, FastingBS=1, RestingECG='Normal', MaxHR=98, ExerciseAngina='N', Oldpeak=-2.0, ST_Slope='Flat', HeartDisease=1),\n",
              " Row(Age=54, Sex='M', ChestPainType='ASY', RestingBP=130, Cholesterol=0, FastingBS=1, RestingECG='Normal', MaxHR=110, ExerciseAngina='Y', Oldpeak=3.0, ST_Slope='Flat', HeartDisease=1),\n",
              " Row(Age=66, Sex='F', ChestPainType='ASY', RestingBP=155, Cholesterol=0, FastingBS=1, RestingECG='Normal', MaxHR=90, ExerciseAngina='N', Oldpeak=0.0, ST_Slope='Flat', HeartDisease=1),\n",
              " Row(Age=63, Sex='M', ChestPainType='ASY', RestingBP=140, Cholesterol=260, FastingBS=0, RestingECG='ST', MaxHR=112, ExerciseAngina='Y', Oldpeak=3.0, ST_Slope='Flat', HeartDisease=1),\n",
              " Row(Age=44, Sex='M', ChestPainType='ASY', RestingBP=130, Cholesterol=209, FastingBS=0, RestingECG='ST', MaxHR=127, ExerciseAngina='N', Oldpeak=0.0, ST_Slope='Up', HeartDisease=0),\n",
              " Row(Age=60, Sex='M', ChestPainType='ASY', RestingBP=132, Cholesterol=218, FastingBS=0, RestingECG='ST', MaxHR=140, ExerciseAngina='Y', Oldpeak=1.5, ST_Slope='Down', HeartDisease=1),\n",
              " Row(Age=55, Sex='M', ChestPainType='ASY', RestingBP=142, Cholesterol=228, FastingBS=0, RestingECG='ST', MaxHR=149, ExerciseAngina='Y', Oldpeak=2.5, ST_Slope='Up', HeartDisease=1),\n",
              " Row(Age=66, Sex='M', ChestPainType='NAP', RestingBP=110, Cholesterol=213, FastingBS=1, RestingECG='LVH', MaxHR=99, ExerciseAngina='Y', Oldpeak=1.3, ST_Slope='Flat', HeartDisease=0),\n",
              " Row(Age=66, Sex='M', ChestPainType='NAP', RestingBP=120, Cholesterol=0, FastingBS=0, RestingECG='ST', MaxHR=120, ExerciseAngina='N', Oldpeak=-0.5, ST_Slope='Up', HeartDisease=0),\n",
              " Row(Age=65, Sex='M', ChestPainType='ASY', RestingBP=150, Cholesterol=236, FastingBS=1, RestingECG='ST', MaxHR=105, ExerciseAngina='Y', Oldpeak=0.0, ST_Slope='Flat', HeartDisease=1),\n",
              " Row(Age=60, Sex='M', ChestPainType='NAP', RestingBP=180, Cholesterol=0, FastingBS=0, RestingECG='ST', MaxHR=140, ExerciseAngina='Y', Oldpeak=1.5, ST_Slope='Flat', HeartDisease=0),\n",
              " Row(Age=60, Sex='M', ChestPainType='NAP', RestingBP=120, Cholesterol=0, FastingBS=1, RestingECG='Normal', MaxHR=141, ExerciseAngina='Y', Oldpeak=2.0, ST_Slope='Up', HeartDisease=1),\n",
              " Row(Age=60, Sex='M', ChestPainType='ATA', RestingBP=160, Cholesterol=267, FastingBS=1, RestingECG='ST', MaxHR=157, ExerciseAngina='N', Oldpeak=0.5, ST_Slope='Flat', HeartDisease=1),\n",
              " Row(Age=56, Sex='M', ChestPainType='ATA', RestingBP=126, Cholesterol=166, FastingBS=0, RestingECG='ST', MaxHR=140, ExerciseAngina='N', Oldpeak=0.0, ST_Slope='Up', HeartDisease=0),\n",
              " Row(Age=59, Sex='M', ChestPainType='ASY', RestingBP=140, Cholesterol=0, FastingBS=0, RestingECG='ST', MaxHR=117, ExerciseAngina='Y', Oldpeak=1.0, ST_Slope='Flat', HeartDisease=1),\n",
              " Row(Age=62, Sex='M', ChestPainType='ASY', RestingBP=110, Cholesterol=0, FastingBS=0, RestingECG='Normal', MaxHR=120, ExerciseAngina='Y', Oldpeak=0.5, ST_Slope='Flat', HeartDisease=1),\n",
              " Row(Age=63, Sex='M', ChestPainType='NAP', RestingBP=133, Cholesterol=0, FastingBS=0, RestingECG='LVH', MaxHR=120, ExerciseAngina='Y', Oldpeak=1.0, ST_Slope='Flat', HeartDisease=1),\n",
              " Row(Age=57, Sex='M', ChestPainType='ASY', RestingBP=128, Cholesterol=0, FastingBS=1, RestingECG='ST', MaxHR=148, ExerciseAngina='Y', Oldpeak=1.0, ST_Slope='Flat', HeartDisease=1),\n",
              " Row(Age=62, Sex='M', ChestPainType='ASY', RestingBP=120, Cholesterol=220, FastingBS=0, RestingECG='ST', MaxHR=86, ExerciseAngina='N', Oldpeak=0.0, ST_Slope='Up', HeartDisease=0),\n",
              " Row(Age=63, Sex='M', ChestPainType='ASY', RestingBP=170, Cholesterol=177, FastingBS=0, RestingECG='Normal', MaxHR=84, ExerciseAngina='Y', Oldpeak=2.5, ST_Slope='Down', HeartDisease=1),\n",
              " Row(Age=46, Sex='M', ChestPainType='ASY', RestingBP=110, Cholesterol=236, FastingBS=0, RestingECG='Normal', MaxHR=125, ExerciseAngina='Y', Oldpeak=2.0, ST_Slope='Flat', HeartDisease=1),\n",
              " Row(Age=63, Sex='M', ChestPainType='ASY', RestingBP=126, Cholesterol=0, FastingBS=0, RestingECG='ST', MaxHR=120, ExerciseAngina='N', Oldpeak=1.5, ST_Slope='Down', HeartDisease=0),\n",
              " Row(Age=60, Sex='M', ChestPainType='ASY', RestingBP=152, Cholesterol=0, FastingBS=0, RestingECG='ST', MaxHR=118, ExerciseAngina='Y', Oldpeak=0.0, ST_Slope='Up', HeartDisease=0),\n",
              " Row(Age=58, Sex='M', ChestPainType='ASY', RestingBP=116, Cholesterol=0, FastingBS=0, RestingECG='Normal', MaxHR=124, ExerciseAngina='N', Oldpeak=1.0, ST_Slope='Up', HeartDisease=1),\n",
              " Row(Age=64, Sex='M', ChestPainType='ASY', RestingBP=120, Cholesterol=0, FastingBS=1, RestingECG='ST', MaxHR=106, ExerciseAngina='N', Oldpeak=2.0, ST_Slope='Flat', HeartDisease=1),\n",
              " Row(Age=63, Sex='M', ChestPainType='NAP', RestingBP=130, Cholesterol=0, FastingBS=0, RestingECG='ST', MaxHR=111, ExerciseAngina='Y', Oldpeak=0.0, ST_Slope='Flat', HeartDisease=1),\n",
              " Row(Age=74, Sex='M', ChestPainType='NAP', RestingBP=138, Cholesterol=0, FastingBS=0, RestingECG='Normal', MaxHR=116, ExerciseAngina='N', Oldpeak=0.2, ST_Slope='Up', HeartDisease=0),\n",
              " Row(Age=52, Sex='M', ChestPainType='NAP', RestingBP=128, Cholesterol=0, FastingBS=0, RestingECG='ST', MaxHR=180, ExerciseAngina='N', Oldpeak=3.0, ST_Slope='Up', HeartDisease=1),\n",
              " Row(Age=69, Sex='M', ChestPainType='ASY', RestingBP=130, Cholesterol=0, FastingBS=1, RestingECG='ST', MaxHR=129, ExerciseAngina='N', Oldpeak=1.0, ST_Slope='Flat', HeartDisease=1),\n",
              " Row(Age=51, Sex='M', ChestPainType='ASY', RestingBP=128, Cholesterol=0, FastingBS=1, RestingECG='ST', MaxHR=125, ExerciseAngina='Y', Oldpeak=1.2, ST_Slope='Flat', HeartDisease=1),\n",
              " Row(Age=60, Sex='M', ChestPainType='ASY', RestingBP=130, Cholesterol=186, FastingBS=1, RestingECG='ST', MaxHR=140, ExerciseAngina='Y', Oldpeak=0.5, ST_Slope='Flat', HeartDisease=1),\n",
              " Row(Age=56, Sex='M', ChestPainType='ASY', RestingBP=120, Cholesterol=100, FastingBS=0, RestingECG='Normal', MaxHR=120, ExerciseAngina='Y', Oldpeak=1.5, ST_Slope='Flat', HeartDisease=1),\n",
              " Row(Age=55, Sex='M', ChestPainType='NAP', RestingBP=136, Cholesterol=228, FastingBS=0, RestingECG='ST', MaxHR=124, ExerciseAngina='Y', Oldpeak=1.6, ST_Slope='Flat', HeartDisease=1),\n",
              " Row(Age=54, Sex='M', ChestPainType='ASY', RestingBP=130, Cholesterol=0, FastingBS=0, RestingECG='ST', MaxHR=117, ExerciseAngina='Y', Oldpeak=1.4, ST_Slope='Flat', HeartDisease=1),\n",
              " Row(Age=77, Sex='M', ChestPainType='ASY', RestingBP=124, Cholesterol=171, FastingBS=0, RestingECG='ST', MaxHR=110, ExerciseAngina='Y', Oldpeak=2.0, ST_Slope='Up', HeartDisease=1),\n",
              " Row(Age=63, Sex='M', ChestPainType='ASY', RestingBP=160, Cholesterol=230, FastingBS=1, RestingECG='Normal', MaxHR=105, ExerciseAngina='Y', Oldpeak=1.0, ST_Slope='Flat', HeartDisease=1),\n",
              " Row(Age=55, Sex='M', ChestPainType='NAP', RestingBP=0, Cholesterol=0, FastingBS=0, RestingECG='Normal', MaxHR=155, ExerciseAngina='N', Oldpeak=1.5, ST_Slope='Flat', HeartDisease=1),\n",
              " Row(Age=52, Sex='M', ChestPainType='NAP', RestingBP=122, Cholesterol=0, FastingBS=0, RestingECG='Normal', MaxHR=110, ExerciseAngina='Y', Oldpeak=2.0, ST_Slope='Down', HeartDisease=1),\n",
              " Row(Age=64, Sex='M', ChestPainType='ASY', RestingBP=144, Cholesterol=0, FastingBS=0, RestingECG='ST', MaxHR=122, ExerciseAngina='Y', Oldpeak=1.0, ST_Slope='Flat', HeartDisease=1),\n",
              " Row(Age=60, Sex='M', ChestPainType='ASY', RestingBP=140, Cholesterol=281, FastingBS=0, RestingECG='ST', MaxHR=118, ExerciseAngina='Y', Oldpeak=1.5, ST_Slope='Flat', HeartDisease=1),\n",
              " Row(Age=60, Sex='M', ChestPainType='ASY', RestingBP=120, Cholesterol=0, FastingBS=0, RestingECG='Normal', MaxHR=133, ExerciseAngina='Y', Oldpeak=2.0, ST_Slope='Up', HeartDisease=0),\n",
              " Row(Age=58, Sex='M', ChestPainType='ASY', RestingBP=136, Cholesterol=203, FastingBS=1, RestingECG='Normal', MaxHR=123, ExerciseAngina='Y', Oldpeak=1.2, ST_Slope='Flat', HeartDisease=1),\n",
              " Row(Age=59, Sex='M', ChestPainType='ASY', RestingBP=154, Cholesterol=0, FastingBS=0, RestingECG='ST', MaxHR=131, ExerciseAngina='Y', Oldpeak=1.5, ST_Slope='Up', HeartDisease=0),\n",
              " Row(Age=61, Sex='M', ChestPainType='NAP', RestingBP=120, Cholesterol=0, FastingBS=0, RestingECG='Normal', MaxHR=80, ExerciseAngina='Y', Oldpeak=0.0, ST_Slope='Flat', HeartDisease=1),\n",
              " Row(Age=40, Sex='M', ChestPainType='ASY', RestingBP=125, Cholesterol=0, FastingBS=1, RestingECG='Normal', MaxHR=165, ExerciseAngina='N', Oldpeak=0.0, ST_Slope='Flat', HeartDisease=1),\n",
              " Row(Age=61, Sex='M', ChestPainType='ASY', RestingBP=134, Cholesterol=0, FastingBS=1, RestingECG='ST', MaxHR=86, ExerciseAngina='N', Oldpeak=1.5, ST_Slope='Flat', HeartDisease=1),\n",
              " Row(Age=41, Sex='M', ChestPainType='ASY', RestingBP=104, Cholesterol=0, FastingBS=0, RestingECG='ST', MaxHR=111, ExerciseAngina='N', Oldpeak=0.0, ST_Slope='Up', HeartDisease=0),\n",
              " Row(Age=57, Sex='M', ChestPainType='ASY', RestingBP=139, Cholesterol=277, FastingBS=1, RestingECG='ST', MaxHR=118, ExerciseAngina='Y', Oldpeak=1.9, ST_Slope='Flat', HeartDisease=1),\n",
              " Row(Age=63, Sex='M', ChestPainType='ASY', RestingBP=136, Cholesterol=0, FastingBS=0, RestingECG='Normal', MaxHR=84, ExerciseAngina='Y', Oldpeak=0.0, ST_Slope='Flat', HeartDisease=1),\n",
              " Row(Age=59, Sex='M', ChestPainType='ASY', RestingBP=122, Cholesterol=233, FastingBS=0, RestingECG='Normal', MaxHR=117, ExerciseAngina='Y', Oldpeak=1.3, ST_Slope='Down', HeartDisease=1),\n",
              " Row(Age=51, Sex='M', ChestPainType='ASY', RestingBP=128, Cholesterol=0, FastingBS=0, RestingECG='Normal', MaxHR=107, ExerciseAngina='N', Oldpeak=0.0, ST_Slope='Up', HeartDisease=0),\n",
              " Row(Age=59, Sex='M', ChestPainType='NAP', RestingBP=131, Cholesterol=0, FastingBS=0, RestingECG='Normal', MaxHR=128, ExerciseAngina='Y', Oldpeak=2.0, ST_Slope='Down', HeartDisease=1),\n",
              " Row(Age=42, Sex='M', ChestPainType='NAP', RestingBP=134, Cholesterol=240, FastingBS=0, RestingECG='Normal', MaxHR=160, ExerciseAngina='N', Oldpeak=0.0, ST_Slope='Up', HeartDisease=0),\n",
              " Row(Age=55, Sex='M', ChestPainType='NAP', RestingBP=120, Cholesterol=0, FastingBS=0, RestingECG='ST', MaxHR=125, ExerciseAngina='Y', Oldpeak=2.5, ST_Slope='Flat', HeartDisease=1),\n",
              " Row(Age=63, Sex='F', ChestPainType='ATA', RestingBP=132, Cholesterol=0, FastingBS=0, RestingECG='Normal', MaxHR=130, ExerciseAngina='N', Oldpeak=0.1, ST_Slope='Up', HeartDisease=0),\n",
              " Row(Age=62, Sex='M', ChestPainType='ASY', RestingBP=152, Cholesterol=153, FastingBS=0, RestingECG='ST', MaxHR=97, ExerciseAngina='Y', Oldpeak=1.6, ST_Slope='Up', HeartDisease=1),\n",
              " Row(Age=56, Sex='M', ChestPainType='ATA', RestingBP=124, Cholesterol=224, FastingBS=1, RestingECG='Normal', MaxHR=161, ExerciseAngina='N', Oldpeak=2.0, ST_Slope='Flat', HeartDisease=0),\n",
              " Row(Age=53, Sex='M', ChestPainType='ASY', RestingBP=126, Cholesterol=0, FastingBS=0, RestingECG='Normal', MaxHR=106, ExerciseAngina='N', Oldpeak=0.0, ST_Slope='Flat', HeartDisease=1),\n",
              " Row(Age=68, Sex='M', ChestPainType='ASY', RestingBP=138, Cholesterol=0, FastingBS=0, RestingECG='Normal', MaxHR=130, ExerciseAngina='Y', Oldpeak=3.0, ST_Slope='Flat', HeartDisease=1),\n",
              " Row(Age=53, Sex='M', ChestPainType='ASY', RestingBP=154, Cholesterol=0, FastingBS=1, RestingECG='ST', MaxHR=140, ExerciseAngina='Y', Oldpeak=1.5, ST_Slope='Flat', HeartDisease=1),\n",
              " Row(Age=60, Sex='M', ChestPainType='NAP', RestingBP=141, Cholesterol=316, FastingBS=1, RestingECG='ST', MaxHR=122, ExerciseAngina='Y', Oldpeak=1.7, ST_Slope='Flat', HeartDisease=1),\n",
              " Row(Age=62, Sex='M', ChestPainType='ATA', RestingBP=131, Cholesterol=0, FastingBS=0, RestingECG='Normal', MaxHR=130, ExerciseAngina='N', Oldpeak=0.1, ST_Slope='Up', HeartDisease=0),\n",
              " Row(Age=59, Sex='M', ChestPainType='ASY', RestingBP=178, Cholesterol=0, FastingBS=1, RestingECG='LVH', MaxHR=120, ExerciseAngina='Y', Oldpeak=0.0, ST_Slope='Flat', HeartDisease=1),\n",
              " Row(Age=51, Sex='M', ChestPainType='ASY', RestingBP=132, Cholesterol=218, FastingBS=1, RestingECG='LVH', MaxHR=139, ExerciseAngina='N', Oldpeak=0.1, ST_Slope='Up', HeartDisease=0),\n",
              " Row(Age=61, Sex='M', ChestPainType='ASY', RestingBP=110, Cholesterol=0, FastingBS=1, RestingECG='Normal', MaxHR=108, ExerciseAngina='Y', Oldpeak=2.0, ST_Slope='Down', HeartDisease=1),\n",
              " Row(Age=57, Sex='M', ChestPainType='ASY', RestingBP=130, Cholesterol=311, FastingBS=1, RestingECG='ST', MaxHR=148, ExerciseAngina='Y', Oldpeak=2.0, ST_Slope='Flat', HeartDisease=1),\n",
              " Row(Age=56, Sex='M', ChestPainType='NAP', RestingBP=170, Cholesterol=0, FastingBS=0, RestingECG='LVH', MaxHR=123, ExerciseAngina='Y', Oldpeak=2.5, ST_Slope='Flat', HeartDisease=1),\n",
              " Row(Age=58, Sex='M', ChestPainType='ATA', RestingBP=126, Cholesterol=0, FastingBS=1, RestingECG='Normal', MaxHR=110, ExerciseAngina='Y', Oldpeak=2.0, ST_Slope='Flat', HeartDisease=1),\n",
              " Row(Age=69, Sex='M', ChestPainType='NAP', RestingBP=140, Cholesterol=0, FastingBS=1, RestingECG='ST', MaxHR=118, ExerciseAngina='N', Oldpeak=2.5, ST_Slope='Down', HeartDisease=1),\n",
              " Row(Age=67, Sex='M', ChestPainType='TA', RestingBP=142, Cholesterol=270, FastingBS=1, RestingECG='Normal', MaxHR=125, ExerciseAngina='N', Oldpeak=2.5, ST_Slope='Up', HeartDisease=1),\n",
              " Row(Age=58, Sex='M', ChestPainType='ASY', RestingBP=120, Cholesterol=0, FastingBS=0, RestingECG='LVH', MaxHR=106, ExerciseAngina='Y', Oldpeak=1.5, ST_Slope='Down', HeartDisease=1),\n",
              " Row(Age=65, Sex='M', ChestPainType='ASY', RestingBP=134, Cholesterol=0, FastingBS=0, RestingECG='Normal', MaxHR=112, ExerciseAngina='Y', Oldpeak=1.1, ST_Slope='Flat', HeartDisease=1),\n",
              " Row(Age=63, Sex='M', ChestPainType='ATA', RestingBP=139, Cholesterol=217, FastingBS=1, RestingECG='ST', MaxHR=128, ExerciseAngina='Y', Oldpeak=1.2, ST_Slope='Flat', HeartDisease=1),\n",
              " Row(Age=55, Sex='M', ChestPainType='ATA', RestingBP=110, Cholesterol=214, FastingBS=1, RestingECG='ST', MaxHR=180, ExerciseAngina='N', Oldpeak=0.4, ST_Slope='Up', HeartDisease=0),\n",
              " Row(Age=57, Sex='M', ChestPainType='ASY', RestingBP=140, Cholesterol=214, FastingBS=0, RestingECG='ST', MaxHR=144, ExerciseAngina='Y', Oldpeak=2.0, ST_Slope='Flat', HeartDisease=1),\n",
              " Row(Age=65, Sex='M', ChestPainType='TA', RestingBP=140, Cholesterol=252, FastingBS=0, RestingECG='Normal', MaxHR=135, ExerciseAngina='N', Oldpeak=0.3, ST_Slope='Up', HeartDisease=0),\n",
              " Row(Age=54, Sex='M', ChestPainType='ASY', RestingBP=136, Cholesterol=220, FastingBS=0, RestingECG='Normal', MaxHR=140, ExerciseAngina='Y', Oldpeak=3.0, ST_Slope='Flat', HeartDisease=1),\n",
              " Row(Age=72, Sex='M', ChestPainType='NAP', RestingBP=120, Cholesterol=214, FastingBS=0, RestingECG='Normal', MaxHR=102, ExerciseAngina='Y', Oldpeak=1.0, ST_Slope='Flat', HeartDisease=1),\n",
              " Row(Age=75, Sex='M', ChestPainType='ASY', RestingBP=170, Cholesterol=203, FastingBS=1, RestingECG='ST', MaxHR=108, ExerciseAngina='N', Oldpeak=0.0, ST_Slope='Flat', HeartDisease=1),\n",
              " Row(Age=49, Sex='M', ChestPainType='TA', RestingBP=130, Cholesterol=0, FastingBS=0, RestingECG='ST', MaxHR=145, ExerciseAngina='N', Oldpeak=3.0, ST_Slope='Flat', HeartDisease=1),\n",
              " Row(Age=51, Sex='M', ChestPainType='NAP', RestingBP=137, Cholesterol=339, FastingBS=0, RestingECG='Normal', MaxHR=127, ExerciseAngina='Y', Oldpeak=1.7, ST_Slope='Flat', HeartDisease=1),\n",
              " Row(Age=60, Sex='M', ChestPainType='ASY', RestingBP=142, Cholesterol=216, FastingBS=0, RestingECG='Normal', MaxHR=110, ExerciseAngina='Y', Oldpeak=2.5, ST_Slope='Flat', HeartDisease=1),\n",
              " Row(Age=64, Sex='F', ChestPainType='ASY', RestingBP=142, Cholesterol=276, FastingBS=0, RestingECG='Normal', MaxHR=140, ExerciseAngina='Y', Oldpeak=1.0, ST_Slope='Flat', HeartDisease=1),\n",
              " Row(Age=58, Sex='M', ChestPainType='ASY', RestingBP=132, Cholesterol=458, FastingBS=1, RestingECG='Normal', MaxHR=69, ExerciseAngina='N', Oldpeak=1.0, ST_Slope='Down', HeartDisease=0),\n",
              " Row(Age=61, Sex='M', ChestPainType='ASY', RestingBP=146, Cholesterol=241, FastingBS=0, RestingECG='Normal', MaxHR=148, ExerciseAngina='Y', Oldpeak=3.0, ST_Slope='Down', HeartDisease=1),\n",
              " Row(Age=67, Sex='M', ChestPainType='ASY', RestingBP=160, Cholesterol=384, FastingBS=1, RestingECG='ST', MaxHR=130, ExerciseAngina='Y', Oldpeak=0.0, ST_Slope='Flat', HeartDisease=1),\n",
              " Row(Age=62, Sex='M', ChestPainType='ASY', RestingBP=135, Cholesterol=297, FastingBS=0, RestingECG='Normal', MaxHR=130, ExerciseAngina='Y', Oldpeak=1.0, ST_Slope='Flat', HeartDisease=1),\n",
              " Row(Age=65, Sex='M', ChestPainType='ASY', RestingBP=136, Cholesterol=248, FastingBS=0, RestingECG='Normal', MaxHR=140, ExerciseAngina='Y', Oldpeak=4.0, ST_Slope='Down', HeartDisease=1),\n",
              " Row(Age=63, Sex='M', ChestPainType='ASY', RestingBP=130, Cholesterol=308, FastingBS=0, RestingECG='Normal', MaxHR=138, ExerciseAngina='Y', Oldpeak=2.0, ST_Slope='Flat', HeartDisease=1),\n",
              " Row(Age=69, Sex='M', ChestPainType='ASY', RestingBP=140, Cholesterol=208, FastingBS=0, RestingECG='ST', MaxHR=140, ExerciseAngina='Y', Oldpeak=2.0, ST_Slope='Flat', HeartDisease=1),\n",
              " Row(Age=51, Sex='M', ChestPainType='ASY', RestingBP=132, Cholesterol=227, FastingBS=1, RestingECG='ST', MaxHR=138, ExerciseAngina='N', Oldpeak=0.2, ST_Slope='Up', HeartDisease=0),\n",
              " Row(Age=62, Sex='M', ChestPainType='ASY', RestingBP=158, Cholesterol=210, FastingBS=1, RestingECG='Normal', MaxHR=112, ExerciseAngina='Y', Oldpeak=3.0, ST_Slope='Down', HeartDisease=1),\n",
              " Row(Age=55, Sex='M', ChestPainType='NAP', RestingBP=136, Cholesterol=245, FastingBS=1, RestingECG='ST', MaxHR=131, ExerciseAngina='Y', Oldpeak=1.2, ST_Slope='Flat', HeartDisease=1),\n",
              " Row(Age=75, Sex='M', ChestPainType='ASY', RestingBP=136, Cholesterol=225, FastingBS=0, RestingECG='Normal', MaxHR=112, ExerciseAngina='Y', Oldpeak=3.0, ST_Slope='Flat', HeartDisease=1),\n",
              " Row(Age=40, Sex='M', ChestPainType='NAP', RestingBP=106, Cholesterol=240, FastingBS=0, RestingECG='Normal', MaxHR=80, ExerciseAngina='Y', Oldpeak=0.0, ST_Slope='Up', HeartDisease=0),\n",
              " Row(Age=67, Sex='M', ChestPainType='ASY', RestingBP=120, Cholesterol=0, FastingBS=1, RestingECG='Normal', MaxHR=150, ExerciseAngina='N', Oldpeak=1.5, ST_Slope='Down', HeartDisease=1),\n",
              " Row(Age=58, Sex='M', ChestPainType='ASY', RestingBP=110, Cholesterol=198, FastingBS=0, RestingECG='Normal', MaxHR=110, ExerciseAngina='N', Oldpeak=0.0, ST_Slope='Flat', HeartDisease=1),\n",
              " Row(Age=60, Sex='M', ChestPainType='ASY', RestingBP=136, Cholesterol=195, FastingBS=0, RestingECG='Normal', MaxHR=126, ExerciseAngina='N', Oldpeak=0.3, ST_Slope='Up', HeartDisease=0),\n",
              " Row(Age=63, Sex='M', ChestPainType='ASY', RestingBP=160, Cholesterol=267, FastingBS=1, RestingECG='ST', MaxHR=88, ExerciseAngina='Y', Oldpeak=2.0, ST_Slope='Flat', HeartDisease=1),\n",
              " Row(Age=35, Sex='M', ChestPainType='NAP', RestingBP=123, Cholesterol=161, FastingBS=0, RestingECG='ST', MaxHR=153, ExerciseAngina='N', Oldpeak=-0.1, ST_Slope='Up', HeartDisease=0),\n",
              " Row(Age=62, Sex='M', ChestPainType='TA', RestingBP=112, Cholesterol=258, FastingBS=0, RestingECG='ST', MaxHR=150, ExerciseAngina='Y', Oldpeak=1.3, ST_Slope='Flat', HeartDisease=1),\n",
              " Row(Age=43, Sex='M', ChestPainType='ASY', RestingBP=122, Cholesterol=0, FastingBS=0, RestingECG='Normal', MaxHR=120, ExerciseAngina='N', Oldpeak=0.5, ST_Slope='Up', HeartDisease=1),\n",
              " Row(Age=63, Sex='M', ChestPainType='NAP', RestingBP=130, Cholesterol=0, FastingBS=1, RestingECG='ST', MaxHR=160, ExerciseAngina='N', Oldpeak=3.0, ST_Slope='Flat', HeartDisease=0),\n",
              " Row(Age=68, Sex='M', ChestPainType='NAP', RestingBP=150, Cholesterol=195, FastingBS=1, RestingECG='Normal', MaxHR=132, ExerciseAngina='N', Oldpeak=0.0, ST_Slope='Flat', HeartDisease=1),\n",
              " Row(Age=65, Sex='M', ChestPainType='ASY', RestingBP=150, Cholesterol=235, FastingBS=0, RestingECG='Normal', MaxHR=120, ExerciseAngina='Y', Oldpeak=1.5, ST_Slope='Flat', HeartDisease=1),\n",
              " Row(Age=48, Sex='M', ChestPainType='NAP', RestingBP=102, Cholesterol=0, FastingBS=1, RestingECG='ST', MaxHR=110, ExerciseAngina='Y', Oldpeak=1.0, ST_Slope='Down', HeartDisease=1),\n",
              " Row(Age=63, Sex='M', ChestPainType='ASY', RestingBP=96, Cholesterol=305, FastingBS=0, RestingECG='ST', MaxHR=121, ExerciseAngina='Y', Oldpeak=1.0, ST_Slope='Up', HeartDisease=1),\n",
              " Row(Age=64, Sex='M', ChestPainType='ASY', RestingBP=130, Cholesterol=223, FastingBS=0, RestingECG='ST', MaxHR=128, ExerciseAngina='N', Oldpeak=0.5, ST_Slope='Flat', HeartDisease=0),\n",
              " Row(Age=61, Sex='M', ChestPainType='ASY', RestingBP=120, Cholesterol=282, FastingBS=0, RestingECG='ST', MaxHR=135, ExerciseAngina='Y', Oldpeak=4.0, ST_Slope='Down', HeartDisease=1),\n",
              " Row(Age=50, Sex='M', ChestPainType='ASY', RestingBP=144, Cholesterol=349, FastingBS=0, RestingECG='LVH', MaxHR=120, ExerciseAngina='Y', Oldpeak=1.0, ST_Slope='Up', HeartDisease=1),\n",
              " Row(Age=59, Sex='M', ChestPainType='ASY', RestingBP=124, Cholesterol=160, FastingBS=0, RestingECG='Normal', MaxHR=117, ExerciseAngina='Y', Oldpeak=1.0, ST_Slope='Flat', HeartDisease=1),\n",
              " Row(Age=55, Sex='M', ChestPainType='ASY', RestingBP=150, Cholesterol=160, FastingBS=0, RestingECG='ST', MaxHR=150, ExerciseAngina='N', Oldpeak=0.0, ST_Slope='Up', HeartDisease=0),\n",
              " Row(Age=45, Sex='M', ChestPainType='NAP', RestingBP=130, Cholesterol=236, FastingBS=0, RestingECG='Normal', MaxHR=144, ExerciseAngina='N', Oldpeak=0.1, ST_Slope='Up', HeartDisease=0),\n",
              " Row(Age=65, Sex='M', ChestPainType='ASY', RestingBP=144, Cholesterol=312, FastingBS=0, RestingECG='LVH', MaxHR=113, ExerciseAngina='Y', Oldpeak=1.7, ST_Slope='Flat', HeartDisease=1),\n",
              " Row(Age=61, Sex='M', ChestPainType='ATA', RestingBP=139, Cholesterol=283, FastingBS=0, RestingECG='Normal', MaxHR=135, ExerciseAngina='N', Oldpeak=0.3, ST_Slope='Up', HeartDisease=0),\n",
              " Row(Age=49, Sex='M', ChestPainType='NAP', RestingBP=131, Cholesterol=142, FastingBS=0, RestingECG='Normal', MaxHR=127, ExerciseAngina='Y', Oldpeak=1.5, ST_Slope='Flat', HeartDisease=1),\n",
              " Row(Age=72, Sex='M', ChestPainType='ASY', RestingBP=143, Cholesterol=211, FastingBS=0, RestingECG='Normal', MaxHR=109, ExerciseAngina='Y', Oldpeak=1.4, ST_Slope='Flat', HeartDisease=1),\n",
              " Row(Age=50, Sex='M', ChestPainType='ASY', RestingBP=133, Cholesterol=218, FastingBS=0, RestingECG='Normal', MaxHR=128, ExerciseAngina='Y', Oldpeak=1.1, ST_Slope='Flat', HeartDisease=1),\n",
              " Row(Age=64, Sex='M', ChestPainType='ASY', RestingBP=143, Cholesterol=306, FastingBS=1, RestingECG='ST', MaxHR=115, ExerciseAngina='Y', Oldpeak=1.8, ST_Slope='Flat', HeartDisease=1),\n",
              " Row(Age=55, Sex='M', ChestPainType='ASY', RestingBP=116, Cholesterol=186, FastingBS=1, RestingECG='ST', MaxHR=102, ExerciseAngina='N', Oldpeak=0.0, ST_Slope='Flat', HeartDisease=1),\n",
              " Row(Age=63, Sex='M', ChestPainType='ASY', RestingBP=110, Cholesterol=252, FastingBS=0, RestingECG='ST', MaxHR=140, ExerciseAngina='Y', Oldpeak=2.0, ST_Slope='Flat', HeartDisease=1),\n",
              " Row(Age=59, Sex='M', ChestPainType='ASY', RestingBP=125, Cholesterol=222, FastingBS=0, RestingECG='Normal', MaxHR=135, ExerciseAngina='Y', Oldpeak=2.5, ST_Slope='Down', HeartDisease=1),\n",
              " Row(Age=56, Sex='M', ChestPainType='ASY', RestingBP=130, Cholesterol=0, FastingBS=0, RestingECG='LVH', MaxHR=122, ExerciseAngina='Y', Oldpeak=1.0, ST_Slope='Flat', HeartDisease=1),\n",
              " Row(Age=62, Sex='M', ChestPainType='NAP', RestingBP=133, Cholesterol=0, FastingBS=1, RestingECG='ST', MaxHR=119, ExerciseAngina='Y', Oldpeak=1.2, ST_Slope='Flat', HeartDisease=1),\n",
              " Row(Age=74, Sex='M', ChestPainType='ASY', RestingBP=150, Cholesterol=258, FastingBS=1, RestingECG='ST', MaxHR=130, ExerciseAngina='Y', Oldpeak=4.0, ST_Slope='Down', HeartDisease=1),\n",
              " Row(Age=54, Sex='M', ChestPainType='ASY', RestingBP=130, Cholesterol=202, FastingBS=1, RestingECG='Normal', MaxHR=112, ExerciseAngina='Y', Oldpeak=2.0, ST_Slope='Flat', HeartDisease=1),\n",
              " Row(Age=57, Sex='M', ChestPainType='ASY', RestingBP=110, Cholesterol=197, FastingBS=0, RestingECG='LVH', MaxHR=100, ExerciseAngina='N', Oldpeak=0.0, ST_Slope='Up', HeartDisease=0),\n",
              " Row(Age=62, Sex='M', ChestPainType='NAP', RestingBP=138, Cholesterol=204, FastingBS=0, RestingECG='ST', MaxHR=122, ExerciseAngina='Y', Oldpeak=1.2, ST_Slope='Flat', HeartDisease=1),\n",
              " Row(Age=76, Sex='M', ChestPainType='NAP', RestingBP=104, Cholesterol=113, FastingBS=0, RestingECG='LVH', MaxHR=120, ExerciseAngina='N', Oldpeak=3.5, ST_Slope='Down', HeartDisease=1),\n",
              " Row(Age=54, Sex='F', ChestPainType='ASY', RestingBP=138, Cholesterol=274, FastingBS=0, RestingECG='Normal', MaxHR=105, ExerciseAngina='Y', Oldpeak=1.5, ST_Slope='Flat', HeartDisease=1),\n",
              " Row(Age=70, Sex='M', ChestPainType='ASY', RestingBP=170, Cholesterol=192, FastingBS=0, RestingECG='ST', MaxHR=129, ExerciseAngina='Y', Oldpeak=3.0, ST_Slope='Down', HeartDisease=1),\n",
              " Row(Age=61, Sex='F', ChestPainType='ATA', RestingBP=140, Cholesterol=298, FastingBS=1, RestingECG='Normal', MaxHR=120, ExerciseAngina='Y', Oldpeak=0.0, ST_Slope='Up', HeartDisease=0),\n",
              " Row(Age=48, Sex='M', ChestPainType='ASY', RestingBP=132, Cholesterol=272, FastingBS=0, RestingECG='ST', MaxHR=139, ExerciseAngina='N', Oldpeak=0.2, ST_Slope='Up', HeartDisease=0),\n",
              " Row(Age=48, Sex='M', ChestPainType='NAP', RestingBP=132, Cholesterol=220, FastingBS=1, RestingECG='ST', MaxHR=162, ExerciseAngina='N', Oldpeak=0.0, ST_Slope='Flat', HeartDisease=1),\n",
              " Row(Age=61, Sex='M', ChestPainType='TA', RestingBP=142, Cholesterol=200, FastingBS=1, RestingECG='ST', MaxHR=100, ExerciseAngina='N', Oldpeak=1.5, ST_Slope='Down', HeartDisease=1),\n",
              " Row(Age=66, Sex='M', ChestPainType='ASY', RestingBP=112, Cholesterol=261, FastingBS=0, RestingECG='Normal', MaxHR=140, ExerciseAngina='N', Oldpeak=1.5, ST_Slope='Up', HeartDisease=1),\n",
              " Row(Age=68, Sex='M', ChestPainType='TA', RestingBP=139, Cholesterol=181, FastingBS=1, RestingECG='ST', MaxHR=135, ExerciseAngina='N', Oldpeak=0.2, ST_Slope='Up', HeartDisease=0),\n",
              " Row(Age=55, Sex='M', ChestPainType='ASY', RestingBP=172, Cholesterol=260, FastingBS=0, RestingECG='Normal', MaxHR=73, ExerciseAngina='N', Oldpeak=2.0, ST_Slope='Flat', HeartDisease=1),\n",
              " Row(Age=62, Sex='M', ChestPainType='NAP', RestingBP=120, Cholesterol=220, FastingBS=0, RestingECG='LVH', MaxHR=86, ExerciseAngina='N', Oldpeak=0.0, ST_Slope='Up', HeartDisease=0),\n",
              " Row(Age=71, Sex='M', ChestPainType='NAP', RestingBP=144, Cholesterol=221, FastingBS=0, RestingECG='Normal', MaxHR=108, ExerciseAngina='Y', Oldpeak=1.8, ST_Slope='Flat', HeartDisease=1),\n",
              " Row(Age=74, Sex='M', ChestPainType='TA', RestingBP=145, Cholesterol=216, FastingBS=1, RestingECG='Normal', MaxHR=116, ExerciseAngina='Y', Oldpeak=1.8, ST_Slope='Flat', HeartDisease=1),\n",
              " Row(Age=53, Sex='M', ChestPainType='NAP', RestingBP=155, Cholesterol=175, FastingBS=1, RestingECG='ST', MaxHR=160, ExerciseAngina='N', Oldpeak=0.3, ST_Slope='Up', HeartDisease=0),\n",
              " Row(Age=58, Sex='M', ChestPainType='NAP', RestingBP=150, Cholesterol=219, FastingBS=0, RestingECG='ST', MaxHR=118, ExerciseAngina='Y', Oldpeak=0.0, ST_Slope='Flat', HeartDisease=1),\n",
              " Row(Age=75, Sex='M', ChestPainType='ASY', RestingBP=160, Cholesterol=310, FastingBS=1, RestingECG='Normal', MaxHR=112, ExerciseAngina='Y', Oldpeak=2.0, ST_Slope='Down', HeartDisease=0),\n",
              " Row(Age=56, Sex='M', ChestPainType='NAP', RestingBP=137, Cholesterol=208, FastingBS=1, RestingECG='ST', MaxHR=122, ExerciseAngina='Y', Oldpeak=1.8, ST_Slope='Flat', HeartDisease=1),\n",
              " Row(Age=58, Sex='M', ChestPainType='NAP', RestingBP=137, Cholesterol=232, FastingBS=0, RestingECG='ST', MaxHR=124, ExerciseAngina='Y', Oldpeak=1.4, ST_Slope='Flat', HeartDisease=1),\n",
              " Row(Age=64, Sex='M', ChestPainType='ASY', RestingBP=134, Cholesterol=273, FastingBS=0, RestingECG='Normal', MaxHR=102, ExerciseAngina='Y', Oldpeak=4.0, ST_Slope='Down', HeartDisease=1),\n",
              " Row(Age=54, Sex='M', ChestPainType='NAP', RestingBP=133, Cholesterol=203, FastingBS=0, RestingECG='ST', MaxHR=137, ExerciseAngina='N', Oldpeak=0.2, ST_Slope='Up', HeartDisease=0),\n",
              " Row(Age=54, Sex='M', ChestPainType='ATA', RestingBP=132, Cholesterol=182, FastingBS=0, RestingECG='ST', MaxHR=141, ExerciseAngina='N', Oldpeak=0.1, ST_Slope='Up', HeartDisease=0),\n",
              " Row(Age=59, Sex='M', ChestPainType='ASY', RestingBP=140, Cholesterol=274, FastingBS=0, RestingECG='Normal', MaxHR=154, ExerciseAngina='Y', Oldpeak=2.0, ST_Slope='Flat', HeartDisease=0),\n",
              " Row(Age=55, Sex='M', ChestPainType='ASY', RestingBP=135, Cholesterol=204, FastingBS=1, RestingECG='ST', MaxHR=126, ExerciseAngina='Y', Oldpeak=1.1, ST_Slope='Flat', HeartDisease=1),\n",
              " Row(Age=57, Sex='M', ChestPainType='ASY', RestingBP=144, Cholesterol=270, FastingBS=1, RestingECG='ST', MaxHR=160, ExerciseAngina='Y', Oldpeak=2.0, ST_Slope='Flat', HeartDisease=1),\n",
              " Row(Age=61, Sex='M', ChestPainType='ASY', RestingBP=141, Cholesterol=292, FastingBS=0, RestingECG='ST', MaxHR=115, ExerciseAngina='Y', Oldpeak=1.7, ST_Slope='Flat', HeartDisease=1),\n",
              " Row(Age=41, Sex='M', ChestPainType='ASY', RestingBP=150, Cholesterol=171, FastingBS=0, RestingECG='Normal', MaxHR=128, ExerciseAngina='Y', Oldpeak=1.5, ST_Slope='Flat', HeartDisease=0),\n",
              " Row(Age=71, Sex='M', ChestPainType='ASY', RestingBP=130, Cholesterol=221, FastingBS=0, RestingECG='ST', MaxHR=115, ExerciseAngina='Y', Oldpeak=0.0, ST_Slope='Flat', HeartDisease=1),\n",
              " Row(Age=38, Sex='M', ChestPainType='ASY', RestingBP=110, Cholesterol=289, FastingBS=0, RestingECG='Normal', MaxHR=105, ExerciseAngina='Y', Oldpeak=1.5, ST_Slope='Down', HeartDisease=1),\n",
              " Row(Age=55, Sex='M', ChestPainType='ASY', RestingBP=158, Cholesterol=217, FastingBS=0, RestingECG='Normal', MaxHR=110, ExerciseAngina='Y', Oldpeak=2.5, ST_Slope='Flat', HeartDisease=1),\n",
              " Row(Age=56, Sex='M', ChestPainType='ASY', RestingBP=128, Cholesterol=223, FastingBS=0, RestingECG='ST', MaxHR=119, ExerciseAngina='Y', Oldpeak=2.0, ST_Slope='Down', HeartDisease=1),\n",
              " Row(Age=69, Sex='M', ChestPainType='ASY', RestingBP=140, Cholesterol=110, FastingBS=1, RestingECG='Normal', MaxHR=109, ExerciseAngina='Y', Oldpeak=1.5, ST_Slope='Flat', HeartDisease=1),\n",
              " Row(Age=64, Sex='M', ChestPainType='ASY', RestingBP=150, Cholesterol=193, FastingBS=0, RestingECG='ST', MaxHR=135, ExerciseAngina='Y', Oldpeak=0.5, ST_Slope='Flat', HeartDisease=1),\n",
              " Row(Age=72, Sex='M', ChestPainType='ASY', RestingBP=160, Cholesterol=123, FastingBS=1, RestingECG='LVH', MaxHR=130, ExerciseAngina='N', Oldpeak=1.5, ST_Slope='Flat', HeartDisease=1),\n",
              " Row(Age=69, Sex='M', ChestPainType='ASY', RestingBP=142, Cholesterol=210, FastingBS=1, RestingECG='ST', MaxHR=112, ExerciseAngina='Y', Oldpeak=1.5, ST_Slope='Flat', HeartDisease=1),\n",
              " Row(Age=56, Sex='M', ChestPainType='ASY', RestingBP=137, Cholesterol=282, FastingBS=1, RestingECG='Normal', MaxHR=126, ExerciseAngina='Y', Oldpeak=1.2, ST_Slope='Flat', HeartDisease=1),\n",
              " Row(Age=62, Sex='M', ChestPainType='ASY', RestingBP=139, Cholesterol=170, FastingBS=0, RestingECG='ST', MaxHR=120, ExerciseAngina='Y', Oldpeak=3.0, ST_Slope='Flat', HeartDisease=1),\n",
              " Row(Age=67, Sex='M', ChestPainType='ASY', RestingBP=146, Cholesterol=369, FastingBS=0, RestingECG='Normal', MaxHR=110, ExerciseAngina='Y', Oldpeak=1.9, ST_Slope='Flat', HeartDisease=1),\n",
              " Row(Age=57, Sex='M', ChestPainType='ASY', RestingBP=156, Cholesterol=173, FastingBS=0, RestingECG='LVH', MaxHR=119, ExerciseAngina='Y', Oldpeak=3.0, ST_Slope='Down', HeartDisease=1),\n",
              " Row(Age=69, Sex='M', ChestPainType='ASY', RestingBP=145, Cholesterol=289, FastingBS=1, RestingECG='ST', MaxHR=110, ExerciseAngina='Y', Oldpeak=1.8, ST_Slope='Flat', HeartDisease=1),\n",
              " Row(Age=51, Sex='M', ChestPainType='ASY', RestingBP=131, Cholesterol=152, FastingBS=1, RestingECG='LVH', MaxHR=130, ExerciseAngina='Y', Oldpeak=1.0, ST_Slope='Flat', HeartDisease=1),\n",
              " Row(Age=48, Sex='M', ChestPainType='ASY', RestingBP=140, Cholesterol=208, FastingBS=0, RestingECG='Normal', MaxHR=159, ExerciseAngina='Y', Oldpeak=1.5, ST_Slope='Up', HeartDisease=1),\n",
              " Row(Age=69, Sex='M', ChestPainType='ASY', RestingBP=122, Cholesterol=216, FastingBS=1, RestingECG='LVH', MaxHR=84, ExerciseAngina='Y', Oldpeak=0.0, ST_Slope='Flat', HeartDisease=1),\n",
              " Row(Age=69, Sex='M', ChestPainType='NAP', RestingBP=142, Cholesterol=271, FastingBS=0, RestingECG='LVH', MaxHR=126, ExerciseAngina='N', Oldpeak=0.3, ST_Slope='Up', HeartDisease=0),\n",
              " Row(Age=64, Sex='M', ChestPainType='ASY', RestingBP=141, Cholesterol=244, FastingBS=1, RestingECG='ST', MaxHR=116, ExerciseAngina='Y', Oldpeak=1.5, ST_Slope='Flat', HeartDisease=1),\n",
              " Row(Age=57, Sex='M', ChestPainType='ATA', RestingBP=180, Cholesterol=285, FastingBS=1, RestingECG='ST', MaxHR=120, ExerciseAngina='N', Oldpeak=0.8, ST_Slope='Flat', HeartDisease=1),\n",
              " Row(Age=53, Sex='M', ChestPainType='ASY', RestingBP=124, Cholesterol=243, FastingBS=0, RestingECG='Normal', MaxHR=122, ExerciseAngina='Y', Oldpeak=2.0, ST_Slope='Flat', HeartDisease=1),\n",
              " Row(Age=37, Sex='M', ChestPainType='NAP', RestingBP=118, Cholesterol=240, FastingBS=0, RestingECG='LVH', MaxHR=165, ExerciseAngina='N', Oldpeak=1.0, ST_Slope='Flat', HeartDisease=0),\n",
              " Row(Age=67, Sex='M', ChestPainType='ASY', RestingBP=140, Cholesterol=219, FastingBS=0, RestingECG='ST', MaxHR=122, ExerciseAngina='Y', Oldpeak=2.0, ST_Slope='Flat', HeartDisease=1),\n",
              " Row(Age=74, Sex='M', ChestPainType='NAP', RestingBP=140, Cholesterol=237, FastingBS=1, RestingECG='Normal', MaxHR=94, ExerciseAngina='N', Oldpeak=0.0, ST_Slope='Flat', HeartDisease=1),\n",
              " Row(Age=63, Sex='M', ChestPainType='ATA', RestingBP=136, Cholesterol=165, FastingBS=0, RestingECG='ST', MaxHR=133, ExerciseAngina='N', Oldpeak=0.2, ST_Slope='Up', HeartDisease=0),\n",
              " Row(Age=58, Sex='M', ChestPainType='ASY', RestingBP=100, Cholesterol=213, FastingBS=0, RestingECG='ST', MaxHR=110, ExerciseAngina='N', Oldpeak=0.0, ST_Slope='Up', HeartDisease=0),\n",
              " Row(Age=61, Sex='M', ChestPainType='ASY', RestingBP=190, Cholesterol=287, FastingBS=1, RestingECG='LVH', MaxHR=150, ExerciseAngina='Y', Oldpeak=2.0, ST_Slope='Down', HeartDisease=1),\n",
              " Row(Age=64, Sex='M', ChestPainType='ASY', RestingBP=130, Cholesterol=258, FastingBS=1, RestingECG='LVH', MaxHR=130, ExerciseAngina='N', Oldpeak=0.0, ST_Slope='Flat', HeartDisease=1),\n",
              " Row(Age=58, Sex='M', ChestPainType='ASY', RestingBP=160, Cholesterol=256, FastingBS=1, RestingECG='LVH', MaxHR=113, ExerciseAngina='Y', Oldpeak=1.0, ST_Slope='Up', HeartDisease=1),\n",
              " Row(Age=60, Sex='M', ChestPainType='ASY', RestingBP=130, Cholesterol=186, FastingBS=1, RestingECG='LVH', MaxHR=140, ExerciseAngina='Y', Oldpeak=0.5, ST_Slope='Flat', HeartDisease=1),\n",
              " Row(Age=57, Sex='M', ChestPainType='ASY', RestingBP=122, Cholesterol=264, FastingBS=0, RestingECG='LVH', MaxHR=100, ExerciseAngina='N', Oldpeak=0.0, ST_Slope='Flat', HeartDisease=1),\n",
              " Row(Age=55, Sex='M', ChestPainType='NAP', RestingBP=133, Cholesterol=185, FastingBS=0, RestingECG='ST', MaxHR=136, ExerciseAngina='N', Oldpeak=0.2, ST_Slope='Up', HeartDisease=0),\n",
              " Row(Age=55, Sex='M', ChestPainType='ASY', RestingBP=120, Cholesterol=226, FastingBS=0, RestingECG='LVH', MaxHR=127, ExerciseAngina='Y', Oldpeak=1.7, ST_Slope='Down', HeartDisease=1),\n",
              " Row(Age=56, Sex='M', ChestPainType='ASY', RestingBP=130, Cholesterol=203, FastingBS=1, RestingECG='Normal', MaxHR=98, ExerciseAngina='N', Oldpeak=1.5, ST_Slope='Flat', HeartDisease=1),\n",
              " Row(Age=57, Sex='M', ChestPainType='ASY', RestingBP=130, Cholesterol=207, FastingBS=0, RestingECG='ST', MaxHR=96, ExerciseAngina='Y', Oldpeak=1.0, ST_Slope='Flat', HeartDisease=0),\n",
              " Row(Age=61, Sex='M', ChestPainType='NAP', RestingBP=140, Cholesterol=284, FastingBS=0, RestingECG='Normal', MaxHR=123, ExerciseAngina='Y', Oldpeak=1.3, ST_Slope='Flat', HeartDisease=1),\n",
              " Row(Age=61, Sex='M', ChestPainType='NAP', RestingBP=120, Cholesterol=337, FastingBS=0, RestingECG='Normal', MaxHR=98, ExerciseAngina='Y', Oldpeak=0.0, ST_Slope='Flat', HeartDisease=1),\n",
              " Row(Age=74, Sex='M', ChestPainType='ASY', RestingBP=155, Cholesterol=310, FastingBS=0, RestingECG='Normal', MaxHR=112, ExerciseAngina='Y', Oldpeak=1.5, ST_Slope='Down', HeartDisease=1),\n",
              " Row(Age=68, Sex='M', ChestPainType='NAP', RestingBP=134, Cholesterol=254, FastingBS=1, RestingECG='Normal', MaxHR=151, ExerciseAngina='Y', Oldpeak=0.0, ST_Slope='Up', HeartDisease=0),\n",
              " Row(Age=51, Sex='F', ChestPainType='ASY', RestingBP=114, Cholesterol=258, FastingBS=1, RestingECG='LVH', MaxHR=96, ExerciseAngina='N', Oldpeak=1.0, ST_Slope='Up', HeartDisease=0),\n",
              " Row(Age=62, Sex='M', ChestPainType='ASY', RestingBP=160, Cholesterol=254, FastingBS=1, RestingECG='ST', MaxHR=108, ExerciseAngina='Y', Oldpeak=3.0, ST_Slope='Flat', HeartDisease=1),\n",
              " Row(Age=53, Sex='M', ChestPainType='ASY', RestingBP=144, Cholesterol=300, FastingBS=1, RestingECG='ST', MaxHR=128, ExerciseAngina='Y', Oldpeak=1.5, ST_Slope='Flat', HeartDisease=1),\n",
              " Row(Age=62, Sex='M', ChestPainType='ASY', RestingBP=158, Cholesterol=170, FastingBS=0, RestingECG='ST', MaxHR=138, ExerciseAngina='Y', Oldpeak=0.0, ST_Slope='Flat', HeartDisease=1),\n",
              " Row(Age=46, Sex='M', ChestPainType='ASY', RestingBP=134, Cholesterol=310, FastingBS=0, RestingECG='Normal', MaxHR=126, ExerciseAngina='N', Oldpeak=0.0, ST_Slope='Flat', HeartDisease=1),\n",
              " Row(Age=54, Sex='F', ChestPainType='ASY', RestingBP=127, Cholesterol=333, FastingBS=1, RestingECG='ST', MaxHR=154, ExerciseAngina='N', Oldpeak=0.0, ST_Slope='Flat', HeartDisease=1),\n",
              " Row(Age=62, Sex='M', ChestPainType='TA', RestingBP=135, Cholesterol=139, FastingBS=0, RestingECG='ST', MaxHR=137, ExerciseAngina='N', Oldpeak=0.2, ST_Slope='Up', HeartDisease=0),\n",
              " Row(Age=55, Sex='M', ChestPainType='ASY', RestingBP=122, Cholesterol=223, FastingBS=1, RestingECG='ST', MaxHR=100, ExerciseAngina='N', Oldpeak=0.0, ST_Slope='Flat', HeartDisease=1),\n",
              " Row(Age=58, Sex='M', ChestPainType='ASY', RestingBP=140, Cholesterol=385, FastingBS=1, RestingECG='LVH', MaxHR=135, ExerciseAngina='N', Oldpeak=0.3, ST_Slope='Up', HeartDisease=0),\n",
              " Row(Age=62, Sex='M', ChestPainType='ATA', RestingBP=120, Cholesterol=254, FastingBS=0, RestingECG='LVH', MaxHR=93, ExerciseAngina='Y', Oldpeak=0.0, ST_Slope='Flat', HeartDisease=1),\n",
              " Row(Age=70, Sex='M', ChestPainType='ASY', RestingBP=130, Cholesterol=322, FastingBS=0, RestingECG='LVH', MaxHR=109, ExerciseAngina='N', Oldpeak=2.4, ST_Slope='Flat', HeartDisease=1),\n",
              " Row(Age=67, Sex='F', ChestPainType='NAP', RestingBP=115, Cholesterol=564, FastingBS=0, RestingECG='LVH', MaxHR=160, ExerciseAngina='N', Oldpeak=1.6, ST_Slope='Flat', HeartDisease=0),\n",
              " Row(Age=57, Sex='M', ChestPainType='ATA', RestingBP=124, Cholesterol=261, FastingBS=0, RestingECG='Normal', MaxHR=141, ExerciseAngina='N', Oldpeak=0.3, ST_Slope='Up', HeartDisease=1),\n",
              " Row(Age=64, Sex='M', ChestPainType='ASY', RestingBP=128, Cholesterol=263, FastingBS=0, RestingECG='Normal', MaxHR=105, ExerciseAngina='Y', Oldpeak=0.2, ST_Slope='Flat', HeartDisease=0),\n",
              " Row(Age=74, Sex='F', ChestPainType='ATA', RestingBP=120, Cholesterol=269, FastingBS=0, RestingECG='LVH', MaxHR=121, ExerciseAngina='Y', Oldpeak=0.2, ST_Slope='Up', HeartDisease=0),\n",
              " Row(Age=65, Sex='M', ChestPainType='ASY', RestingBP=120, Cholesterol=177, FastingBS=0, RestingECG='Normal', MaxHR=140, ExerciseAngina='N', Oldpeak=0.4, ST_Slope='Up', HeartDisease=0),\n",
              " Row(Age=56, Sex='M', ChestPainType='NAP', RestingBP=130, Cholesterol=256, FastingBS=1, RestingECG='LVH', MaxHR=142, ExerciseAngina='Y', Oldpeak=0.6, ST_Slope='Flat', HeartDisease=1),\n",
              " Row(Age=59, Sex='M', ChestPainType='ASY', RestingBP=110, Cholesterol=239, FastingBS=0, RestingECG='LVH', MaxHR=142, ExerciseAngina='Y', Oldpeak=1.2, ST_Slope='Flat', HeartDisease=1),\n",
              " Row(Age=60, Sex='M', ChestPainType='ASY', RestingBP=140, Cholesterol=293, FastingBS=0, RestingECG='LVH', MaxHR=170, ExerciseAngina='N', Oldpeak=1.2, ST_Slope='Flat', HeartDisease=1),\n",
              " Row(Age=63, Sex='F', ChestPainType='ASY', RestingBP=150, Cholesterol=407, FastingBS=0, RestingECG='LVH', MaxHR=154, ExerciseAngina='N', Oldpeak=4.0, ST_Slope='Flat', HeartDisease=1),\n",
              " Row(Age=59, Sex='M', ChestPainType='ASY', RestingBP=135, Cholesterol=234, FastingBS=0, RestingECG='Normal', MaxHR=161, ExerciseAngina='N', Oldpeak=0.5, ST_Slope='Flat', HeartDisease=0),\n",
              " Row(Age=53, Sex='M', ChestPainType='ASY', RestingBP=142, Cholesterol=226, FastingBS=0, RestingECG='LVH', MaxHR=111, ExerciseAngina='Y', Oldpeak=0.0, ST_Slope='Up', HeartDisease=0),\n",
              " Row(Age=44, Sex='M', ChestPainType='NAP', RestingBP=140, Cholesterol=235, FastingBS=0, RestingECG='LVH', MaxHR=180, ExerciseAngina='N', Oldpeak=0.0, ST_Slope='Up', HeartDisease=0),\n",
              " Row(Age=61, Sex='M', ChestPainType='TA', RestingBP=134, Cholesterol=234, FastingBS=0, RestingECG='Normal', MaxHR=145, ExerciseAngina='N', Oldpeak=2.6, ST_Slope='Flat', HeartDisease=1),\n",
              " Row(Age=57, Sex='F', ChestPainType='ASY', RestingBP=128, Cholesterol=303, FastingBS=0, RestingECG='LVH', MaxHR=159, ExerciseAngina='N', Oldpeak=0.0, ST_Slope='Up', HeartDisease=0),\n",
              " Row(Age=71, Sex='F', ChestPainType='ASY', RestingBP=112, Cholesterol=149, FastingBS=0, RestingECG='Normal', MaxHR=125, ExerciseAngina='N', Oldpeak=1.6, ST_Slope='Flat', HeartDisease=0),\n",
              " Row(Age=46, Sex='M', ChestPainType='ASY', RestingBP=140, Cholesterol=311, FastingBS=0, RestingECG='Normal', MaxHR=120, ExerciseAngina='Y', Oldpeak=1.8, ST_Slope='Flat', HeartDisease=1),\n",
              " Row(Age=53, Sex='M', ChestPainType='ASY', RestingBP=140, Cholesterol=203, FastingBS=1, RestingECG='LVH', MaxHR=155, ExerciseAngina='Y', Oldpeak=3.1, ST_Slope='Down', HeartDisease=1),\n",
              " Row(Age=64, Sex='M', ChestPainType='TA', RestingBP=110, Cholesterol=211, FastingBS=0, RestingECG='LVH', MaxHR=144, ExerciseAngina='Y', Oldpeak=1.8, ST_Slope='Flat', HeartDisease=0),\n",
              " Row(Age=40, Sex='M', ChestPainType='TA', RestingBP=140, Cholesterol=199, FastingBS=0, RestingECG='Normal', MaxHR=178, ExerciseAngina='Y', Oldpeak=1.4, ST_Slope='Up', HeartDisease=0),\n",
              " Row(Age=67, Sex='M', ChestPainType='ASY', RestingBP=120, Cholesterol=229, FastingBS=0, RestingECG='LVH', MaxHR=129, ExerciseAngina='Y', Oldpeak=2.6, ST_Slope='Flat', HeartDisease=1),\n",
              " Row(Age=48, Sex='M', ChestPainType='ATA', RestingBP=130, Cholesterol=245, FastingBS=0, RestingECG='LVH', MaxHR=180, ExerciseAngina='N', Oldpeak=0.2, ST_Slope='Flat', HeartDisease=0),\n",
              " Row(Age=43, Sex='M', ChestPainType='ASY', RestingBP=115, Cholesterol=303, FastingBS=0, RestingECG='Normal', MaxHR=181, ExerciseAngina='N', Oldpeak=1.2, ST_Slope='Flat', HeartDisease=0),\n",
              " Row(Age=47, Sex='M', ChestPainType='ASY', RestingBP=112, Cholesterol=204, FastingBS=0, RestingECG='Normal', MaxHR=143, ExerciseAngina='N', Oldpeak=0.1, ST_Slope='Up', HeartDisease=0),\n",
              " Row(Age=54, Sex='F', ChestPainType='ATA', RestingBP=132, Cholesterol=288, FastingBS=1, RestingECG='LVH', MaxHR=159, ExerciseAngina='Y', Oldpeak=0.0, ST_Slope='Up', HeartDisease=0),\n",
              " Row(Age=48, Sex='F', ChestPainType='NAP', RestingBP=130, Cholesterol=275, FastingBS=0, RestingECG='Normal', MaxHR=139, ExerciseAngina='N', Oldpeak=0.2, ST_Slope='Up', HeartDisease=0),\n",
              " Row(Age=46, Sex='F', ChestPainType='ASY', RestingBP=138, Cholesterol=243, FastingBS=0, RestingECG='LVH', MaxHR=152, ExerciseAngina='Y', Oldpeak=0.0, ST_Slope='Flat', HeartDisease=0),\n",
              " Row(Age=51, Sex='F', ChestPainType='NAP', RestingBP=120, Cholesterol=295, FastingBS=0, RestingECG='LVH', MaxHR=157, ExerciseAngina='N', Oldpeak=0.6, ST_Slope='Up', HeartDisease=0),\n",
              " Row(Age=58, Sex='M', ChestPainType='NAP', RestingBP=112, Cholesterol=230, FastingBS=0, RestingECG='LVH', MaxHR=165, ExerciseAngina='N', Oldpeak=2.5, ST_Slope='Flat', HeartDisease=1),\n",
              " Row(Age=71, Sex='F', ChestPainType='NAP', RestingBP=110, Cholesterol=265, FastingBS=1, RestingECG='LVH', MaxHR=130, ExerciseAngina='N', Oldpeak=0.0, ST_Slope='Up', HeartDisease=0),\n",
              " Row(Age=57, Sex='M', ChestPainType='NAP', RestingBP=128, Cholesterol=229, FastingBS=0, RestingECG='LVH', MaxHR=150, ExerciseAngina='N', Oldpeak=0.4, ST_Slope='Flat', HeartDisease=1),\n",
              " Row(Age=66, Sex='M', ChestPainType='ASY', RestingBP=160, Cholesterol=228, FastingBS=0, RestingECG='LVH', MaxHR=138, ExerciseAngina='N', Oldpeak=2.3, ST_Slope='Up', HeartDisease=0),\n",
              " Row(Age=37, Sex='F', ChestPainType='NAP', RestingBP=120, Cholesterol=215, FastingBS=0, RestingECG='Normal', MaxHR=170, ExerciseAngina='N', Oldpeak=0.0, ST_Slope='Up', HeartDisease=0),\n",
              " Row(Age=59, Sex='M', ChestPainType='ASY', RestingBP=170, Cholesterol=326, FastingBS=0, RestingECG='LVH', MaxHR=140, ExerciseAngina='Y', Oldpeak=3.4, ST_Slope='Down', HeartDisease=1),\n",
              " Row(Age=50, Sex='M', ChestPainType='ASY', RestingBP=144, Cholesterol=200, FastingBS=0, RestingECG='LVH', MaxHR=126, ExerciseAngina='Y', Oldpeak=0.9, ST_Slope='Flat', HeartDisease=1),\n",
              " Row(Age=48, Sex='M', ChestPainType='ASY', RestingBP=130, Cholesterol=256, FastingBS=1, RestingECG='LVH', MaxHR=150, ExerciseAngina='Y', Oldpeak=0.0, ST_Slope='Up', HeartDisease=1),\n",
              " Row(Age=61, Sex='M', ChestPainType='ASY', RestingBP=140, Cholesterol=207, FastingBS=0, RestingECG='LVH', MaxHR=138, ExerciseAngina='Y', Oldpeak=1.9, ST_Slope='Up', HeartDisease=1),\n",
              " Row(Age=59, Sex='M', ChestPainType='TA', RestingBP=160, Cholesterol=273, FastingBS=0, RestingECG='LVH', MaxHR=125, ExerciseAngina='N', Oldpeak=0.0, ST_Slope='Up', HeartDisease=1),\n",
              " Row(Age=42, Sex='M', ChestPainType='NAP', RestingBP=130, Cholesterol=180, FastingBS=0, RestingECG='Normal', MaxHR=150, ExerciseAngina='N', Oldpeak=0.0, ST_Slope='Up', HeartDisease=0),\n",
              " Row(Age=48, Sex='M', ChestPainType='ASY', RestingBP=122, Cholesterol=222, FastingBS=0, RestingECG='LVH', MaxHR=186, ExerciseAngina='N', Oldpeak=0.0, ST_Slope='Up', HeartDisease=0),\n",
              " Row(Age=40, Sex='M', ChestPainType='ASY', RestingBP=152, Cholesterol=223, FastingBS=0, RestingECG='Normal', MaxHR=181, ExerciseAngina='N', Oldpeak=0.0, ST_Slope='Up', HeartDisease=1),\n",
              " Row(Age=62, Sex='F', ChestPainType='ASY', RestingBP=124, Cholesterol=209, FastingBS=0, RestingECG='Normal', MaxHR=163, ExerciseAngina='N', Oldpeak=0.0, ST_Slope='Up', HeartDisease=0),\n",
              " Row(Age=44, Sex='M', ChestPainType='NAP', RestingBP=130, Cholesterol=233, FastingBS=0, RestingECG='Normal', MaxHR=179, ExerciseAngina='Y', Oldpeak=0.4, ST_Slope='Up', HeartDisease=0),\n",
              " Row(Age=46, Sex='M', ChestPainType='ATA', RestingBP=101, Cholesterol=197, FastingBS=1, RestingECG='Normal', MaxHR=156, ExerciseAngina='N', Oldpeak=0.0, ST_Slope='Up', HeartDisease=0),\n",
              " Row(Age=59, Sex='M', ChestPainType='NAP', RestingBP=126, Cholesterol=218, FastingBS=1, RestingECG='Normal', MaxHR=134, ExerciseAngina='N', Oldpeak=2.2, ST_Slope='Flat', HeartDisease=1),\n",
              " Row(Age=58, Sex='M', ChestPainType='NAP', RestingBP=140, Cholesterol=211, FastingBS=1, RestingECG='LVH', MaxHR=165, ExerciseAngina='N', Oldpeak=0.0, ST_Slope='Up', HeartDisease=0),\n",
              " Row(Age=49, Sex='M', ChestPainType='NAP', RestingBP=118, Cholesterol=149, FastingBS=0, RestingECG='LVH', MaxHR=126, ExerciseAngina='N', Oldpeak=0.8, ST_Slope='Up', HeartDisease=1),\n",
              " Row(Age=44, Sex='M', ChestPainType='ASY', RestingBP=110, Cholesterol=197, FastingBS=0, RestingECG='LVH', MaxHR=177, ExerciseAngina='N', Oldpeak=0.0, ST_Slope='Up', HeartDisease=1),\n",
              " Row(Age=66, Sex='M', ChestPainType='ATA', RestingBP=160, Cholesterol=246, FastingBS=0, RestingECG='Normal', MaxHR=120, ExerciseAngina='Y', Oldpeak=0.0, ST_Slope='Flat', HeartDisease=1),\n",
              " Row(Age=65, Sex='F', ChestPainType='ASY', RestingBP=150, Cholesterol=225, FastingBS=0, RestingECG='LVH', MaxHR=114, ExerciseAngina='N', Oldpeak=1.0, ST_Slope='Flat', HeartDisease=1),\n",
              " Row(Age=42, Sex='M', ChestPainType='ASY', RestingBP=136, Cholesterol=315, FastingBS=0, RestingECG='Normal', MaxHR=125, ExerciseAngina='Y', Oldpeak=1.8, ST_Slope='Flat', HeartDisease=1),\n",
              " Row(Age=52, Sex='M', ChestPainType='ATA', RestingBP=128, Cholesterol=205, FastingBS=1, RestingECG='Normal', MaxHR=184, ExerciseAngina='N', Oldpeak=0.0, ST_Slope='Up', HeartDisease=0),\n",
              " Row(Age=65, Sex='F', ChestPainType='NAP', RestingBP=140, Cholesterol=417, FastingBS=1, RestingECG='LVH', MaxHR=157, ExerciseAngina='N', Oldpeak=0.8, ST_Slope='Up', HeartDisease=0),\n",
              " Row(Age=63, Sex='F', ChestPainType='ATA', RestingBP=140, Cholesterol=195, FastingBS=0, RestingECG='Normal', MaxHR=179, ExerciseAngina='N', Oldpeak=0.0, ST_Slope='Up', HeartDisease=0),\n",
              " Row(Age=45, Sex='F', ChestPainType='ATA', RestingBP=130, Cholesterol=234, FastingBS=0, RestingECG='LVH', MaxHR=175, ExerciseAngina='N', Oldpeak=0.6, ST_Slope='Flat', HeartDisease=0),\n",
              " Row(Age=41, Sex='F', ChestPainType='ATA', RestingBP=105, Cholesterol=198, FastingBS=0, RestingECG='Normal', MaxHR=168, ExerciseAngina='N', Oldpeak=0.0, ST_Slope='Up', HeartDisease=0),\n",
              " Row(Age=61, Sex='M', ChestPainType='ASY', RestingBP=138, Cholesterol=166, FastingBS=0, RestingECG='LVH', MaxHR=125, ExerciseAngina='Y', Oldpeak=3.6, ST_Slope='Flat', HeartDisease=1),\n",
              " Row(Age=60, Sex='F', ChestPainType='NAP', RestingBP=120, Cholesterol=178, FastingBS=1, RestingECG='Normal', MaxHR=96, ExerciseAngina='N', Oldpeak=0.0, ST_Slope='Up', HeartDisease=0),\n",
              " Row(Age=59, Sex='F', ChestPainType='ASY', RestingBP=174, Cholesterol=249, FastingBS=0, RestingECG='Normal', MaxHR=143, ExerciseAngina='Y', Oldpeak=0.0, ST_Slope='Flat', HeartDisease=1),\n",
              " Row(Age=62, Sex='M', ChestPainType='ATA', RestingBP=120, Cholesterol=281, FastingBS=0, RestingECG='LVH', MaxHR=103, ExerciseAngina='N', Oldpeak=1.4, ST_Slope='Flat', HeartDisease=1),\n",
              " Row(Age=57, Sex='M', ChestPainType='NAP', RestingBP=150, Cholesterol=126, FastingBS=1, RestingECG='Normal', MaxHR=173, ExerciseAngina='N', Oldpeak=0.2, ST_Slope='Up', HeartDisease=0),\n",
              " Row(Age=51, Sex='F', ChestPainType='ASY', RestingBP=130, Cholesterol=305, FastingBS=0, RestingECG='Normal', MaxHR=142, ExerciseAngina='Y', Oldpeak=1.2, ST_Slope='Flat', HeartDisease=1),\n",
              " Row(Age=44, Sex='M', ChestPainType='NAP', RestingBP=120, Cholesterol=226, FastingBS=0, RestingECG='Normal', MaxHR=169, ExerciseAngina='N', Oldpeak=0.0, ST_Slope='Up', HeartDisease=0),\n",
              " Row(Age=60, Sex='F', ChestPainType='TA', RestingBP=150, Cholesterol=240, FastingBS=0, RestingECG='Normal', MaxHR=171, ExerciseAngina='N', Oldpeak=0.9, ST_Slope='Up', HeartDisease=0),\n",
              " Row(Age=63, Sex='M', ChestPainType='TA', RestingBP=145, Cholesterol=233, FastingBS=1, RestingECG='LVH', MaxHR=150, ExerciseAngina='N', Oldpeak=2.3, ST_Slope='Down', HeartDisease=0),\n",
              " Row(Age=57, Sex='M', ChestPainType='ASY', RestingBP=150, Cholesterol=276, FastingBS=0, RestingECG='LVH', MaxHR=112, ExerciseAngina='Y', Oldpeak=0.6, ST_Slope='Flat', HeartDisease=1),\n",
              " Row(Age=51, Sex='M', ChestPainType='ASY', RestingBP=140, Cholesterol=261, FastingBS=0, RestingECG='LVH', MaxHR=186, ExerciseAngina='Y', Oldpeak=0.0, ST_Slope='Up', HeartDisease=0),\n",
              " Row(Age=58, Sex='F', ChestPainType='ATA', RestingBP=136, Cholesterol=319, FastingBS=1, RestingECG='LVH', MaxHR=152, ExerciseAngina='N', Oldpeak=0.0, ST_Slope='Up', HeartDisease=1),\n",
              " Row(Age=44, Sex='F', ChestPainType='NAP', RestingBP=118, Cholesterol=242, FastingBS=0, RestingECG='Normal', MaxHR=149, ExerciseAngina='N', Oldpeak=0.3, ST_Slope='Flat', HeartDisease=0),\n",
              " Row(Age=47, Sex='M', ChestPainType='NAP', RestingBP=108, Cholesterol=243, FastingBS=0, RestingECG='Normal', MaxHR=152, ExerciseAngina='N', Oldpeak=0.0, ST_Slope='Up', HeartDisease=1),\n",
              " Row(Age=61, Sex='M', ChestPainType='ASY', RestingBP=120, Cholesterol=260, FastingBS=0, RestingECG='Normal', MaxHR=140, ExerciseAngina='Y', Oldpeak=3.6, ST_Slope='Flat', HeartDisease=1),\n",
              " Row(Age=57, Sex='F', ChestPainType='ASY', RestingBP=120, Cholesterol=354, FastingBS=0, RestingECG='Normal', MaxHR=163, ExerciseAngina='Y', Oldpeak=0.6, ST_Slope='Up', HeartDisease=0),\n",
              " Row(Age=70, Sex='M', ChestPainType='ATA', RestingBP=156, Cholesterol=245, FastingBS=0, RestingECG='LVH', MaxHR=143, ExerciseAngina='N', Oldpeak=0.0, ST_Slope='Up', HeartDisease=0),\n",
              " Row(Age=76, Sex='F', ChestPainType='NAP', RestingBP=140, Cholesterol=197, FastingBS=0, RestingECG='ST', MaxHR=116, ExerciseAngina='N', Oldpeak=1.1, ST_Slope='Flat', HeartDisease=0),\n",
              " Row(Age=67, Sex='F', ChestPainType='ASY', RestingBP=106, Cholesterol=223, FastingBS=0, RestingECG='Normal', MaxHR=142, ExerciseAngina='N', Oldpeak=0.3, ST_Slope='Up', HeartDisease=0),\n",
              " Row(Age=45, Sex='M', ChestPainType='ASY', RestingBP=142, Cholesterol=309, FastingBS=0, RestingECG='LVH', MaxHR=147, ExerciseAngina='Y', Oldpeak=0.0, ST_Slope='Flat', HeartDisease=1),\n",
              " Row(Age=45, Sex='M', ChestPainType='ASY', RestingBP=104, Cholesterol=208, FastingBS=0, RestingECG='LVH', MaxHR=148, ExerciseAngina='Y', Oldpeak=3.0, ST_Slope='Flat', HeartDisease=0),\n",
              " Row(Age=39, Sex='F', ChestPainType='NAP', RestingBP=94, Cholesterol=199, FastingBS=0, RestingECG='Normal', MaxHR=179, ExerciseAngina='N', Oldpeak=0.0, ST_Slope='Up', HeartDisease=0),\n",
              " Row(Age=42, Sex='F', ChestPainType='NAP', RestingBP=120, Cholesterol=209, FastingBS=0, RestingECG='Normal', MaxHR=173, ExerciseAngina='N', Oldpeak=0.0, ST_Slope='Flat', HeartDisease=0),\n",
              " Row(Age=56, Sex='M', ChestPainType='ATA', RestingBP=120, Cholesterol=236, FastingBS=0, RestingECG='Normal', MaxHR=178, ExerciseAngina='N', Oldpeak=0.8, ST_Slope='Up', HeartDisease=0),\n",
              " Row(Age=58, Sex='M', ChestPainType='ASY', RestingBP=146, Cholesterol=218, FastingBS=0, RestingECG='Normal', MaxHR=105, ExerciseAngina='N', Oldpeak=2.0, ST_Slope='Flat', HeartDisease=1),\n",
              " Row(Age=35, Sex='M', ChestPainType='ASY', RestingBP=120, Cholesterol=198, FastingBS=0, RestingECG='Normal', MaxHR=130, ExerciseAngina='Y', Oldpeak=1.6, ST_Slope='Flat', HeartDisease=1),\n",
              " Row(Age=58, Sex='M', ChestPainType='ASY', RestingBP=150, Cholesterol=270, FastingBS=0, RestingECG='LVH', MaxHR=111, ExerciseAngina='Y', Oldpeak=0.8, ST_Slope='Up', HeartDisease=1),\n",
              " Row(Age=41, Sex='M', ChestPainType='NAP', RestingBP=130, Cholesterol=214, FastingBS=0, RestingECG='LVH', MaxHR=168, ExerciseAngina='N', Oldpeak=2.0, ST_Slope='Flat', HeartDisease=0),\n",
              " Row(Age=57, Sex='M', ChestPainType='ASY', RestingBP=110, Cholesterol=201, FastingBS=0, RestingECG='Normal', MaxHR=126, ExerciseAngina='Y', Oldpeak=1.5, ST_Slope='Flat', HeartDisease=0),\n",
              " Row(Age=42, Sex='M', ChestPainType='TA', RestingBP=148, Cholesterol=244, FastingBS=0, RestingECG='LVH', MaxHR=178, ExerciseAngina='N', Oldpeak=0.8, ST_Slope='Up', HeartDisease=0),\n",
              " Row(Age=62, Sex='M', ChestPainType='ATA', RestingBP=128, Cholesterol=208, FastingBS=1, RestingECG='LVH', MaxHR=140, ExerciseAngina='N', Oldpeak=0.0, ST_Slope='Up', HeartDisease=0),\n",
              " Row(Age=59, Sex='M', ChestPainType='TA', RestingBP=178, Cholesterol=270, FastingBS=0, RestingECG='LVH', MaxHR=145, ExerciseAngina='N', Oldpeak=4.2, ST_Slope='Down', HeartDisease=0),\n",
              " Row(Age=41, Sex='F', ChestPainType='ATA', RestingBP=126, Cholesterol=306, FastingBS=0, RestingECG='Normal', MaxHR=163, ExerciseAngina='N', Oldpeak=0.0, ST_Slope='Up', HeartDisease=0),\n",
              " Row(Age=50, Sex='M', ChestPainType='ASY', RestingBP=150, Cholesterol=243, FastingBS=0, RestingECG='LVH', MaxHR=128, ExerciseAngina='N', Oldpeak=2.6, ST_Slope='Flat', HeartDisease=1),\n",
              " Row(Age=59, Sex='M', ChestPainType='ATA', RestingBP=140, Cholesterol=221, FastingBS=0, RestingECG='Normal', MaxHR=164, ExerciseAngina='Y', Oldpeak=0.0, ST_Slope='Up', HeartDisease=0),\n",
              " Row(Age=61, Sex='F', ChestPainType='ASY', RestingBP=130, Cholesterol=330, FastingBS=0, RestingECG='LVH', MaxHR=169, ExerciseAngina='N', Oldpeak=0.0, ST_Slope='Up', HeartDisease=1),\n",
              " Row(Age=54, Sex='M', ChestPainType='ASY', RestingBP=124, Cholesterol=266, FastingBS=0, RestingECG='LVH', MaxHR=109, ExerciseAngina='Y', Oldpeak=2.2, ST_Slope='Flat', HeartDisease=1),\n",
              " Row(Age=54, Sex='M', ChestPainType='ASY', RestingBP=110, Cholesterol=206, FastingBS=0, RestingECG='LVH', MaxHR=108, ExerciseAngina='Y', Oldpeak=0.0, ST_Slope='Flat', HeartDisease=1),\n",
              " Row(Age=52, Sex='M', ChestPainType='ASY', RestingBP=125, Cholesterol=212, FastingBS=0, RestingECG='Normal', MaxHR=168, ExerciseAngina='N', Oldpeak=1.0, ST_Slope='Up', HeartDisease=1),\n",
              " Row(Age=47, Sex='M', ChestPainType='ASY', RestingBP=110, Cholesterol=275, FastingBS=0, RestingECG='LVH', MaxHR=118, ExerciseAngina='Y', Oldpeak=1.0, ST_Slope='Flat', HeartDisease=1),\n",
              " Row(Age=66, Sex='M', ChestPainType='ASY', RestingBP=120, Cholesterol=302, FastingBS=0, RestingECG='LVH', MaxHR=151, ExerciseAngina='N', Oldpeak=0.4, ST_Slope='Flat', HeartDisease=0),\n",
              " Row(Age=58, Sex='M', ChestPainType='ASY', RestingBP=100, Cholesterol=234, FastingBS=0, RestingECG='Normal', MaxHR=156, ExerciseAngina='N', Oldpeak=0.1, ST_Slope='Up', HeartDisease=1),\n",
              " Row(Age=64, Sex='F', ChestPainType='NAP', RestingBP=140, Cholesterol=313, FastingBS=0, RestingECG='Normal', MaxHR=133, ExerciseAngina='N', Oldpeak=0.2, ST_Slope='Up', HeartDisease=0),\n",
              " Row(Age=50, Sex='F', ChestPainType='ATA', RestingBP=120, Cholesterol=244, FastingBS=0, RestingECG='Normal', MaxHR=162, ExerciseAngina='N', Oldpeak=1.1, ST_Slope='Up', HeartDisease=0),\n",
              " Row(Age=44, Sex='F', ChestPainType='NAP', RestingBP=108, Cholesterol=141, FastingBS=0, RestingECG='Normal', MaxHR=175, ExerciseAngina='N', Oldpeak=0.6, ST_Slope='Flat', HeartDisease=0),\n",
              " Row(Age=67, Sex='M', ChestPainType='ASY', RestingBP=120, Cholesterol=237, FastingBS=0, RestingECG='Normal', MaxHR=71, ExerciseAngina='N', Oldpeak=1.0, ST_Slope='Flat', HeartDisease=1),\n",
              " Row(Age=49, Sex='F', ChestPainType='ASY', RestingBP=130, Cholesterol=269, FastingBS=0, RestingECG='Normal', MaxHR=163, ExerciseAngina='N', Oldpeak=0.0, ST_Slope='Up', HeartDisease=0),\n",
              " Row(Age=57, Sex='M', ChestPainType='ASY', RestingBP=165, Cholesterol=289, FastingBS=1, RestingECG='LVH', MaxHR=124, ExerciseAngina='N', Oldpeak=1.0, ST_Slope='Flat', HeartDisease=1),\n",
              " Row(Age=63, Sex='M', ChestPainType='ASY', RestingBP=130, Cholesterol=254, FastingBS=0, RestingECG='LVH', MaxHR=147, ExerciseAngina='N', Oldpeak=1.4, ST_Slope='Flat', HeartDisease=1),\n",
              " Row(Age=48, Sex='M', ChestPainType='ASY', RestingBP=124, Cholesterol=274, FastingBS=0, RestingECG='LVH', MaxHR=166, ExerciseAngina='N', Oldpeak=0.5, ST_Slope='Flat', HeartDisease=1),\n",
              " Row(Age=51, Sex='M', ChestPainType='NAP', RestingBP=100, Cholesterol=222, FastingBS=0, RestingECG='Normal', MaxHR=143, ExerciseAngina='Y', Oldpeak=1.2, ST_Slope='Flat', HeartDisease=0),\n",
              " Row(Age=60, Sex='F', ChestPainType='ASY', RestingBP=150, Cholesterol=258, FastingBS=0, RestingECG='LVH', MaxHR=157, ExerciseAngina='N', Oldpeak=2.6, ST_Slope='Flat', HeartDisease=1),\n",
              " Row(Age=59, Sex='M', ChestPainType='ASY', RestingBP=140, Cholesterol=177, FastingBS=0, RestingECG='Normal', MaxHR=162, ExerciseAngina='Y', Oldpeak=0.0, ST_Slope='Up', HeartDisease=1),\n",
              " Row(Age=45, Sex='F', ChestPainType='ATA', RestingBP=112, Cholesterol=160, FastingBS=0, RestingECG='Normal', MaxHR=138, ExerciseAngina='N', Oldpeak=0.0, ST_Slope='Flat', HeartDisease=0),\n",
              " Row(Age=55, Sex='F', ChestPainType='ASY', RestingBP=180, Cholesterol=327, FastingBS=0, RestingECG='ST', MaxHR=117, ExerciseAngina='Y', Oldpeak=3.4, ST_Slope='Flat', HeartDisease=1),\n",
              " Row(Age=41, Sex='M', ChestPainType='ATA', RestingBP=110, Cholesterol=235, FastingBS=0, RestingECG='Normal', MaxHR=153, ExerciseAngina='N', Oldpeak=0.0, ST_Slope='Up', HeartDisease=0),\n",
              " Row(Age=60, Sex='F', ChestPainType='ASY', RestingBP=158, Cholesterol=305, FastingBS=0, RestingECG='LVH', MaxHR=161, ExerciseAngina='N', Oldpeak=0.0, ST_Slope='Up', HeartDisease=1),\n",
              " Row(Age=54, Sex='F', ChestPainType='NAP', RestingBP=135, Cholesterol=304, FastingBS=1, RestingECG='Normal', MaxHR=170, ExerciseAngina='N', Oldpeak=0.0, ST_Slope='Up', HeartDisease=0),\n",
              " Row(Age=42, Sex='M', ChestPainType='ATA', RestingBP=120, Cholesterol=295, FastingBS=0, RestingECG='Normal', MaxHR=162, ExerciseAngina='N', Oldpeak=0.0, ST_Slope='Up', HeartDisease=0),\n",
              " Row(Age=49, Sex='F', ChestPainType='ATA', RestingBP=134, Cholesterol=271, FastingBS=0, RestingECG='Normal', MaxHR=162, ExerciseAngina='N', Oldpeak=0.0, ST_Slope='Flat', HeartDisease=0),\n",
              " Row(Age=46, Sex='M', ChestPainType='ASY', RestingBP=120, Cholesterol=249, FastingBS=0, RestingECG='LVH', MaxHR=144, ExerciseAngina='N', Oldpeak=0.8, ST_Slope='Up', HeartDisease=1),\n",
              " Row(Age=56, Sex='F', ChestPainType='ASY', RestingBP=200, Cholesterol=288, FastingBS=1, RestingECG='LVH', MaxHR=133, ExerciseAngina='Y', Oldpeak=4.0, ST_Slope='Down', HeartDisease=1),\n",
              " Row(Age=66, Sex='F', ChestPainType='TA', RestingBP=150, Cholesterol=226, FastingBS=0, RestingECG='Normal', MaxHR=114, ExerciseAngina='N', Oldpeak=2.6, ST_Slope='Down', HeartDisease=0),\n",
              " Row(Age=56, Sex='M', ChestPainType='ASY', RestingBP=130, Cholesterol=283, FastingBS=1, RestingECG='LVH', MaxHR=103, ExerciseAngina='Y', Oldpeak=1.6, ST_Slope='Down', HeartDisease=1),\n",
              " Row(Age=49, Sex='M', ChestPainType='NAP', RestingBP=120, Cholesterol=188, FastingBS=0, RestingECG='Normal', MaxHR=139, ExerciseAngina='N', Oldpeak=2.0, ST_Slope='Flat', HeartDisease=1),\n",
              " Row(Age=54, Sex='M', ChestPainType='ASY', RestingBP=122, Cholesterol=286, FastingBS=0, RestingECG='LVH', MaxHR=116, ExerciseAngina='Y', Oldpeak=3.2, ST_Slope='Flat', HeartDisease=1),\n",
              " Row(Age=57, Sex='M', ChestPainType='ASY', RestingBP=152, Cholesterol=274, FastingBS=0, RestingECG='Normal', MaxHR=88, ExerciseAngina='Y', Oldpeak=1.2, ST_Slope='Flat', HeartDisease=1),\n",
              " Row(Age=65, Sex='F', ChestPainType='NAP', RestingBP=160, Cholesterol=360, FastingBS=0, RestingECG='LVH', MaxHR=151, ExerciseAngina='N', Oldpeak=0.8, ST_Slope='Up', HeartDisease=0),\n",
              " Row(Age=54, Sex='M', ChestPainType='NAP', RestingBP=125, Cholesterol=273, FastingBS=0, RestingECG='LVH', MaxHR=152, ExerciseAngina='N', Oldpeak=0.5, ST_Slope='Down', HeartDisease=0),\n",
              " Row(Age=54, Sex='F', ChestPainType='NAP', RestingBP=160, Cholesterol=201, FastingBS=0, RestingECG='Normal', MaxHR=163, ExerciseAngina='N', Oldpeak=0.0, ST_Slope='Up', HeartDisease=0),\n",
              " Row(Age=62, Sex='M', ChestPainType='ASY', RestingBP=120, Cholesterol=267, FastingBS=0, RestingECG='Normal', MaxHR=99, ExerciseAngina='Y', Oldpeak=1.8, ST_Slope='Flat', HeartDisease=1),\n",
              " Row(Age=52, Sex='F', ChestPainType='NAP', RestingBP=136, Cholesterol=196, FastingBS=0, RestingECG='LVH', MaxHR=169, ExerciseAngina='N', Oldpeak=0.1, ST_Slope='Flat', HeartDisease=0),\n",
              " Row(Age=52, Sex='M', ChestPainType='ATA', RestingBP=134, Cholesterol=201, FastingBS=0, RestingECG='Normal', MaxHR=158, ExerciseAngina='N', Oldpeak=0.8, ST_Slope='Up', HeartDisease=0),\n",
              " Row(Age=60, Sex='M', ChestPainType='ASY', RestingBP=117, Cholesterol=230, FastingBS=1, RestingECG='Normal', MaxHR=160, ExerciseAngina='Y', Oldpeak=1.4, ST_Slope='Up', HeartDisease=1),\n",
              " Row(Age=63, Sex='F', ChestPainType='ASY', RestingBP=108, Cholesterol=269, FastingBS=0, RestingECG='Normal', MaxHR=169, ExerciseAngina='Y', Oldpeak=1.8, ST_Slope='Flat', HeartDisease=1),\n",
              " Row(Age=66, Sex='M', ChestPainType='ASY', RestingBP=112, Cholesterol=212, FastingBS=0, RestingECG='LVH', MaxHR=132, ExerciseAngina='Y', Oldpeak=0.1, ST_Slope='Up', HeartDisease=1),\n",
              " Row(Age=42, Sex='M', ChestPainType='ASY', RestingBP=140, Cholesterol=226, FastingBS=0, RestingECG='Normal', MaxHR=178, ExerciseAngina='N', Oldpeak=0.0, ST_Slope='Up', HeartDisease=0),\n",
              " Row(Age=64, Sex='M', ChestPainType='ASY', RestingBP=120, Cholesterol=246, FastingBS=0, RestingECG='LVH', MaxHR=96, ExerciseAngina='Y', Oldpeak=2.2, ST_Slope='Down', HeartDisease=1),\n",
              " Row(Age=54, Sex='M', ChestPainType='NAP', RestingBP=150, Cholesterol=232, FastingBS=0, RestingECG='LVH', MaxHR=165, ExerciseAngina='N', Oldpeak=1.6, ST_Slope='Up', HeartDisease=0),\n",
              " Row(Age=46, Sex='F', ChestPainType='NAP', RestingBP=142, Cholesterol=177, FastingBS=0, RestingECG='LVH', MaxHR=160, ExerciseAngina='Y', Oldpeak=1.4, ST_Slope='Down', HeartDisease=0),\n",
              " Row(Age=67, Sex='F', ChestPainType='NAP', RestingBP=152, Cholesterol=277, FastingBS=0, RestingECG='Normal', MaxHR=172, ExerciseAngina='N', Oldpeak=0.0, ST_Slope='Up', HeartDisease=0),\n",
              " Row(Age=56, Sex='M', ChestPainType='ASY', RestingBP=125, Cholesterol=249, FastingBS=1, RestingECG='LVH', MaxHR=144, ExerciseAngina='Y', Oldpeak=1.2, ST_Slope='Flat', HeartDisease=1),\n",
              " Row(Age=34, Sex='F', ChestPainType='ATA', RestingBP=118, Cholesterol=210, FastingBS=0, RestingECG='Normal', MaxHR=192, ExerciseAngina='N', Oldpeak=0.7, ST_Slope='Up', HeartDisease=0),\n",
              " Row(Age=57, Sex='M', ChestPainType='ASY', RestingBP=132, Cholesterol=207, FastingBS=0, RestingECG='Normal', MaxHR=168, ExerciseAngina='Y', Oldpeak=0.0, ST_Slope='Up', HeartDisease=0),\n",
              " Row(Age=64, Sex='M', ChestPainType='ASY', RestingBP=145, Cholesterol=212, FastingBS=0, RestingECG='LVH', MaxHR=132, ExerciseAngina='N', Oldpeak=2.0, ST_Slope='Flat', HeartDisease=1),\n",
              " Row(Age=59, Sex='M', ChestPainType='ASY', RestingBP=138, Cholesterol=271, FastingBS=0, RestingECG='LVH', MaxHR=182, ExerciseAngina='N', Oldpeak=0.0, ST_Slope='Up', HeartDisease=0),\n",
              " Row(Age=50, Sex='M', ChestPainType='NAP', RestingBP=140, Cholesterol=233, FastingBS=0, RestingECG='Normal', MaxHR=163, ExerciseAngina='N', Oldpeak=0.6, ST_Slope='Flat', HeartDisease=1),\n",
              " Row(Age=51, Sex='M', ChestPainType='TA', RestingBP=125, Cholesterol=213, FastingBS=0, RestingECG='LVH', MaxHR=125, ExerciseAngina='Y', Oldpeak=1.4, ST_Slope='Up', HeartDisease=0),\n",
              " Row(Age=54, Sex='M', ChestPainType='ATA', RestingBP=192, Cholesterol=283, FastingBS=0, RestingECG='LVH', MaxHR=195, ExerciseAngina='N', Oldpeak=0.0, ST_Slope='Up', HeartDisease=1),\n",
              " Row(Age=53, Sex='M', ChestPainType='ASY', RestingBP=123, Cholesterol=282, FastingBS=0, RestingECG='Normal', MaxHR=95, ExerciseAngina='Y', Oldpeak=2.0, ST_Slope='Flat', HeartDisease=1),\n",
              " Row(Age=52, Sex='M', ChestPainType='ASY', RestingBP=112, Cholesterol=230, FastingBS=0, RestingECG='Normal', MaxHR=160, ExerciseAngina='N', Oldpeak=0.0, ST_Slope='Up', HeartDisease=1),\n",
              " Row(Age=40, Sex='M', ChestPainType='ASY', RestingBP=110, Cholesterol=167, FastingBS=0, RestingECG='LVH', MaxHR=114, ExerciseAngina='Y', Oldpeak=2.0, ST_Slope='Flat', HeartDisease=1),\n",
              " Row(Age=58, Sex='M', ChestPainType='NAP', RestingBP=132, Cholesterol=224, FastingBS=0, RestingECG='LVH', MaxHR=173, ExerciseAngina='N', Oldpeak=3.2, ST_Slope='Up', HeartDisease=1),\n",
              " Row(Age=41, Sex='F', ChestPainType='NAP', RestingBP=112, Cholesterol=268, FastingBS=0, RestingECG='LVH', MaxHR=172, ExerciseAngina='Y', Oldpeak=0.0, ST_Slope='Up', HeartDisease=0),\n",
              " Row(Age=41, Sex='M', ChestPainType='NAP', RestingBP=112, Cholesterol=250, FastingBS=0, RestingECG='Normal', MaxHR=179, ExerciseAngina='N', Oldpeak=0.0, ST_Slope='Up', HeartDisease=0),\n",
              " Row(Age=50, Sex='F', ChestPainType='NAP', RestingBP=120, Cholesterol=219, FastingBS=0, RestingECG='Normal', MaxHR=158, ExerciseAngina='N', Oldpeak=1.6, ST_Slope='Flat', HeartDisease=0),\n",
              " Row(Age=54, Sex='F', ChestPainType='NAP', RestingBP=108, Cholesterol=267, FastingBS=0, RestingECG='LVH', MaxHR=167, ExerciseAngina='N', Oldpeak=0.0, ST_Slope='Up', HeartDisease=0),\n",
              " Row(Age=64, Sex='F', ChestPainType='ASY', RestingBP=130, Cholesterol=303, FastingBS=0, RestingECG='Normal', MaxHR=122, ExerciseAngina='N', Oldpeak=2.0, ST_Slope='Flat', HeartDisease=0),\n",
              " Row(Age=51, Sex='F', ChestPainType='NAP', RestingBP=130, Cholesterol=256, FastingBS=0, RestingECG='LVH', MaxHR=149, ExerciseAngina='N', Oldpeak=0.5, ST_Slope='Up', HeartDisease=0),\n",
              " Row(Age=46, Sex='F', ChestPainType='ATA', RestingBP=105, Cholesterol=204, FastingBS=0, RestingECG='Normal', MaxHR=172, ExerciseAngina='N', Oldpeak=0.0, ST_Slope='Up', HeartDisease=0),\n",
              " Row(Age=55, Sex='M', ChestPainType='ASY', RestingBP=140, Cholesterol=217, FastingBS=0, RestingECG='Normal', MaxHR=111, ExerciseAngina='Y', Oldpeak=5.6, ST_Slope='Down', HeartDisease=1),\n",
              " Row(Age=45, Sex='M', ChestPainType='ATA', RestingBP=128, Cholesterol=308, FastingBS=0, RestingECG='LVH', MaxHR=170, ExerciseAngina='N', Oldpeak=0.0, ST_Slope='Up', HeartDisease=0),\n",
              " Row(Age=56, Sex='M', ChestPainType='TA', RestingBP=120, Cholesterol=193, FastingBS=0, RestingECG='LVH', MaxHR=162, ExerciseAngina='N', Oldpeak=1.9, ST_Slope='Flat', HeartDisease=0),\n",
              " Row(Age=66, Sex='F', ChestPainType='ASY', RestingBP=178, Cholesterol=228, FastingBS=1, RestingECG='Normal', MaxHR=165, ExerciseAngina='Y', Oldpeak=1.0, ST_Slope='Flat', HeartDisease=1),\n",
              " Row(Age=38, Sex='M', ChestPainType='TA', RestingBP=120, Cholesterol=231, FastingBS=0, RestingECG='Normal', MaxHR=182, ExerciseAngina='Y', Oldpeak=3.8, ST_Slope='Flat', HeartDisease=1),\n",
              " Row(Age=62, Sex='F', ChestPainType='ASY', RestingBP=150, Cholesterol=244, FastingBS=0, RestingECG='Normal', MaxHR=154, ExerciseAngina='Y', Oldpeak=1.4, ST_Slope='Flat', HeartDisease=1),\n",
              " Row(Age=55, Sex='M', ChestPainType='ATA', RestingBP=130, Cholesterol=262, FastingBS=0, RestingECG='Normal', MaxHR=155, ExerciseAngina='N', Oldpeak=0.0, ST_Slope='Up', HeartDisease=0),\n",
              " Row(Age=58, Sex='M', ChestPainType='ASY', RestingBP=128, Cholesterol=259, FastingBS=0, RestingECG='LVH', MaxHR=130, ExerciseAngina='Y', Oldpeak=3.0, ST_Slope='Flat', HeartDisease=1),\n",
              " Row(Age=43, Sex='M', ChestPainType='ASY', RestingBP=110, Cholesterol=211, FastingBS=0, RestingECG='Normal', MaxHR=161, ExerciseAngina='N', Oldpeak=0.0, ST_Slope='Up', HeartDisease=0),\n",
              " Row(Age=64, Sex='F', ChestPainType='ASY', RestingBP=180, Cholesterol=325, FastingBS=0, RestingECG='Normal', MaxHR=154, ExerciseAngina='Y', Oldpeak=0.0, ST_Slope='Up', HeartDisease=0),\n",
              " Row(Age=50, Sex='F', ChestPainType='ASY', RestingBP=110, Cholesterol=254, FastingBS=0, RestingECG='LVH', MaxHR=159, ExerciseAngina='N', Oldpeak=0.0, ST_Slope='Up', HeartDisease=0),\n",
              " Row(Age=53, Sex='M', ChestPainType='NAP', RestingBP=130, Cholesterol=197, FastingBS=1, RestingECG='LVH', MaxHR=152, ExerciseAngina='N', Oldpeak=1.2, ST_Slope='Down', HeartDisease=0),\n",
              " Row(Age=45, Sex='F', ChestPainType='ASY', RestingBP=138, Cholesterol=236, FastingBS=0, RestingECG='LVH', MaxHR=152, ExerciseAngina='Y', Oldpeak=0.2, ST_Slope='Flat', HeartDisease=0),\n",
              " Row(Age=65, Sex='M', ChestPainType='TA', RestingBP=138, Cholesterol=282, FastingBS=1, RestingECG='LVH', MaxHR=174, ExerciseAngina='N', Oldpeak=1.4, ST_Slope='Flat', HeartDisease=1),\n",
              " Row(Age=69, Sex='M', ChestPainType='TA', RestingBP=160, Cholesterol=234, FastingBS=1, RestingECG='LVH', MaxHR=131, ExerciseAngina='N', Oldpeak=0.1, ST_Slope='Flat', HeartDisease=0),\n",
              " Row(Age=69, Sex='M', ChestPainType='NAP', RestingBP=140, Cholesterol=254, FastingBS=0, RestingECG='LVH', MaxHR=146, ExerciseAngina='N', Oldpeak=2.0, ST_Slope='Flat', HeartDisease=1),\n",
              " Row(Age=67, Sex='M', ChestPainType='ASY', RestingBP=100, Cholesterol=299, FastingBS=0, RestingECG='LVH', MaxHR=125, ExerciseAngina='Y', Oldpeak=0.9, ST_Slope='Flat', HeartDisease=1),\n",
              " Row(Age=68, Sex='F', ChestPainType='NAP', RestingBP=120, Cholesterol=211, FastingBS=0, RestingECG='LVH', MaxHR=115, ExerciseAngina='N', Oldpeak=1.5, ST_Slope='Flat', HeartDisease=0),\n",
              " Row(Age=34, Sex='M', ChestPainType='TA', RestingBP=118, Cholesterol=182, FastingBS=0, RestingECG='LVH', MaxHR=174, ExerciseAngina='N', Oldpeak=0.0, ST_Slope='Up', HeartDisease=0),\n",
              " Row(Age=62, Sex='F', ChestPainType='ASY', RestingBP=138, Cholesterol=294, FastingBS=1, RestingECG='Normal', MaxHR=106, ExerciseAngina='N', Oldpeak=1.9, ST_Slope='Flat', HeartDisease=1),\n",
              " Row(Age=51, Sex='M', ChestPainType='ASY', RestingBP=140, Cholesterol=298, FastingBS=0, RestingECG='Normal', MaxHR=122, ExerciseAngina='Y', Oldpeak=4.2, ST_Slope='Flat', HeartDisease=1),\n",
              " Row(Age=46, Sex='M', ChestPainType='NAP', RestingBP=150, Cholesterol=231, FastingBS=0, RestingECG='Normal', MaxHR=147, ExerciseAngina='N', Oldpeak=3.6, ST_Slope='Flat', HeartDisease=1),\n",
              " Row(Age=67, Sex='M', ChestPainType='ASY', RestingBP=125, Cholesterol=254, FastingBS=1, RestingECG='Normal', MaxHR=163, ExerciseAngina='N', Oldpeak=0.2, ST_Slope='Flat', HeartDisease=1),\n",
              " Row(Age=50, Sex='M', ChestPainType='NAP', RestingBP=129, Cholesterol=196, FastingBS=0, RestingECG='Normal', MaxHR=163, ExerciseAngina='N', Oldpeak=0.0, ST_Slope='Up', HeartDisease=0),\n",
              " Row(Age=42, Sex='M', ChestPainType='NAP', RestingBP=120, Cholesterol=240, FastingBS=1, RestingECG='Normal', MaxHR=194, ExerciseAngina='N', Oldpeak=0.8, ST_Slope='Down', HeartDisease=0),\n",
              " Row(Age=56, Sex='F', ChestPainType='ASY', RestingBP=134, Cholesterol=409, FastingBS=0, RestingECG='LVH', MaxHR=150, ExerciseAngina='Y', Oldpeak=1.9, ST_Slope='Flat', HeartDisease=1),\n",
              " Row(Age=41, Sex='M', ChestPainType='ASY', RestingBP=110, Cholesterol=172, FastingBS=0, RestingECG='LVH', MaxHR=158, ExerciseAngina='N', Oldpeak=0.0, ST_Slope='Up', HeartDisease=1),\n",
              " Row(Age=42, Sex='F', ChestPainType='ASY', RestingBP=102, Cholesterol=265, FastingBS=0, RestingECG='LVH', MaxHR=122, ExerciseAngina='N', Oldpeak=0.6, ST_Slope='Flat', HeartDisease=0),\n",
              " Row(Age=53, Sex='M', ChestPainType='NAP', RestingBP=130, Cholesterol=246, FastingBS=1, RestingECG='LVH', MaxHR=173, ExerciseAngina='N', Oldpeak=0.0, ST_Slope='Up', HeartDisease=0),\n",
              " Row(Age=43, Sex='M', ChestPainType='NAP', RestingBP=130, Cholesterol=315, FastingBS=0, RestingECG='Normal', MaxHR=162, ExerciseAngina='N', Oldpeak=1.9, ST_Slope='Up', HeartDisease=0),\n",
              " Row(Age=56, Sex='M', ChestPainType='ASY', RestingBP=132, Cholesterol=184, FastingBS=0, RestingECG='LVH', MaxHR=105, ExerciseAngina='Y', Oldpeak=2.1, ST_Slope='Flat', HeartDisease=1),\n",
              " Row(Age=52, Sex='M', ChestPainType='ASY', RestingBP=108, Cholesterol=233, FastingBS=1, RestingECG='Normal', MaxHR=147, ExerciseAngina='N', Oldpeak=0.1, ST_Slope='Up', HeartDisease=0),\n",
              " Row(Age=62, Sex='F', ChestPainType='ASY', RestingBP=140, Cholesterol=394, FastingBS=0, RestingECG='LVH', MaxHR=157, ExerciseAngina='N', Oldpeak=1.2, ST_Slope='Flat', HeartDisease=0),\n",
              " Row(Age=70, Sex='M', ChestPainType='NAP', RestingBP=160, Cholesterol=269, FastingBS=0, RestingECG='Normal', MaxHR=112, ExerciseAngina='Y', Oldpeak=2.9, ST_Slope='Flat', HeartDisease=1),\n",
              " Row(Age=54, Sex='M', ChestPainType='ASY', RestingBP=140, Cholesterol=239, FastingBS=0, RestingECG='Normal', MaxHR=160, ExerciseAngina='N', Oldpeak=1.2, ST_Slope='Up', HeartDisease=0),\n",
              " Row(Age=70, Sex='M', ChestPainType='ASY', RestingBP=145, Cholesterol=174, FastingBS=0, RestingECG='Normal', MaxHR=125, ExerciseAngina='Y', Oldpeak=2.6, ST_Slope='Down', HeartDisease=1),\n",
              " Row(Age=54, Sex='M', ChestPainType='ATA', RestingBP=108, Cholesterol=309, FastingBS=0, RestingECG='Normal', MaxHR=156, ExerciseAngina='N', Oldpeak=0.0, ST_Slope='Up', HeartDisease=0),\n",
              " Row(Age=35, Sex='M', ChestPainType='ASY', RestingBP=126, Cholesterol=282, FastingBS=0, RestingECG='LVH', MaxHR=156, ExerciseAngina='Y', Oldpeak=0.0, ST_Slope='Up', HeartDisease=1),\n",
              " Row(Age=48, Sex='M', ChestPainType='NAP', RestingBP=124, Cholesterol=255, FastingBS=1, RestingECG='Normal', MaxHR=175, ExerciseAngina='N', Oldpeak=0.0, ST_Slope='Up', HeartDisease=0),\n",
              " Row(Age=55, Sex='F', ChestPainType='ATA', RestingBP=135, Cholesterol=250, FastingBS=0, RestingECG='LVH', MaxHR=161, ExerciseAngina='N', Oldpeak=1.4, ST_Slope='Flat', HeartDisease=0),\n",
              " Row(Age=58, Sex='F', ChestPainType='ASY', RestingBP=100, Cholesterol=248, FastingBS=0, RestingECG='LVH', MaxHR=122, ExerciseAngina='N', Oldpeak=1.0, ST_Slope='Flat', HeartDisease=0),\n",
              " Row(Age=54, Sex='F', ChestPainType='NAP', RestingBP=110, Cholesterol=214, FastingBS=0, RestingECG='Normal', MaxHR=158, ExerciseAngina='N', Oldpeak=1.6, ST_Slope='Flat', HeartDisease=0),\n",
              " Row(Age=69, Sex='F', ChestPainType='TA', RestingBP=140, Cholesterol=239, FastingBS=0, RestingECG='Normal', MaxHR=151, ExerciseAngina='N', Oldpeak=1.8, ST_Slope='Up', HeartDisease=0),\n",
              " Row(Age=77, Sex='M', ChestPainType='ASY', RestingBP=125, Cholesterol=304, FastingBS=0, RestingECG='LVH', MaxHR=162, ExerciseAngina='Y', Oldpeak=0.0, ST_Slope='Up', HeartDisease=1),\n",
              " Row(Age=68, Sex='M', ChestPainType='NAP', RestingBP=118, Cholesterol=277, FastingBS=0, RestingECG='Normal', MaxHR=151, ExerciseAngina='N', Oldpeak=1.0, ST_Slope='Up', HeartDisease=0),\n",
              " Row(Age=58, Sex='M', ChestPainType='ASY', RestingBP=125, Cholesterol=300, FastingBS=0, RestingECG='LVH', MaxHR=171, ExerciseAngina='N', Oldpeak=0.0, ST_Slope='Up', HeartDisease=1),\n",
              " Row(Age=60, Sex='M', ChestPainType='ASY', RestingBP=125, Cholesterol=258, FastingBS=0, RestingECG='LVH', MaxHR=141, ExerciseAngina='Y', Oldpeak=2.8, ST_Slope='Flat', HeartDisease=1),\n",
              " Row(Age=51, Sex='M', ChestPainType='ASY', RestingBP=140, Cholesterol=299, FastingBS=0, RestingECG='Normal', MaxHR=173, ExerciseAngina='Y', Oldpeak=1.6, ST_Slope='Up', HeartDisease=1),\n",
              " Row(Age=55, Sex='M', ChestPainType='ASY', RestingBP=160, Cholesterol=289, FastingBS=0, RestingECG='LVH', MaxHR=145, ExerciseAngina='Y', Oldpeak=0.8, ST_Slope='Flat', HeartDisease=1),\n",
              " Row(Age=52, Sex='M', ChestPainType='TA', RestingBP=152, Cholesterol=298, FastingBS=1, RestingECG='Normal', MaxHR=178, ExerciseAngina='N', Oldpeak=1.2, ST_Slope='Flat', HeartDisease=0),\n",
              " Row(Age=60, Sex='F', ChestPainType='NAP', RestingBP=102, Cholesterol=318, FastingBS=0, RestingECG='Normal', MaxHR=160, ExerciseAngina='N', Oldpeak=0.0, ST_Slope='Up', HeartDisease=0),\n",
              " Row(Age=58, Sex='M', ChestPainType='NAP', RestingBP=105, Cholesterol=240, FastingBS=0, RestingECG='LVH', MaxHR=154, ExerciseAngina='Y', Oldpeak=0.6, ST_Slope='Flat', HeartDisease=0),\n",
              " Row(Age=64, Sex='M', ChestPainType='NAP', RestingBP=125, Cholesterol=309, FastingBS=0, RestingECG='Normal', MaxHR=131, ExerciseAngina='Y', Oldpeak=1.8, ST_Slope='Flat', HeartDisease=1),\n",
              " Row(Age=37, Sex='M', ChestPainType='NAP', RestingBP=130, Cholesterol=250, FastingBS=0, RestingECG='Normal', MaxHR=187, ExerciseAngina='N', Oldpeak=3.5, ST_Slope='Down', HeartDisease=0),\n",
              " Row(Age=59, Sex='M', ChestPainType='TA', RestingBP=170, Cholesterol=288, FastingBS=0, RestingECG='LVH', MaxHR=159, ExerciseAngina='N', Oldpeak=0.2, ST_Slope='Flat', HeartDisease=1),\n",
              " Row(Age=51, Sex='M', ChestPainType='NAP', RestingBP=125, Cholesterol=245, FastingBS=1, RestingECG='LVH', MaxHR=166, ExerciseAngina='N', Oldpeak=2.4, ST_Slope='Flat', HeartDisease=0),\n",
              " Row(Age=43, Sex='F', ChestPainType='NAP', RestingBP=122, Cholesterol=213, FastingBS=0, RestingECG='Normal', MaxHR=165, ExerciseAngina='N', Oldpeak=0.2, ST_Slope='Flat', HeartDisease=0),\n",
              " Row(Age=58, Sex='M', ChestPainType='ASY', RestingBP=128, Cholesterol=216, FastingBS=0, RestingECG='LVH', MaxHR=131, ExerciseAngina='Y', Oldpeak=2.2, ST_Slope='Flat', HeartDisease=1),\n",
              " Row(Age=29, Sex='M', ChestPainType='ATA', RestingBP=130, Cholesterol=204, FastingBS=0, RestingECG='LVH', MaxHR=202, ExerciseAngina='N', Oldpeak=0.0, ST_Slope='Up', HeartDisease=0),\n",
              " Row(Age=41, Sex='F', ChestPainType='ATA', RestingBP=130, Cholesterol=204, FastingBS=0, RestingECG='LVH', MaxHR=172, ExerciseAngina='N', Oldpeak=1.4, ST_Slope='Up', HeartDisease=0),\n",
              " Row(Age=63, Sex='F', ChestPainType='NAP', RestingBP=135, Cholesterol=252, FastingBS=0, RestingECG='LVH', MaxHR=172, ExerciseAngina='N', Oldpeak=0.0, ST_Slope='Up', HeartDisease=0),\n",
              " Row(Age=51, Sex='M', ChestPainType='NAP', RestingBP=94, Cholesterol=227, FastingBS=0, RestingECG='Normal', MaxHR=154, ExerciseAngina='Y', Oldpeak=0.0, ST_Slope='Up', HeartDisease=0),\n",
              " Row(Age=54, Sex='M', ChestPainType='NAP', RestingBP=120, Cholesterol=258, FastingBS=0, RestingECG='LVH', MaxHR=147, ExerciseAngina='N', Oldpeak=0.4, ST_Slope='Flat', HeartDisease=0),\n",
              " Row(Age=44, Sex='M', ChestPainType='ATA', RestingBP=120, Cholesterol=220, FastingBS=0, RestingECG='Normal', MaxHR=170, ExerciseAngina='N', Oldpeak=0.0, ST_Slope='Up', HeartDisease=0),\n",
              " Row(Age=54, Sex='M', ChestPainType='ASY', RestingBP=110, Cholesterol=239, FastingBS=0, RestingECG='Normal', MaxHR=126, ExerciseAngina='Y', Oldpeak=2.8, ST_Slope='Flat', HeartDisease=1),\n",
              " Row(Age=65, Sex='M', ChestPainType='ASY', RestingBP=135, Cholesterol=254, FastingBS=0, RestingECG='LVH', MaxHR=127, ExerciseAngina='N', Oldpeak=2.8, ST_Slope='Flat', HeartDisease=1),\n",
              " Row(Age=57, Sex='M', ChestPainType='NAP', RestingBP=150, Cholesterol=168, FastingBS=0, RestingECG='Normal', MaxHR=174, ExerciseAngina='N', Oldpeak=1.6, ST_Slope='Up', HeartDisease=0),\n",
              " Row(Age=63, Sex='M', ChestPainType='ASY', RestingBP=130, Cholesterol=330, FastingBS=1, RestingECG='LVH', MaxHR=132, ExerciseAngina='Y', Oldpeak=1.8, ST_Slope='Up', HeartDisease=1),\n",
              " Row(Age=35, Sex='F', ChestPainType='ASY', RestingBP=138, Cholesterol=183, FastingBS=0, RestingECG='Normal', MaxHR=182, ExerciseAngina='N', Oldpeak=1.4, ST_Slope='Up', HeartDisease=0),\n",
              " Row(Age=41, Sex='M', ChestPainType='ATA', RestingBP=135, Cholesterol=203, FastingBS=0, RestingECG='Normal', MaxHR=132, ExerciseAngina='N', Oldpeak=0.0, ST_Slope='Flat', HeartDisease=0),\n",
              " Row(Age=62, Sex='F', ChestPainType='NAP', RestingBP=130, Cholesterol=263, FastingBS=0, RestingECG='Normal', MaxHR=97, ExerciseAngina='N', Oldpeak=1.2, ST_Slope='Flat', HeartDisease=1),\n",
              " Row(Age=43, Sex='F', ChestPainType='ASY', RestingBP=132, Cholesterol=341, FastingBS=1, RestingECG='LVH', MaxHR=136, ExerciseAngina='Y', Oldpeak=3.0, ST_Slope='Flat', HeartDisease=1),\n",
              " Row(Age=58, Sex='F', ChestPainType='TA', RestingBP=150, Cholesterol=283, FastingBS=1, RestingECG='LVH', MaxHR=162, ExerciseAngina='N', Oldpeak=1.0, ST_Slope='Up', HeartDisease=0),\n",
              " Row(Age=52, Sex='M', ChestPainType='TA', RestingBP=118, Cholesterol=186, FastingBS=0, RestingECG='LVH', MaxHR=190, ExerciseAngina='N', Oldpeak=0.0, ST_Slope='Flat', HeartDisease=0),\n",
              " Row(Age=61, Sex='F', ChestPainType='ASY', RestingBP=145, Cholesterol=307, FastingBS=0, RestingECG='LVH', MaxHR=146, ExerciseAngina='Y', Oldpeak=1.0, ST_Slope='Flat', HeartDisease=1),\n",
              " Row(Age=39, Sex='M', ChestPainType='ASY', RestingBP=118, Cholesterol=219, FastingBS=0, RestingECG='Normal', MaxHR=140, ExerciseAngina='N', Oldpeak=1.2, ST_Slope='Flat', HeartDisease=1),\n",
              " Row(Age=45, Sex='M', ChestPainType='ASY', RestingBP=115, Cholesterol=260, FastingBS=0, RestingECG='LVH', MaxHR=185, ExerciseAngina='N', Oldpeak=0.0, ST_Slope='Up', HeartDisease=0),\n",
              " Row(Age=52, Sex='M', ChestPainType='ASY', RestingBP=128, Cholesterol=255, FastingBS=0, RestingECG='Normal', MaxHR=161, ExerciseAngina='Y', Oldpeak=0.0, ST_Slope='Up', HeartDisease=1),\n",
              " Row(Age=62, Sex='M', ChestPainType='NAP', RestingBP=130, Cholesterol=231, FastingBS=0, RestingECG='Normal', MaxHR=146, ExerciseAngina='N', Oldpeak=1.8, ST_Slope='Flat', HeartDisease=0),\n",
              " Row(Age=62, Sex='F', ChestPainType='ASY', RestingBP=160, Cholesterol=164, FastingBS=0, RestingECG='LVH', MaxHR=145, ExerciseAngina='N', Oldpeak=6.2, ST_Slope='Down', HeartDisease=1),\n",
              " Row(Age=53, Sex='F', ChestPainType='ASY', RestingBP=138, Cholesterol=234, FastingBS=0, RestingECG='LVH', MaxHR=160, ExerciseAngina='N', Oldpeak=0.0, ST_Slope='Up', HeartDisease=0),\n",
              " Row(Age=43, Sex='M', ChestPainType='ASY', RestingBP=120, Cholesterol=177, FastingBS=0, RestingECG='LVH', MaxHR=120, ExerciseAngina='Y', Oldpeak=2.5, ST_Slope='Flat', HeartDisease=1),\n",
              " Row(Age=47, Sex='M', ChestPainType='NAP', RestingBP=138, Cholesterol=257, FastingBS=0, RestingECG='LVH', MaxHR=156, ExerciseAngina='N', Oldpeak=0.0, ST_Slope='Up', HeartDisease=0),\n",
              " Row(Age=52, Sex='M', ChestPainType='ATA', RestingBP=120, Cholesterol=325, FastingBS=0, RestingECG='Normal', MaxHR=172, ExerciseAngina='N', Oldpeak=0.2, ST_Slope='Up', HeartDisease=0),\n",
              " Row(Age=68, Sex='M', ChestPainType='NAP', RestingBP=180, Cholesterol=274, FastingBS=1, RestingECG='LVH', MaxHR=150, ExerciseAngina='Y', Oldpeak=1.6, ST_Slope='Flat', HeartDisease=1),\n",
              " Row(Age=39, Sex='M', ChestPainType='NAP', RestingBP=140, Cholesterol=321, FastingBS=0, RestingECG='LVH', MaxHR=182, ExerciseAngina='N', Oldpeak=0.0, ST_Slope='Up', HeartDisease=0),\n",
              " Row(Age=53, Sex='F', ChestPainType='ASY', RestingBP=130, Cholesterol=264, FastingBS=0, RestingECG='LVH', MaxHR=143, ExerciseAngina='N', Oldpeak=0.4, ST_Slope='Flat', HeartDisease=0),\n",
              " Row(Age=62, Sex='F', ChestPainType='ASY', RestingBP=140, Cholesterol=268, FastingBS=0, RestingECG='LVH', MaxHR=160, ExerciseAngina='N', Oldpeak=3.6, ST_Slope='Down', HeartDisease=1),\n",
              " Row(Age=51, Sex='F', ChestPainType='NAP', RestingBP=140, Cholesterol=308, FastingBS=0, RestingECG='LVH', MaxHR=142, ExerciseAngina='N', Oldpeak=1.5, ST_Slope='Up', HeartDisease=0),\n",
              " Row(Age=60, Sex='M', ChestPainType='ASY', RestingBP=130, Cholesterol=253, FastingBS=0, RestingECG='Normal', MaxHR=144, ExerciseAngina='Y', Oldpeak=1.4, ST_Slope='Up', HeartDisease=1),\n",
              " Row(Age=65, Sex='M', ChestPainType='ASY', RestingBP=110, Cholesterol=248, FastingBS=0, RestingECG='LVH', MaxHR=158, ExerciseAngina='N', Oldpeak=0.6, ST_Slope='Up', HeartDisease=1),\n",
              " Row(Age=65, Sex='F', ChestPainType='NAP', RestingBP=155, Cholesterol=269, FastingBS=0, RestingECG='Normal', MaxHR=148, ExerciseAngina='N', Oldpeak=0.8, ST_Slope='Up', HeartDisease=0),\n",
              " Row(Age=60, Sex='M', ChestPainType='NAP', RestingBP=140, Cholesterol=185, FastingBS=0, RestingECG='LVH', MaxHR=155, ExerciseAngina='N', Oldpeak=3.0, ST_Slope='Flat', HeartDisease=1),\n",
              " Row(Age=60, Sex='M', ChestPainType='ASY', RestingBP=145, Cholesterol=282, FastingBS=0, RestingECG='LVH', MaxHR=142, ExerciseAngina='Y', Oldpeak=2.8, ST_Slope='Flat', HeartDisease=1),\n",
              " Row(Age=54, Sex='M', ChestPainType='ASY', RestingBP=120, Cholesterol=188, FastingBS=0, RestingECG='Normal', MaxHR=113, ExerciseAngina='N', Oldpeak=1.4, ST_Slope='Flat', HeartDisease=1),\n",
              " Row(Age=44, Sex='M', ChestPainType='ATA', RestingBP=130, Cholesterol=219, FastingBS=0, RestingECG='LVH', MaxHR=188, ExerciseAngina='N', Oldpeak=0.0, ST_Slope='Up', HeartDisease=0),\n",
              " Row(Age=44, Sex='M', ChestPainType='ASY', RestingBP=112, Cholesterol=290, FastingBS=0, RestingECG='LVH', MaxHR=153, ExerciseAngina='N', Oldpeak=0.0, ST_Slope='Up', HeartDisease=1),\n",
              " Row(Age=51, Sex='M', ChestPainType='NAP', RestingBP=110, Cholesterol=175, FastingBS=0, RestingECG='Normal', MaxHR=123, ExerciseAngina='N', Oldpeak=0.6, ST_Slope='Up', HeartDisease=0),\n",
              " Row(Age=59, Sex='M', ChestPainType='NAP', RestingBP=150, Cholesterol=212, FastingBS=1, RestingECG='Normal', MaxHR=157, ExerciseAngina='N', Oldpeak=1.6, ST_Slope='Up', HeartDisease=0),\n",
              " Row(Age=71, Sex='F', ChestPainType='ATA', RestingBP=160, Cholesterol=302, FastingBS=0, RestingECG='Normal', MaxHR=162, ExerciseAngina='N', Oldpeak=0.4, ST_Slope='Up', HeartDisease=0),\n",
              " Row(Age=61, Sex='M', ChestPainType='NAP', RestingBP=150, Cholesterol=243, FastingBS=1, RestingECG='Normal', MaxHR=137, ExerciseAngina='Y', Oldpeak=1.0, ST_Slope='Flat', HeartDisease=0),\n",
              " Row(Age=55, Sex='M', ChestPainType='ASY', RestingBP=132, Cholesterol=353, FastingBS=0, RestingECG='Normal', MaxHR=132, ExerciseAngina='Y', Oldpeak=1.2, ST_Slope='Flat', HeartDisease=1),\n",
              " Row(Age=64, Sex='M', ChestPainType='NAP', RestingBP=140, Cholesterol=335, FastingBS=0, RestingECG='Normal', MaxHR=158, ExerciseAngina='N', Oldpeak=0.0, ST_Slope='Up', HeartDisease=1),\n",
              " Row(Age=43, Sex='M', ChestPainType='ASY', RestingBP=150, Cholesterol=247, FastingBS=0, RestingECG='Normal', MaxHR=171, ExerciseAngina='N', Oldpeak=1.5, ST_Slope='Up', HeartDisease=0),\n",
              " Row(Age=58, Sex='F', ChestPainType='NAP', RestingBP=120, Cholesterol=340, FastingBS=0, RestingECG='Normal', MaxHR=172, ExerciseAngina='N', Oldpeak=0.0, ST_Slope='Up', HeartDisease=0),\n",
              " Row(Age=60, Sex='M', ChestPainType='ASY', RestingBP=130, Cholesterol=206, FastingBS=0, RestingECG='LVH', MaxHR=132, ExerciseAngina='Y', Oldpeak=2.4, ST_Slope='Flat', HeartDisease=1),\n",
              " Row(Age=58, Sex='M', ChestPainType='ATA', RestingBP=120, Cholesterol=284, FastingBS=0, RestingECG='LVH', MaxHR=160, ExerciseAngina='N', Oldpeak=1.8, ST_Slope='Flat', HeartDisease=1),\n",
              " Row(Age=49, Sex='M', ChestPainType='ATA', RestingBP=130, Cholesterol=266, FastingBS=0, RestingECG='Normal', MaxHR=171, ExerciseAngina='N', Oldpeak=0.6, ST_Slope='Up', HeartDisease=0),\n",
              " Row(Age=48, Sex='M', ChestPainType='ATA', RestingBP=110, Cholesterol=229, FastingBS=0, RestingECG='Normal', MaxHR=168, ExerciseAngina='N', Oldpeak=1.0, ST_Slope='Down', HeartDisease=1),\n",
              " Row(Age=52, Sex='M', ChestPainType='NAP', RestingBP=172, Cholesterol=199, FastingBS=1, RestingECG='Normal', MaxHR=162, ExerciseAngina='N', Oldpeak=0.5, ST_Slope='Up', HeartDisease=0),\n",
              " Row(Age=44, Sex='M', ChestPainType='ATA', RestingBP=120, Cholesterol=263, FastingBS=0, RestingECG='Normal', MaxHR=173, ExerciseAngina='N', Oldpeak=0.0, ST_Slope='Up', HeartDisease=0),\n",
              " Row(Age=56, Sex='F', ChestPainType='ATA', RestingBP=140, Cholesterol=294, FastingBS=0, RestingECG='LVH', MaxHR=153, ExerciseAngina='N', Oldpeak=1.3, ST_Slope='Flat', HeartDisease=0),\n",
              " Row(Age=57, Sex='M', ChestPainType='ASY', RestingBP=140, Cholesterol=192, FastingBS=0, RestingECG='Normal', MaxHR=148, ExerciseAngina='N', Oldpeak=0.4, ST_Slope='Flat', HeartDisease=0),\n",
              " Row(Age=67, Sex='M', ChestPainType='ASY', RestingBP=160, Cholesterol=286, FastingBS=0, RestingECG='LVH', MaxHR=108, ExerciseAngina='Y', Oldpeak=1.5, ST_Slope='Flat', HeartDisease=1),\n",
              " Row(Age=53, Sex='F', ChestPainType='NAP', RestingBP=128, Cholesterol=216, FastingBS=0, RestingECG='LVH', MaxHR=115, ExerciseAngina='N', Oldpeak=0.0, ST_Slope='Up', HeartDisease=0),\n",
              " Row(Age=52, Sex='M', ChestPainType='NAP', RestingBP=138, Cholesterol=223, FastingBS=0, RestingECG='Normal', MaxHR=169, ExerciseAngina='N', Oldpeak=0.0, ST_Slope='Up', HeartDisease=0),\n",
              " Row(Age=43, Sex='M', ChestPainType='ASY', RestingBP=132, Cholesterol=247, FastingBS=1, RestingECG='LVH', MaxHR=143, ExerciseAngina='Y', Oldpeak=0.1, ST_Slope='Flat', HeartDisease=1),\n",
              " Row(Age=52, Sex='M', ChestPainType='ASY', RestingBP=128, Cholesterol=204, FastingBS=1, RestingECG='Normal', MaxHR=156, ExerciseAngina='Y', Oldpeak=1.0, ST_Slope='Flat', HeartDisease=1),\n",
              " Row(Age=59, Sex='M', ChestPainType='TA', RestingBP=134, Cholesterol=204, FastingBS=0, RestingECG='Normal', MaxHR=162, ExerciseAngina='N', Oldpeak=0.8, ST_Slope='Up', HeartDisease=1),\n",
              " Row(Age=64, Sex='M', ChestPainType='TA', RestingBP=170, Cholesterol=227, FastingBS=0, RestingECG='LVH', MaxHR=155, ExerciseAngina='N', Oldpeak=0.6, ST_Slope='Flat', HeartDisease=0),\n",
              " Row(Age=66, Sex='F', ChestPainType='NAP', RestingBP=146, Cholesterol=278, FastingBS=0, RestingECG='LVH', MaxHR=152, ExerciseAngina='N', Oldpeak=0.0, ST_Slope='Flat', HeartDisease=0),\n",
              " Row(Age=39, Sex='F', ChestPainType='NAP', RestingBP=138, Cholesterol=220, FastingBS=0, RestingECG='Normal', MaxHR=152, ExerciseAngina='N', Oldpeak=0.0, ST_Slope='Flat', HeartDisease=0),\n",
              " Row(Age=57, Sex='M', ChestPainType='ATA', RestingBP=154, Cholesterol=232, FastingBS=0, RestingECG='LVH', MaxHR=164, ExerciseAngina='N', Oldpeak=0.0, ST_Slope='Up', HeartDisease=1),\n",
              " Row(Age=58, Sex='F', ChestPainType='ASY', RestingBP=130, Cholesterol=197, FastingBS=0, RestingECG='Normal', MaxHR=131, ExerciseAngina='N', Oldpeak=0.6, ST_Slope='Flat', HeartDisease=0),\n",
              " Row(Age=57, Sex='M', ChestPainType='ASY', RestingBP=110, Cholesterol=335, FastingBS=0, RestingECG='Normal', MaxHR=143, ExerciseAngina='Y', Oldpeak=3.0, ST_Slope='Flat', HeartDisease=1),\n",
              " Row(Age=47, Sex='M', ChestPainType='NAP', RestingBP=130, Cholesterol=253, FastingBS=0, RestingECG='Normal', MaxHR=179, ExerciseAngina='N', Oldpeak=0.0, ST_Slope='Up', HeartDisease=0),\n",
              " Row(Age=55, Sex='F', ChestPainType='ASY', RestingBP=128, Cholesterol=205, FastingBS=0, RestingECG='ST', MaxHR=130, ExerciseAngina='Y', Oldpeak=2.0, ST_Slope='Flat', HeartDisease=1),\n",
              " Row(Age=35, Sex='M', ChestPainType='ATA', RestingBP=122, Cholesterol=192, FastingBS=0, RestingECG='Normal', MaxHR=174, ExerciseAngina='N', Oldpeak=0.0, ST_Slope='Up', HeartDisease=0),\n",
              " Row(Age=61, Sex='M', ChestPainType='ASY', RestingBP=148, Cholesterol=203, FastingBS=0, RestingECG='Normal', MaxHR=161, ExerciseAngina='N', Oldpeak=0.0, ST_Slope='Up', HeartDisease=1),\n",
              " Row(Age=58, Sex='M', ChestPainType='ASY', RestingBP=114, Cholesterol=318, FastingBS=0, RestingECG='ST', MaxHR=140, ExerciseAngina='N', Oldpeak=4.4, ST_Slope='Down', HeartDisease=1),\n",
              " Row(Age=58, Sex='F', ChestPainType='ASY', RestingBP=170, Cholesterol=225, FastingBS=1, RestingECG='LVH', MaxHR=146, ExerciseAngina='Y', Oldpeak=2.8, ST_Slope='Flat', HeartDisease=1),\n",
              " Row(Age=58, Sex='M', ChestPainType='ATA', RestingBP=125, Cholesterol=220, FastingBS=0, RestingECG='Normal', MaxHR=144, ExerciseAngina='N', Oldpeak=0.4, ST_Slope='Flat', HeartDisease=0),\n",
              " Row(Age=56, Sex='M', ChestPainType='ATA', RestingBP=130, Cholesterol=221, FastingBS=0, RestingECG='LVH', MaxHR=163, ExerciseAngina='N', Oldpeak=0.0, ST_Slope='Up', HeartDisease=0),\n",
              " Row(Age=56, Sex='M', ChestPainType='ATA', RestingBP=120, Cholesterol=240, FastingBS=0, RestingECG='Normal', MaxHR=169, ExerciseAngina='N', Oldpeak=0.0, ST_Slope='Down', HeartDisease=0),\n",
              " Row(Age=67, Sex='M', ChestPainType='NAP', RestingBP=152, Cholesterol=212, FastingBS=0, RestingECG='LVH', MaxHR=150, ExerciseAngina='N', Oldpeak=0.8, ST_Slope='Flat', HeartDisease=1),\n",
              " Row(Age=55, Sex='F', ChestPainType='ATA', RestingBP=132, Cholesterol=342, FastingBS=0, RestingECG='Normal', MaxHR=166, ExerciseAngina='N', Oldpeak=1.2, ST_Slope='Up', HeartDisease=0),\n",
              " Row(Age=44, Sex='M', ChestPainType='ASY', RestingBP=120, Cholesterol=169, FastingBS=0, RestingECG='Normal', MaxHR=144, ExerciseAngina='Y', Oldpeak=2.8, ST_Slope='Down', HeartDisease=1),\n",
              " Row(Age=63, Sex='M', ChestPainType='ASY', RestingBP=140, Cholesterol=187, FastingBS=0, RestingECG='LVH', MaxHR=144, ExerciseAngina='Y', Oldpeak=4.0, ST_Slope='Up', HeartDisease=1),\n",
              " Row(Age=63, Sex='F', ChestPainType='ASY', RestingBP=124, Cholesterol=197, FastingBS=0, RestingECG='Normal', MaxHR=136, ExerciseAngina='Y', Oldpeak=0.0, ST_Slope='Flat', HeartDisease=1),\n",
              " Row(Age=41, Sex='M', ChestPainType='ATA', RestingBP=120, Cholesterol=157, FastingBS=0, RestingECG='Normal', MaxHR=182, ExerciseAngina='N', Oldpeak=0.0, ST_Slope='Up', HeartDisease=0),\n",
              " Row(Age=59, Sex='M', ChestPainType='ASY', RestingBP=164, Cholesterol=176, FastingBS=1, RestingECG='LVH', MaxHR=90, ExerciseAngina='N', Oldpeak=1.0, ST_Slope='Flat', HeartDisease=1),\n",
              " Row(Age=57, Sex='F', ChestPainType='ASY', RestingBP=140, Cholesterol=241, FastingBS=0, RestingECG='Normal', MaxHR=123, ExerciseAngina='Y', Oldpeak=0.2, ST_Slope='Flat', HeartDisease=1),\n",
              " Row(Age=45, Sex='M', ChestPainType='TA', RestingBP=110, Cholesterol=264, FastingBS=0, RestingECG='Normal', MaxHR=132, ExerciseAngina='N', Oldpeak=1.2, ST_Slope='Flat', HeartDisease=1),\n",
              " Row(Age=68, Sex='M', ChestPainType='ASY', RestingBP=144, Cholesterol=193, FastingBS=1, RestingECG='Normal', MaxHR=141, ExerciseAngina='N', Oldpeak=3.4, ST_Slope='Flat', HeartDisease=1),\n",
              " Row(Age=57, Sex='M', ChestPainType='ASY', RestingBP=130, Cholesterol=131, FastingBS=0, RestingECG='Normal', MaxHR=115, ExerciseAngina='Y', Oldpeak=1.2, ST_Slope='Flat', HeartDisease=1),\n",
              " Row(Age=57, Sex='F', ChestPainType='ATA', RestingBP=130, Cholesterol=236, FastingBS=0, RestingECG='LVH', MaxHR=174, ExerciseAngina='N', Oldpeak=0.0, ST_Slope='Flat', HeartDisease=1),\n",
              " Row(Age=38, Sex='M', ChestPainType='NAP', RestingBP=138, Cholesterol=175, FastingBS=0, RestingECG='Normal', MaxHR=173, ExerciseAngina='N', Oldpeak=0.0, ST_Slope='Up', HeartDisease=0)]"
            ]
          },
          "metadata": {},
          "execution_count": 119
        }
      ]
    },
    {
      "cell_type": "code",
      "source": [
        "df.head()"
      ],
      "metadata": {
        "colab": {
          "base_uri": "https://localhost:8080/"
        },
        "id": "8QDY7-p0Yanz",
        "outputId": "66df5da1-23fc-4901-c474-a33a15dee9bc"
      },
      "execution_count": 120,
      "outputs": [
        {
          "output_type": "execute_result",
          "data": {
            "text/plain": [
              "Row(Age=40, Sex='M', ChestPainType='ATA', RestingBP=140, Cholesterol=289, FastingBS=0, RestingECG='Normal', MaxHR=172, ExerciseAngina='N', Oldpeak=0.0, ST_Slope='Up', HeartDisease=0)"
            ]
          },
          "metadata": {},
          "execution_count": 120
        }
      ]
    },
    {
      "cell_type": "code",
      "source": [
        "df.take(3)"
      ],
      "metadata": {
        "colab": {
          "base_uri": "https://localhost:8080/"
        },
        "id": "aNCdhuRxZQrB",
        "outputId": "2eed7733-9c77-4ccf-d31c-95c8d005fb65"
      },
      "execution_count": 121,
      "outputs": [
        {
          "output_type": "execute_result",
          "data": {
            "text/plain": [
              "[Row(Age=40, Sex='M', ChestPainType='ATA', RestingBP=140, Cholesterol=289, FastingBS=0, RestingECG='Normal', MaxHR=172, ExerciseAngina='N', Oldpeak=0.0, ST_Slope='Up', HeartDisease=0),\n",
              " Row(Age=49, Sex='F', ChestPainType='NAP', RestingBP=160, Cholesterol=180, FastingBS=0, RestingECG='Normal', MaxHR=156, ExerciseAngina='N', Oldpeak=1.0, ST_Slope='Flat', HeartDisease=1),\n",
              " Row(Age=37, Sex='M', ChestPainType='ATA', RestingBP=130, Cholesterol=283, FastingBS=0, RestingECG='ST', MaxHR=98, ExerciseAngina='N', Oldpeak=0.0, ST_Slope='Up', HeartDisease=0)]"
            ]
          },
          "metadata": {},
          "execution_count": 121
        }
      ]
    },
    {
      "cell_type": "code",
      "source": [
        "df.show(2)"
      ],
      "metadata": {
        "id": "xFApE_PSaPqM",
        "colab": {
          "base_uri": "https://localhost:8080/"
        },
        "outputId": "0507c0c5-9f8b-49e6-a92d-c4b43d3175ef"
      },
      "execution_count": 122,
      "outputs": [
        {
          "output_type": "stream",
          "name": "stdout",
          "text": [
            "+---+---+-------------+---------+-----------+---------+----------+-----+--------------+-------+--------+------------+\n",
            "|Age|Sex|ChestPainType|RestingBP|Cholesterol|FastingBS|RestingECG|MaxHR|ExerciseAngina|Oldpeak|ST_Slope|HeartDisease|\n",
            "+---+---+-------------+---------+-----------+---------+----------+-----+--------------+-------+--------+------------+\n",
            "| 40|  M|          ATA|      140|        289|        0|    Normal|  172|             N|    0.0|      Up|           0|\n",
            "| 49|  F|          NAP|      160|        180|        0|    Normal|  156|             N|    1.0|    Flat|           1|\n",
            "+---+---+-------------+---------+-----------+---------+----------+-----+--------------+-------+--------+------------+\n",
            "only showing top 2 rows\n",
            "\n"
          ]
        }
      ]
    },
    {
      "cell_type": "code",
      "source": [
        "df.groupby('ChestPainType').count"
      ],
      "metadata": {
        "colab": {
          "base_uri": "https://localhost:8080/",
          "height": 186
        },
        "id": "9ZaNBjqea9M0",
        "outputId": "33ea22dd-0af5-4dc2-ad85-8abc33b21a0f"
      },
      "execution_count": 123,
      "outputs": [
        {
          "output_type": "execute_result",
          "data": {
            "text/plain": [
              "<bound method dfapi.<locals>._api of GroupedData[grouping expressions: [ChestPainType], value: [Age: int, Sex: string ... 10 more fields], type: GroupBy]>"
            ],
            "text/html": [
              "<div style=\"max-width:800px; border: 1px solid var(--colab-border-color);\"><style>\n",
              "      pre.function-repr-contents {\n",
              "        overflow-x: auto;\n",
              "        padding: 8px 12px;\n",
              "        max-height: 500px;\n",
              "      }\n",
              "\n",
              "      pre.function-repr-contents.function-repr-contents-collapsed {\n",
              "        cursor: pointer;\n",
              "        max-height: 100px;\n",
              "      }\n",
              "    </style>\n",
              "    <pre style=\"white-space: initial; background:\n",
              "         var(--colab-secondary-surface-color); padding: 8px 12px;\n",
              "         border-bottom: 1px solid var(--colab-border-color);\"><b>pyspark.sql.group.dfapi.&lt;locals&gt;._api</b><br/>def _api() -&gt; DataFrame</pre><pre class=\"function-repr-contents function-repr-contents-collapsed\" style=\"\"><a class=\"filepath\" style=\"display:none\" href=\"#\">/usr/local/lib/python3.10/dist-packages/pyspark/sql/group.py</a>Counts the number of records for each group.\n",
              "\n",
              ".. versionadded:: 1.3.0\n",
              "\n",
              ".. versionchanged:: 3.4.0\n",
              "    Supports Spark Connect.\n",
              "\n",
              "Examples\n",
              "--------\n",
              "&gt;&gt;&gt; df = spark.createDataFrame(\n",
              "...      [(2, &quot;Alice&quot;), (3, &quot;Alice&quot;), (5, &quot;Bob&quot;), (10, &quot;Bob&quot;)], [&quot;age&quot;, &quot;name&quot;])\n",
              "&gt;&gt;&gt; df.show()\n",
              "+---+-----+\n",
              "|age| name|\n",
              "+---+-----+\n",
              "|  2|Alice|\n",
              "|  3|Alice|\n",
              "|  5|  Bob|\n",
              "| 10|  Bob|\n",
              "+---+-----+\n",
              "\n",
              "Group-by name, and count each group.\n",
              "\n",
              "&gt;&gt;&gt; df.groupBy(df.name).count().sort(&quot;name&quot;).show()\n",
              "+-----+-----+\n",
              "| name|count|\n",
              "+-----+-----+\n",
              "|Alice|    2|\n",
              "|  Bob|    2|\n",
              "+-----+-----+</pre>\n",
              "      <script>\n",
              "      if (google.colab.kernel.accessAllowed && google.colab.files && google.colab.files.view) {\n",
              "        for (const element of document.querySelectorAll('.filepath')) {\n",
              "          element.style.display = 'block'\n",
              "          element.onclick = (event) => {\n",
              "            event.preventDefault();\n",
              "            event.stopPropagation();\n",
              "            google.colab.files.view(element.textContent, 36);\n",
              "          };\n",
              "        }\n",
              "      }\n",
              "      for (const element of document.querySelectorAll('.function-repr-contents')) {\n",
              "        element.onclick = (event) => {\n",
              "          event.preventDefault();\n",
              "          event.stopPropagation();\n",
              "          element.classList.toggle('function-repr-contents-collapsed');\n",
              "        };\n",
              "      }\n",
              "      </script>\n",
              "      </div>"
            ]
          },
          "metadata": {},
          "execution_count": 123
        }
      ]
    },
    {
      "cell_type": "code",
      "source": [
        "df.show(3)"
      ],
      "metadata": {
        "colab": {
          "base_uri": "https://localhost:8080/"
        },
        "id": "wg0TI0pAt-zc",
        "outputId": "ce639b62-fa7e-466f-ab8c-d9a910a6967c"
      },
      "execution_count": 124,
      "outputs": [
        {
          "output_type": "stream",
          "name": "stdout",
          "text": [
            "+---+---+-------------+---------+-----------+---------+----------+-----+--------------+-------+--------+------------+\n",
            "|Age|Sex|ChestPainType|RestingBP|Cholesterol|FastingBS|RestingECG|MaxHR|ExerciseAngina|Oldpeak|ST_Slope|HeartDisease|\n",
            "+---+---+-------------+---------+-----------+---------+----------+-----+--------------+-------+--------+------------+\n",
            "| 40|  M|          ATA|      140|        289|        0|    Normal|  172|             N|    0.0|      Up|           0|\n",
            "| 49|  F|          NAP|      160|        180|        0|    Normal|  156|             N|    1.0|    Flat|           1|\n",
            "| 37|  M|          ATA|      130|        283|        0|        ST|   98|             N|    0.0|      Up|           0|\n",
            "+---+---+-------------+---------+-----------+---------+----------+-----+--------------+-------+--------+------------+\n",
            "only showing top 3 rows\n",
            "\n"
          ]
        }
      ]
    },
    {
      "cell_type": "code",
      "source": [
        "from pyspark.ml import Pipeline\n",
        "from pyspark.ml.feature import StringIndexer\n",
        "\n",
        "indexers = [\n",
        "    StringIndexer(inputCol=column, outputCol=column+\"_a\").fit(df)\n",
        "    for column in ['Sex', 'RestingECG', 'ExerciseAngina', 'ST_Slope','ChestPainType']\n",
        "]\n",
        "\n",
        "pipeline = Pipeline(stages=indexers)\n",
        "df_indexed = pipeline.fit(df).transform(df)\n",
        "\n",
        "df_indexed.show()\n"
      ],
      "metadata": {
        "colab": {
          "base_uri": "https://localhost:8080/"
        },
        "id": "elfp3cLstyZ1",
        "outputId": "c52b06f1-7b55-419f-adb5-78c3c32cb906"
      },
      "execution_count": 125,
      "outputs": [
        {
          "output_type": "stream",
          "name": "stdout",
          "text": [
            "+---+---+-------------+---------+-----------+---------+----------+-----+--------------+-------+--------+------------+-----+------------+----------------+----------+---------------+\n",
            "|Age|Sex|ChestPainType|RestingBP|Cholesterol|FastingBS|RestingECG|MaxHR|ExerciseAngina|Oldpeak|ST_Slope|HeartDisease|Sex_a|RestingECG_a|ExerciseAngina_a|ST_Slope_a|ChestPainType_a|\n",
            "+---+---+-------------+---------+-----------+---------+----------+-----+--------------+-------+--------+------------+-----+------------+----------------+----------+---------------+\n",
            "| 40|  M|          ATA|      140|        289|        0|    Normal|  172|             N|    0.0|      Up|           0|  0.0|         0.0|             0.0|       1.0|            2.0|\n",
            "| 49|  F|          NAP|      160|        180|        0|    Normal|  156|             N|    1.0|    Flat|           1|  1.0|         0.0|             0.0|       0.0|            1.0|\n",
            "| 37|  M|          ATA|      130|        283|        0|        ST|   98|             N|    0.0|      Up|           0|  0.0|         2.0|             0.0|       1.0|            2.0|\n",
            "| 48|  F|          ASY|      138|        214|        0|    Normal|  108|             Y|    1.5|    Flat|           1|  1.0|         0.0|             1.0|       0.0|            0.0|\n",
            "| 54|  M|          NAP|      150|        195|        0|    Normal|  122|             N|    0.0|      Up|           0|  0.0|         0.0|             0.0|       1.0|            1.0|\n",
            "| 39|  M|          NAP|      120|        339|        0|    Normal|  170|             N|    0.0|      Up|           0|  0.0|         0.0|             0.0|       1.0|            1.0|\n",
            "| 45|  F|          ATA|      130|        237|        0|    Normal|  170|             N|    0.0|      Up|           0|  1.0|         0.0|             0.0|       1.0|            2.0|\n",
            "| 54|  M|          ATA|      110|        208|        0|    Normal|  142|             N|    0.0|      Up|           0|  0.0|         0.0|             0.0|       1.0|            2.0|\n",
            "| 37|  M|          ASY|      140|        207|        0|    Normal|  130|             Y|    1.5|    Flat|           1|  0.0|         0.0|             1.0|       0.0|            0.0|\n",
            "| 48|  F|          ATA|      120|        284|        0|    Normal|  120|             N|    0.0|      Up|           0|  1.0|         0.0|             0.0|       1.0|            2.0|\n",
            "| 37|  F|          NAP|      130|        211|        0|    Normal|  142|             N|    0.0|      Up|           0|  1.0|         0.0|             0.0|       1.0|            1.0|\n",
            "| 58|  M|          ATA|      136|        164|        0|        ST|   99|             Y|    2.0|    Flat|           1|  0.0|         2.0|             1.0|       0.0|            2.0|\n",
            "| 39|  M|          ATA|      120|        204|        0|    Normal|  145|             N|    0.0|      Up|           0|  0.0|         0.0|             0.0|       1.0|            2.0|\n",
            "| 49|  M|          ASY|      140|        234|        0|    Normal|  140|             Y|    1.0|    Flat|           1|  0.0|         0.0|             1.0|       0.0|            0.0|\n",
            "| 42|  F|          NAP|      115|        211|        0|        ST|  137|             N|    0.0|      Up|           0|  1.0|         2.0|             0.0|       1.0|            1.0|\n",
            "| 54|  F|          ATA|      120|        273|        0|    Normal|  150|             N|    1.5|    Flat|           0|  1.0|         0.0|             0.0|       0.0|            2.0|\n",
            "| 38|  M|          ASY|      110|        196|        0|    Normal|  166|             N|    0.0|    Flat|           1|  0.0|         0.0|             0.0|       0.0|            0.0|\n",
            "| 43|  F|          ATA|      120|        201|        0|    Normal|  165|             N|    0.0|      Up|           0|  1.0|         0.0|             0.0|       1.0|            2.0|\n",
            "| 60|  M|          ASY|      100|        248|        0|    Normal|  125|             N|    1.0|    Flat|           1|  0.0|         0.0|             0.0|       0.0|            0.0|\n",
            "| 36|  M|          ATA|      120|        267|        0|    Normal|  160|             N|    3.0|    Flat|           1|  0.0|         0.0|             0.0|       0.0|            2.0|\n",
            "+---+---+-------------+---------+-----------+---------+----------+-----+--------------+-------+--------+------------+-----+------------+----------------+----------+---------------+\n",
            "only showing top 20 rows\n",
            "\n"
          ]
        }
      ]
    },
    {
      "cell_type": "code",
      "source": [
        "\n",
        "cole=['Sex', 'RestingECG', 'ExerciseAngina', 'ST_Slope','ChestPainType']\n",
        "df=df.drop(*cole)\n",
        "df.show()"
      ],
      "metadata": {
        "id": "9cZHWglpQa1x",
        "colab": {
          "base_uri": "https://localhost:8080/"
        },
        "outputId": "8cc42a3d-dae6-4d47-f785-3bc572006abc"
      },
      "execution_count": 126,
      "outputs": [
        {
          "output_type": "stream",
          "name": "stdout",
          "text": [
            "+---+---------+-----------+---------+-----+-------+------------+\n",
            "|Age|RestingBP|Cholesterol|FastingBS|MaxHR|Oldpeak|HeartDisease|\n",
            "+---+---------+-----------+---------+-----+-------+------------+\n",
            "| 40|      140|        289|        0|  172|    0.0|           0|\n",
            "| 49|      160|        180|        0|  156|    1.0|           1|\n",
            "| 37|      130|        283|        0|   98|    0.0|           0|\n",
            "| 48|      138|        214|        0|  108|    1.5|           1|\n",
            "| 54|      150|        195|        0|  122|    0.0|           0|\n",
            "| 39|      120|        339|        0|  170|    0.0|           0|\n",
            "| 45|      130|        237|        0|  170|    0.0|           0|\n",
            "| 54|      110|        208|        0|  142|    0.0|           0|\n",
            "| 37|      140|        207|        0|  130|    1.5|           1|\n",
            "| 48|      120|        284|        0|  120|    0.0|           0|\n",
            "| 37|      130|        211|        0|  142|    0.0|           0|\n",
            "| 58|      136|        164|        0|   99|    2.0|           1|\n",
            "| 39|      120|        204|        0|  145|    0.0|           0|\n",
            "| 49|      140|        234|        0|  140|    1.0|           1|\n",
            "| 42|      115|        211|        0|  137|    0.0|           0|\n",
            "| 54|      120|        273|        0|  150|    1.5|           0|\n",
            "| 38|      110|        196|        0|  166|    0.0|           1|\n",
            "| 43|      120|        201|        0|  165|    0.0|           0|\n",
            "| 60|      100|        248|        0|  125|    1.0|           1|\n",
            "| 36|      120|        267|        0|  160|    3.0|           1|\n",
            "+---+---------+-----------+---------+-----+-------+------------+\n",
            "only showing top 20 rows\n",
            "\n"
          ]
        }
      ]
    },
    {
      "cell_type": "code",
      "source": [
        "x=['Age','RestingBP','Cholesterol','FastingBS','MaxHR','Oldpeak']\n",
        "y=['HeartDisease']\n",
        "full_coll=['Age','RestingBP','Cholesterol','FastingBS','MaxHR','Oldpeak','HeartDisease']"
      ],
      "metadata": {
        "id": "sbmJkizar_96"
      },
      "execution_count": 127,
      "outputs": []
    },
    {
      "cell_type": "code",
      "source": [
        "from pyspark.ml.feature import VectorAssembler\n",
        "va=VectorAssembler(inputCols=x,outputCol='merge')\n",
        "df=va.transform(df)\n",
        "df.show(3)"
      ],
      "metadata": {
        "colab": {
          "base_uri": "https://localhost:8080/"
        },
        "id": "MwcMnsojwFdg",
        "outputId": "e07fa7e6-fe42-4af3-bf08-091f4d8c343e"
      },
      "execution_count": 128,
      "outputs": [
        {
          "output_type": "stream",
          "name": "stdout",
          "text": [
            "+---+---------+-----------+---------+-----+-------+------------+--------------------+\n",
            "|Age|RestingBP|Cholesterol|FastingBS|MaxHR|Oldpeak|HeartDisease|               merge|\n",
            "+---+---------+-----------+---------+-----+-------+------------+--------------------+\n",
            "| 40|      140|        289|        0|  172|    0.0|           0|[40.0,140.0,289.0...|\n",
            "| 49|      160|        180|        0|  156|    1.0|           1|[49.0,160.0,180.0...|\n",
            "| 37|      130|        283|        0|   98|    0.0|           0|[37.0,130.0,283.0...|\n",
            "+---+---------+-----------+---------+-----+-------+------------+--------------------+\n",
            "only showing top 3 rows\n",
            "\n"
          ]
        }
      ]
    },
    {
      "cell_type": "code",
      "source": [
        "dataset=df.select(['merge','HeartDisease'])\n",
        "dataset.show(5)"
      ],
      "metadata": {
        "colab": {
          "base_uri": "https://localhost:8080/"
        },
        "id": "5CBVGv9R5HdB",
        "outputId": "37986451-2659-4847-a458-1672e7f65361"
      },
      "execution_count": 129,
      "outputs": [
        {
          "output_type": "stream",
          "name": "stdout",
          "text": [
            "+--------------------+------------+\n",
            "|               merge|HeartDisease|\n",
            "+--------------------+------------+\n",
            "|[40.0,140.0,289.0...|           0|\n",
            "|[49.0,160.0,180.0...|           1|\n",
            "|[37.0,130.0,283.0...|           0|\n",
            "|[48.0,138.0,214.0...|           1|\n",
            "|[54.0,150.0,195.0...|           0|\n",
            "+--------------------+------------+\n",
            "only showing top 5 rows\n",
            "\n"
          ]
        }
      ]
    },
    {
      "cell_type": "code",
      "source": [
        "train_set,test_set=dataset.randomSplit([0.75,0.25])"
      ],
      "metadata": {
        "id": "NntgZ_E15fAu"
      },
      "execution_count": 130,
      "outputs": []
    },
    {
      "cell_type": "code",
      "source": [
        "from pyspark.ml.classification import RandomForestClassifier,LogisticRegression,DecisionTreeClassifier"
      ],
      "metadata": {
        "id": "_cRtP-ae5fJT"
      },
      "execution_count": 131,
      "outputs": []
    },
    {
      "cell_type": "code",
      "source": [
        "RF=RandomForestClassifier(featuresCol='merge',labelCol='HeartDisease',numTrees=50)\n",
        "LO=LogisticRegression(featuresCol='merge',labelCol='HeartDisease')\n",
        "DT=DecisionTreeClassifier(featuresCol='merge',labelCol='HeartDisease')"
      ],
      "metadata": {
        "id": "mgdPQ6Jh5fQ3"
      },
      "execution_count": 134,
      "outputs": []
    },
    {
      "cell_type": "code",
      "source": [
        "RF=RF.fit(train_set)\n",
        "LO=LO.fit(train_set)\n",
        "DT=DT.fit(train_set)"
      ],
      "metadata": {
        "id": "qZFom_jI78Bc"
      },
      "execution_count": 135,
      "outputs": []
    },
    {
      "cell_type": "code",
      "source": [
        "rf_pred=RF.transform(test_set)\n",
        "lo_pred=LO.transform(test_set)\n",
        "dt_pred=LO.transform(test_set)"
      ],
      "metadata": {
        "id": "sRNvRXghIVVh"
      },
      "execution_count": 137,
      "outputs": []
    },
    {
      "cell_type": "code",
      "source": [
        "from pyspark.ml.evaluation import BinaryClassificationEvaluator\n",
        "eval = BinaryClassificationEvaluator(labelCol='HeartDisease')"
      ],
      "metadata": {
        "id": "QLCcRntsHG7F"
      },
      "execution_count": 138,
      "outputs": []
    },
    {
      "cell_type": "code",
      "source": [
        "accu_random=eval.evaluate(rf_pred)\n",
        "accu_score_Logestic=eval.evaluate(lo_pred)\n",
        "accu_score_desition=eval.evaluate(dt_pred)"
      ],
      "metadata": {
        "id": "jHJoneowHHEa"
      },
      "execution_count": 140,
      "outputs": []
    },
    {
      "cell_type": "code",
      "source": [
        "accu_random"
      ],
      "metadata": {
        "colab": {
          "base_uri": "https://localhost:8080/"
        },
        "id": "Mvi2efMsJGGV",
        "outputId": "57cf18eb-eb21-444f-db4d-a040b355f445"
      },
      "execution_count": 141,
      "outputs": [
        {
          "output_type": "execute_result",
          "data": {
            "text/plain": [
              "0.8551091269841271"
            ]
          },
          "metadata": {},
          "execution_count": 141
        }
      ]
    },
    {
      "cell_type": "code",
      "source": [
        "accu_score_Logestic"
      ],
      "metadata": {
        "colab": {
          "base_uri": "https://localhost:8080/"
        },
        "id": "XRJ1wOmWJGSl",
        "outputId": "966fb508-e0e2-476b-8967-45117d5bc25e"
      },
      "execution_count": 142,
      "outputs": [
        {
          "output_type": "execute_result",
          "data": {
            "text/plain": [
              "0.8602182539682542"
            ]
          },
          "metadata": {},
          "execution_count": 142
        }
      ]
    },
    {
      "cell_type": "code",
      "source": [
        "accu_score_desition"
      ],
      "metadata": {
        "colab": {
          "base_uri": "https://localhost:8080/"
        },
        "id": "0F6YFcqXJG3j",
        "outputId": "0e603ba3-a15f-4020-cd82-a8ae80d9aa16"
      },
      "execution_count": 143,
      "outputs": [
        {
          "output_type": "execute_result",
          "data": {
            "text/plain": [
              "0.8602182539682542"
            ]
          },
          "metadata": {},
          "execution_count": 143
        }
      ]
    },
    {
      "cell_type": "code",
      "source": [],
      "metadata": {
        "id": "b-a65jmG8Y6J"
      },
      "execution_count": null,
      "outputs": []
    }
  ]
}